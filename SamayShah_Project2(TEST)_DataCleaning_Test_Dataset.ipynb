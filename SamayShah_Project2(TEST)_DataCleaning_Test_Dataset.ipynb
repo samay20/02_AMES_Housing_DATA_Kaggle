{
 "cells": [
  {
   "cell_type": "markdown",
   "metadata": {},
   "source": [
    "# Project 2 - Ames Housing Data and Kaggle Challenge"
   ]
  },
  {
   "cell_type": "markdown",
   "metadata": {},
   "source": [
    "### Run 'Test' Dataset through this file - refer readme for more information on how to use this file"
   ]
  },
  {
   "cell_type": "markdown",
   "metadata": {},
   "source": [
    " "
   ]
  },
  {
   "cell_type": "markdown",
   "metadata": {},
   "source": [
    "## Executive Summary\n",
    "\n",
    "### Contents:\n",
    "- [READ ME](#Import-Libraries)\n",
    "- [DATA DICTIONARY](#EDA-Step1:-Check-for-datatypes-and-missing-values)\n",
    "- [GO TO MAIN TRAINING FILE](SamayShah_Project2(Main_TRAIN)_DataCleaning_Train_Dataset.ipynb)\n",
    "- [FINAL MODEL Dataset Export - Model#4](SamayShah_MODEL%234__FINAL_MODEL__.ipynb)"
   ]
  },
  {
   "cell_type": "markdown",
   "metadata": {},
   "source": [
    "## Perform EDA and Export dataset"
   ]
  },
  {
   "cell_type": "code",
   "execution_count": 1,
   "metadata": {},
   "outputs": [],
   "source": [
    "## Linear Regression Models under separate files"
   ]
  },
  {
   "cell_type": "code",
   "execution_count": 2,
   "metadata": {},
   "outputs": [],
   "source": [
    "## Import libraries for EDA\n",
    "\n",
    "import numpy as np\n",
    "import pandas as pd\n",
    "import matplotlib.pyplot as plt\n",
    "import seaborn as sns\n",
    "\n",
    "%matplotlib inline"
   ]
  },
  {
   "cell_type": "code",
   "execution_count": 3,
   "metadata": {},
   "outputs": [
    {
     "data": {
      "text/html": [
       "<div>\n",
       "<style scoped>\n",
       "    .dataframe tbody tr th:only-of-type {\n",
       "        vertical-align: middle;\n",
       "    }\n",
       "\n",
       "    .dataframe tbody tr th {\n",
       "        vertical-align: top;\n",
       "    }\n",
       "\n",
       "    .dataframe thead th {\n",
       "        text-align: right;\n",
       "    }\n",
       "</style>\n",
       "<table border=\"1\" class=\"dataframe\">\n",
       "  <thead>\n",
       "    <tr style=\"text-align: right;\">\n",
       "      <th></th>\n",
       "      <th>Id</th>\n",
       "      <th>PID</th>\n",
       "      <th>MS SubClass</th>\n",
       "      <th>MS Zoning</th>\n",
       "      <th>Lot Frontage</th>\n",
       "      <th>Lot Area</th>\n",
       "      <th>Street</th>\n",
       "      <th>Alley</th>\n",
       "      <th>Lot Shape</th>\n",
       "      <th>Land Contour</th>\n",
       "      <th>...</th>\n",
       "      <th>3Ssn Porch</th>\n",
       "      <th>Screen Porch</th>\n",
       "      <th>Pool Area</th>\n",
       "      <th>Pool QC</th>\n",
       "      <th>Fence</th>\n",
       "      <th>Misc Feature</th>\n",
       "      <th>Misc Val</th>\n",
       "      <th>Mo Sold</th>\n",
       "      <th>Yr Sold</th>\n",
       "      <th>Sale Type</th>\n",
       "    </tr>\n",
       "  </thead>\n",
       "  <tbody>\n",
       "    <tr>\n",
       "      <th>0</th>\n",
       "      <td>2658</td>\n",
       "      <td>902301120</td>\n",
       "      <td>190</td>\n",
       "      <td>RM</td>\n",
       "      <td>69.0</td>\n",
       "      <td>9142</td>\n",
       "      <td>Pave</td>\n",
       "      <td>Grvl</td>\n",
       "      <td>Reg</td>\n",
       "      <td>Lvl</td>\n",
       "      <td>...</td>\n",
       "      <td>0</td>\n",
       "      <td>0</td>\n",
       "      <td>0</td>\n",
       "      <td>NaN</td>\n",
       "      <td>NaN</td>\n",
       "      <td>NaN</td>\n",
       "      <td>0</td>\n",
       "      <td>4</td>\n",
       "      <td>2006</td>\n",
       "      <td>WD</td>\n",
       "    </tr>\n",
       "  </tbody>\n",
       "</table>\n",
       "<p>1 rows × 80 columns</p>\n",
       "</div>"
      ],
      "text/plain": [
       "     Id        PID  MS SubClass MS Zoning  Lot Frontage  Lot Area Street  \\\n",
       "0  2658  902301120          190        RM          69.0      9142   Pave   \n",
       "\n",
       "  Alley Lot Shape Land Contour  ... 3Ssn Porch Screen Porch Pool Area Pool QC  \\\n",
       "0  Grvl       Reg          Lvl  ...          0            0         0     NaN   \n",
       "\n",
       "  Fence Misc Feature Misc Val Mo Sold  Yr Sold  Sale Type  \n",
       "0   NaN          NaN        0       4     2006        WD   \n",
       "\n",
       "[1 rows x 80 columns]"
      ]
     },
     "execution_count": 3,
     "metadata": {},
     "output_type": "execute_result"
    }
   ],
   "source": [
    "## Read our train.csv file\n",
    "\n",
    "df = pd.read_csv('./datasets/Test/test.csv')\n",
    "df.head(1)"
   ]
  },
  {
   "cell_type": "markdown",
   "metadata": {},
   "source": [
    " "
   ]
  },
  {
   "cell_type": "markdown",
   "metadata": {},
   "source": [
    "## EDA Step1: Check for datatypes and missing values"
   ]
  },
  {
   "cell_type": "code",
   "execution_count": 4,
   "metadata": {},
   "outputs": [],
   "source": [
    "## Will also try and map/group some simple features in this section"
   ]
  },
  {
   "cell_type": "code",
   "execution_count": 5,
   "metadata": {},
   "outputs": [],
   "source": [
    "##1 Lot Frontage Feature\n",
    "##Replace missing values for 'Lot Frontage' with .median() values\n",
    "\n",
    "for i in ['Lot Frontage']:\n",
    "    df.loc[df.loc[:,i].isnull(),i]=df.loc[:,i].median()"
   ]
  },
  {
   "cell_type": "code",
   "execution_count": 6,
   "metadata": {},
   "outputs": [],
   "source": [
    "##Change the datatype to integer for easy calculations\n",
    "\n",
    "df['Lot Frontage'] = df['Lot Frontage'].astype(int)"
   ]
  },
  {
   "cell_type": "code",
   "execution_count": 7,
   "metadata": {},
   "outputs": [
    {
     "data": {
      "text/plain": [
       "Pave    873\n",
       "Grvl      5\n",
       "Name: Street, dtype: int64"
      ]
     },
     "execution_count": 7,
     "metadata": {},
     "output_type": "execute_result"
    }
   ],
   "source": [
    "##2 Street Feature\n",
    "\n",
    "df['Street'].value_counts()"
   ]
  },
  {
   "cell_type": "code",
   "execution_count": 8,
   "metadata": {},
   "outputs": [],
   "source": [
    "##Dummify this feature manually\n",
    "\n",
    "df['Street_isPaved'] = df['Street'].map({'Pave':1,'Grvl':0})"
   ]
  },
  {
   "cell_type": "code",
   "execution_count": 9,
   "metadata": {},
   "outputs": [
    {
     "data": {
      "text/plain": [
       "Reg    564\n",
       "IR1    286\n",
       "IR2     21\n",
       "IR3      7\n",
       "Name: Lot Shape, dtype: int64"
      ]
     },
     "execution_count": 9,
     "metadata": {},
     "output_type": "execute_result"
    }
   ],
   "source": [
    "##3 Lot Shape Feature\n",
    "\n",
    "df['Lot Shape'].value_counts()"
   ]
  },
  {
   "cell_type": "code",
   "execution_count": 10,
   "metadata": {},
   "outputs": [],
   "source": [
    "##Dummify this feature manually\n",
    "\n",
    "df['Lotshape_isRegular'] = df['Lot Shape'].map({'Reg':1,'IR1':0,'IR2':0,'IR3':0})"
   ]
  },
  {
   "cell_type": "code",
   "execution_count": 11,
   "metadata": {},
   "outputs": [],
   "source": [
    "##4 Land Contour Feature\n",
    "##Dummify this feature manually\n",
    "\n",
    "df['isLandLevel'] = df['Land Contour'].map({'Lvl':1,'HLS':0,'Bnk':0,'Low':0})"
   ]
  },
  {
   "cell_type": "code",
   "execution_count": 12,
   "metadata": {},
   "outputs": [],
   "source": [
    "##5 Lot Config Feature\n",
    "##Dummify this feature manually - 3 groups\n",
    "\n",
    "df['isLotInside'] = df['Lot Config'].map({'Inside':1,'CulDSac':0,'Corner':0,'FR2':0,'FR3':0})\n",
    "df['isLotCorner'] = df['Lot Config'].map({'Inside':0,'CulDSac':0,'Corner':1,'FR2':0,'FR3':0})\n",
    "df['isLotCulDSac'] = df['Lot Config'].map({'Inside':0,'CulDSac':1,'Corner':0,'FR2':0,'FR3':0})"
   ]
  },
  {
   "cell_type": "code",
   "execution_count": 13,
   "metadata": {},
   "outputs": [],
   "source": [
    "##6 Land Slope Feature\n",
    "##Dummify this feature manually\n",
    "\n",
    "df['isSlopeNormal'] = df['Land Slope'].map({'Gtl':1,'Mod':0,'Sev':0})"
   ]
  },
  {
   "cell_type": "code",
   "execution_count": 14,
   "metadata": {},
   "outputs": [
    {
     "data": {
      "text/plain": [
       "1    835\n",
       "0     43\n",
       "Name: isSlopeNormal, dtype: int64"
      ]
     },
     "execution_count": 14,
     "metadata": {},
     "output_type": "execute_result"
    }
   ],
   "source": [
    "## Test if dummified correctly\n",
    "\n",
    "df['isSlopeNormal'].value_counts()"
   ]
  },
  {
   "cell_type": "code",
   "execution_count": 15,
   "metadata": {},
   "outputs": [],
   "source": [
    "##7 Condition 1 - Feature\n",
    "## Grouped/Renamed - to dummify later\n",
    "\n",
    "df['proximity_to'] = df['Condition 1'].map({'Artery':'veryClose','Feedr':'veryClose','RRAn':'veryClose','RRAe':'veryClose',\n",
    "                                            'Norm':'close',\n",
    "                                            'RRNn':'far','PosA':'far','PosN':'far','RRNe':'far'})"
   ]
  },
  {
   "cell_type": "code",
   "execution_count": 16,
   "metadata": {},
   "outputs": [],
   "source": [
    "##8 Neighbourhood Feature\n",
    "## Grouped/Renamed - to dummify later\n",
    "\n",
    "df['Density'] = df['Neighborhood'].map({'NAmes':'High','CollgCr':'High','OldTown':'High',\n",
    "                                        'Edwards':'MedHigh','Somerst':'MedHigh','NridgHt':'MedHigh','Gilbert':'MedHigh','Sawyer':'MedHigh',\n",
    "                                        'NWAmes':'MedLow','SawyerW':'MedLow','Mitchel':'MedLow','BrkSide':'MedLow','Crawfor':'MedLow','IDOTRR':'MedLow',\n",
    "                                        'NoRidge':'Low','Timber':'Low','StoneBr':'Low','SWISU':'Low','ClearCr':'Low','MeadowV':'Low','Blmngtn':'Low','BrDale':'Low','BrDale':'Low',\n",
    "                                        'Veenker':'veryLow','NPkVill':'veryLow','NPkVill':'veryLow','Blueste':'veryLow','Greens':'veryLow','GrnHill':'veryLow','Landmrk':'veryLow'\n",
    "                                       })"
   ]
  },
  {
   "cell_type": "code",
   "execution_count": 17,
   "metadata": {},
   "outputs": [
    {
     "data": {
      "text/plain": [
       "1Story    422\n",
       "2Story    274\n",
       "1.5Fin     96\n",
       "SLvl       34\n",
       "SFoyer     33\n",
       "2.5Unf     10\n",
       "1.5Unf      7\n",
       "2.5Fin      2\n",
       "Name: House Style, dtype: int64"
      ]
     },
     "execution_count": 17,
     "metadata": {},
     "output_type": "execute_result"
    }
   ],
   "source": [
    "##9 House Style Feature\n",
    "\n",
    "df['House Style'].value_counts()"
   ]
  },
  {
   "cell_type": "code",
   "execution_count": 18,
   "metadata": {},
   "outputs": [],
   "source": [
    "## Grouped/Renamed - to dummify later\n",
    "\n",
    "df['House_style'] = df['House Style'].map({'1Story':'1_story',\n",
    "                                          '1.5Fin':'1.5_story',\n",
    "                                          '1.5Unf':'1.5_story',\n",
    "                                          '2Story':'2&2.5_story',\n",
    "                                          '2.5Unf':'2&2.5_story',\n",
    "                                          '2.5Fin':'2&2.5_story',\n",
    "                                          'SLvl':'Splitlevel',\n",
    "                                          'SFoyer':'Splitlevel'\n",
    "                                          })"
   ]
  },
  {
   "cell_type": "code",
   "execution_count": 19,
   "metadata": {},
   "outputs": [],
   "source": [
    "##10 Bldg Type Feature\n",
    "## Grouped/Renamed - to dummify later\n",
    "\n",
    "df['Bldg_type'] = df['Bldg Type'].map({'1Fam':'Single','2fmCon':'Single',\n",
    "                                       'Duplex':'Duplex',\n",
    "                                       'TwnhsE':'TownHouse','Twnhs':'TownHouse'\n",
    "                                      })"
   ]
  },
  {
   "cell_type": "code",
   "execution_count": 20,
   "metadata": {},
   "outputs": [],
   "source": [
    "##11 Overall Cond, Overall Qual Features\n",
    "### Create new feature 'overall rating' - temporarily, will add the scores and drop all 3 features later on\n",
    "### Create an umbrella feature 'isgood_overall' and dummify\n",
    "\n",
    "df['overall_rating'] = df['Overall Cond'] + df['Overall Qual']"
   ]
  },
  {
   "cell_type": "code",
   "execution_count": 21,
   "metadata": {},
   "outputs": [],
   "source": [
    "##Dummify this feature manually\n",
    "\n",
    "df['isgood_overall'] = df['overall_rating'].map(lambda x:int(x>12))"
   ]
  },
  {
   "cell_type": "code",
   "execution_count": 22,
   "metadata": {},
   "outputs": [],
   "source": [
    "## Variation - manual function to categorize year built\n",
    "\n",
    "def mapyearbuilt(value):\n",
    "    if value >= 2000:\n",
    "        x= 'Contemporary'\n",
    "    elif value >=1980:\n",
    "        x = 'Medieval'\n",
    "    elif value >= 1950:\n",
    "        x = 'Colonial'\n",
    "    else:\n",
    "        x = 'Stone-age'\n",
    "    return x"
   ]
  },
  {
   "cell_type": "code",
   "execution_count": 23,
   "metadata": {},
   "outputs": [
    {
     "data": {
      "text/plain": [
       "220"
      ]
     },
     "execution_count": 23,
     "metadata": {},
     "output_type": "execute_result"
    }
   ],
   "source": [
    "sum(df['Year Built']>= 2000)"
   ]
  },
  {
   "cell_type": "code",
   "execution_count": 24,
   "metadata": {},
   "outputs": [],
   "source": [
    "##12 Year Built Feature\n",
    "## Grouped/Renamed - to dummify later\n",
    "\n",
    "df['house_age'] = df['Year Built'].map(mapyearbuilt)"
   ]
  },
  {
   "cell_type": "code",
   "execution_count": 25,
   "metadata": {},
   "outputs": [
    {
     "data": {
      "text/plain": [
       "Colonial        328\n",
       "Contemporary    220\n",
       "Stone-age       191\n",
       "Medieval        139\n",
       "Name: house_age, dtype: int64"
      ]
     },
     "execution_count": 25,
     "metadata": {},
     "output_type": "execute_result"
    }
   ],
   "source": [
    "## Test to see if categories were created correctly\n",
    "\n",
    "df['house_age'].value_counts()"
   ]
  },
  {
   "cell_type": "code",
   "execution_count": 26,
   "metadata": {},
   "outputs": [],
   "source": [
    "##13 Year Remod/Add Feature\n",
    "##Dummify this feature manually\n",
    "\n",
    "df['is_remodeled'] = df['Year Remod/Add'].map(lambda x:int(x>=2000))"
   ]
  },
  {
   "cell_type": "code",
   "execution_count": 27,
   "metadata": {},
   "outputs": [],
   "source": [
    "##14 Roof-style Feature - from my research looks like for 'Gable' style roofs, rates vary a lot\n",
    "##Dummify this feature manually\n",
    "\n",
    "df['is_roofGable'] = df['Roof Style'].map(lambda x:int(x=='Gable'))"
   ]
  },
  {
   "cell_type": "code",
   "execution_count": 28,
   "metadata": {},
   "outputs": [
    {
     "data": {
      "text/plain": [
       "None       534\n",
       "BrkFace    250\n",
       "Stone       80\n",
       "BrkCmn      12\n",
       "CBlock       1\n",
       "Name: Mas Vnr Type, dtype: int64"
      ]
     },
     "execution_count": 28,
     "metadata": {},
     "output_type": "execute_result"
    }
   ],
   "source": [
    "df['Mas Vnr Type'].value_counts()"
   ]
  },
  {
   "cell_type": "code",
   "execution_count": 29,
   "metadata": {},
   "outputs": [],
   "source": [
    "##15 Mas Vnr Type\n",
    "##Dummify this feature manually\n",
    "\n",
    "df['has_masonryveneer'] = df['Mas Vnr Type'].map(lambda x:int(x!='None'))"
   ]
  },
  {
   "cell_type": "code",
   "execution_count": 30,
   "metadata": {},
   "outputs": [
    {
     "data": {
      "text/plain": [
       "0    534\n",
       "1    344\n",
       "Name: has_masonryveneer, dtype: int64"
      ]
     },
     "execution_count": 30,
     "metadata": {},
     "output_type": "execute_result"
    }
   ],
   "source": [
    "### If it has any kind of veneer applied - 1 else 0\n",
    "\n",
    "df['has_masonryveneer'].value_counts()"
   ]
  },
  {
   "cell_type": "code",
   "execution_count": 31,
   "metadata": {},
   "outputs": [],
   "source": [
    "##16 Exter Cond + Exter Qual = hasgood_exterior dummy variable\n",
    "## Grouped/Renamed - to dummify later\n",
    "\n",
    "df['Exter Cond'] = df['Exter Cond'].map({'Ex':5,'Gd':4,'TA':3,'Fa':2,'Po':1})\n",
    "df['Exter Qual'] = df['Exter Qual'].map({'Ex':5,'Gd':4,'TA':3,'Fa':2,'Po':1})"
   ]
  },
  {
   "cell_type": "code",
   "execution_count": 32,
   "metadata": {},
   "outputs": [],
   "source": [
    "df['hasgood_Exterior'] = (df['Exter Cond'] + df['Exter Qual']).map(lambda x:int(x>5))"
   ]
  },
  {
   "cell_type": "code",
   "execution_count": 33,
   "metadata": {},
   "outputs": [
    {
     "data": {
      "text/plain": [
       "PConc     383\n",
       "CBlock    381\n",
       "BrkTil     90\n",
       "Slab       15\n",
       "Stone       6\n",
       "Wood        3\n",
       "Name: Foundation, dtype: int64"
      ]
     },
     "execution_count": 33,
     "metadata": {},
     "output_type": "execute_result"
    }
   ],
   "source": [
    "##17 Foundation Feature\n",
    "## to dummify later\n",
    "\n",
    "df['Foundation'].value_counts()"
   ]
  },
  {
   "cell_type": "code",
   "execution_count": 34,
   "metadata": {},
   "outputs": [],
   "source": [
    "##18 Bsmt Qual + Bsmt Cond + Bsmt Exposure = hasgood_basement dummy variable\n",
    "## Grouped/Renamed - to dummify later\n",
    "\n",
    "df.loc[df['Bsmt Qual'].isnull(),'Bsmt Qual'] = 'NA'\n",
    "df.loc[df['Bsmt Cond'].isnull(),'Bsmt Cond'] = 'NA'\n",
    "df.loc[df['Bsmt Exposure'].isnull(),'Bsmt Exposure'] = 'NA'"
   ]
  },
  {
   "cell_type": "code",
   "execution_count": 35,
   "metadata": {},
   "outputs": [],
   "source": [
    "df['Bsmt Qual'] = df['Bsmt Qual'].map({'Ex':5,'Gd':4,'TA':3,'Fa':2,'Po':1,'NA':0})\n",
    "df['Bsmt Cond'] = df['Bsmt Cond'].map({'Ex':5,'Gd':4,'TA':3,'Fa':2,'Po':1,'NA':0})\n",
    "df['Bsmt Exposure'] = df['Bsmt Exposure'].map({'Gd':4,'Av':3,'Mn':2,'No':1,'NA':0})"
   ]
  },
  {
   "cell_type": "code",
   "execution_count": 36,
   "metadata": {},
   "outputs": [],
   "source": [
    "df['hasgood_Basement'] = (df['Bsmt Qual'] + df['Bsmt Cond'] + df['Bsmt Exposure']).map(lambda x:int(x>8))"
   ]
  },
  {
   "cell_type": "code",
   "execution_count": 37,
   "metadata": {},
   "outputs": [],
   "source": [
    "##19 Total Bsmt SF feature\n",
    "### ##Dummify this feature manually\n",
    "\n",
    "df['hasBasement'] = df['Total Bsmt SF'].map(lambda x:int(x==0))"
   ]
  },
  {
   "cell_type": "code",
   "execution_count": 38,
   "metadata": {},
   "outputs": [],
   "source": [
    "##20 BsmtFin Type 1, Bsmt Fin Type 2, replace all null values with NA\n",
    "## Grouped/Renamed - to dummify later\n",
    "\n",
    "df.loc[df['BsmtFin Type 1'].isnull(),'BsmtFin Type 1'] = 'NA'\n",
    "df.loc[df['BsmtFin Type 2'].isnull(),'BsmtFin Type 2'] = 'NA'"
   ]
  },
  {
   "cell_type": "code",
   "execution_count": 39,
   "metadata": {},
   "outputs": [
    {
     "data": {
      "text/plain": [
       "0"
      ]
     },
     "execution_count": 39,
     "metadata": {},
     "output_type": "execute_result"
    }
   ],
   "source": [
    "df['BsmtFin SF 1'].isnull().sum()"
   ]
  },
  {
   "cell_type": "code",
   "execution_count": 40,
   "metadata": {},
   "outputs": [],
   "source": [
    "##21 BsmtFin SF 1 Feature, replace 1 null value with 0\n",
    "\n",
    "df.loc[df['BsmtFin SF 1'].isnull(),'BsmtFin SF 1'] = 0"
   ]
  },
  {
   "cell_type": "code",
   "execution_count": 41,
   "metadata": {
    "scrolled": false
   },
   "outputs": [],
   "source": [
    "##22 BsmtFin SF 1, BsmtFin SF 2, mapped and typecast to int for consistency\n",
    "## Grouped/Renamed - to dummify later\n",
    "\n",
    "df['BsmtFin Type 1'] = df['BsmtFin Type 1'].map({'GLQ':5,'ALQ':4,'BLQ':3,'Rec':4,'LwQ':2,'Unf':1,'NA':0})\n",
    "df['BsmtFin Type 2'] = df['BsmtFin Type 2'].map({'GLQ':5,'ALQ':4,'BLQ':3,'Rec':4,'LwQ':2,'Unf':1,'NA':0})\n",
    "df['BsmtFin Type 1'] = df['BsmtFin Type 1'].astype(int)\n",
    "df['BsmtFin Type 2'] = df['BsmtFin Type 2'].astype(int)"
   ]
  },
  {
   "cell_type": "code",
   "execution_count": 42,
   "metadata": {},
   "outputs": [],
   "source": [
    "##23 BsmtFin SF 2, Bsmt Unf SF, Total Bsmt SF Features = convert null values to 0\n",
    "### (considering those houses do not have a basement - hence sqft.= 0)\n",
    "### Create new feature 'is_fullyfurnished' and dummify\n",
    "\n",
    "df.loc[df['BsmtFin SF 2'].isnull(),'BsmtFin SF 2'] = 0\n",
    "df.loc[df['Bsmt Unf SF'].isnull(),'Bsmt Unf SF'] = 0\n",
    "df.loc[df['Total Bsmt SF'].isnull(),'Total Bsmt SF'] = 0"
   ]
  },
  {
   "cell_type": "code",
   "execution_count": 43,
   "metadata": {},
   "outputs": [],
   "source": [
    "df['BsmtFin SF 1'] = df['BsmtFin SF 1'].astype(int)\n",
    "df['BsmtFin SF 2'] = df['BsmtFin SF 2'].astype(int)\n",
    "df['Bsmt Unf SF'] = df['Bsmt Unf SF'].astype(int)\n",
    "df['Total Bsmt SF'] = df['Total Bsmt SF'].astype(int)"
   ]
  },
  {
   "cell_type": "code",
   "execution_count": 44,
   "metadata": {},
   "outputs": [],
   "source": [
    "df['is_fullfurnished'] = df['Total Bsmt SF'].map(lambda x: 1 if x==0 else 0)"
   ]
  },
  {
   "cell_type": "code",
   "execution_count": 45,
   "metadata": {},
   "outputs": [
    {
     "data": {
      "text/plain": [
       "0    853\n",
       "1     25\n",
       "Name: is_fullfurnished, dtype: int64"
      ]
     },
     "execution_count": 45,
     "metadata": {},
     "output_type": "execute_result"
    }
   ],
   "source": [
    "df['is_fullfurnished'].value_counts()"
   ]
  },
  {
   "cell_type": "code",
   "execution_count": 46,
   "metadata": {},
   "outputs": [],
   "source": [
    "##24 Heating Feature\n",
    "##Dummify this feature manually\n",
    "\n",
    "df['has_gasFurnace'] = df['Heating'].map({'GasA':1,'GasW':0,'Wall':0,'Grav':0,'OthW':0})"
   ]
  },
  {
   "cell_type": "code",
   "execution_count": 47,
   "metadata": {},
   "outputs": [],
   "source": [
    "##25 Heating QC Feature\n",
    "## Grouped/Renamed - to dummify later\n",
    "\n",
    "df['Heating QC'] = df['Heating QC'].map({'Ex':5,'Gd':4,'TA':3,'Fa':2,'Po':1})"
   ]
  },
  {
   "cell_type": "code",
   "execution_count": 48,
   "metadata": {},
   "outputs": [],
   "source": [
    "##26 Central Air Feature\n",
    "##Dummify this feature manually\n",
    "\n",
    "df['has_centralAir'] = df['Central Air'].map({'Y':1,'N':0})"
   ]
  },
  {
   "cell_type": "code",
   "execution_count": 49,
   "metadata": {},
   "outputs": [],
   "source": [
    "##27 Bsmt Full Bath, Bsmt Half Bath - replace null values with 0, considering same houses do not have a basement\n",
    "\n",
    "df.loc[df['Bsmt Full Bath'].isnull(),'Bsmt Full Bath'] = 0\n",
    "df.loc[df['Bsmt Half Bath'].isnull(),'Bsmt Half Bath'] = 0"
   ]
  },
  {
   "cell_type": "code",
   "execution_count": 50,
   "metadata": {},
   "outputs": [],
   "source": [
    "##28 Full Bath, Half Bath - creating new features 'total full baths' and 'total half baths'\n",
    "\n",
    "df['total_full_baths'] = df['Full Bath'] + df['Bsmt Full Bath']\n",
    "df['total_half_baths'] = df['Half Bath'] + df['Bsmt Half Bath']"
   ]
  },
  {
   "cell_type": "code",
   "execution_count": 51,
   "metadata": {},
   "outputs": [],
   "source": [
    "### typecast\n",
    "\n",
    "df['total_full_baths'] = df['total_full_baths'].astype(int)\n",
    "df['total_half_baths'] = df['total_half_baths'].astype(int)"
   ]
  },
  {
   "cell_type": "code",
   "execution_count": 52,
   "metadata": {},
   "outputs": [],
   "source": [
    "##29 Kitchen AbvGr Feature = mapped/dummified to has_1plus kitchen\n",
    "\n",
    "df['has_1pluskitchen'] = df['Kitchen AbvGr'].map({0:0,1:0,2:1,3:1})"
   ]
  },
  {
   "cell_type": "code",
   "execution_count": 53,
   "metadata": {},
   "outputs": [
    {
     "data": {
      "text/plain": [
       "array(['Fa', 'TA', 'Gd', 'Ex', 'Po'], dtype=object)"
      ]
     },
     "execution_count": 53,
     "metadata": {},
     "output_type": "execute_result"
    }
   ],
   "source": [
    "df['Kitchen Qual'].unique()"
   ]
  },
  {
   "cell_type": "code",
   "execution_count": 54,
   "metadata": {},
   "outputs": [],
   "source": [
    "##30 Kitchen Qual = mapped/dummified to 'has_goodkitchen'\n",
    "\n",
    "df['has_goodkitchen'] = df['Kitchen Qual'].map({'Ex':1,'Gd':1,'TA':0,'Fa':0})"
   ]
  },
  {
   "cell_type": "code",
   "execution_count": 55,
   "metadata": {
    "scrolled": true
   },
   "outputs": [
    {
     "data": {
      "text/plain": [
       "0.0"
      ]
     },
     "execution_count": 55,
     "metadata": {},
     "output_type": "execute_result"
    }
   ],
   "source": [
    "df.loc[df['has_goodkitchen'].isnull().sum(),'has_goodkitchen']"
   ]
  },
  {
   "cell_type": "code",
   "execution_count": 56,
   "metadata": {},
   "outputs": [],
   "source": [
    "df['has_goodkitchen'] = df['has_goodkitchen'].map(lambda x:int(x==0 or x==1))"
   ]
  },
  {
   "cell_type": "code",
   "execution_count": 57,
   "metadata": {},
   "outputs": [],
   "source": [
    "##31 Functional Feature = mapped/dummified to 'is_fullyfunctional' feature\n",
    "\n",
    "df['is_fullyfunctional'] = df['Functional'].map(lambda x:int(x=='Typ'))"
   ]
  },
  {
   "cell_type": "code",
   "execution_count": 58,
   "metadata": {},
   "outputs": [],
   "source": [
    "##32 Fireplaces Feature = mapped/dummified to 'has_fireplace' -> 1, else -> 0\n",
    "\n",
    "df['has_fireplace'] = df['Fireplaces'].map(lambda x:int(x>0))"
   ]
  },
  {
   "cell_type": "code",
   "execution_count": 59,
   "metadata": {},
   "outputs": [
    {
     "data": {
      "text/plain": [
       "44"
      ]
     },
     "execution_count": 59,
     "metadata": {},
     "output_type": "execute_result"
    }
   ],
   "source": [
    "df['Garage Type'].isnull().sum()"
   ]
  },
  {
   "cell_type": "code",
   "execution_count": 60,
   "metadata": {},
   "outputs": [],
   "source": [
    "##33 Garage Type feature - replacing null values with 'NA' for easy grouping and dummify later\n",
    "\n",
    "df.loc[df['Garage Type'].isnull(),'Garage Type'] = 'NA'"
   ]
  },
  {
   "cell_type": "code",
   "execution_count": 61,
   "metadata": {},
   "outputs": [],
   "source": [
    "##34 Create 1 more feature, has_detached garage or not\n",
    "\n",
    "df['has_detachedGarage'] = df['Garage Type'].map(lambda x:int(x=='Detchd' or x=='CarPort'))"
   ]
  },
  {
   "cell_type": "code",
   "execution_count": 62,
   "metadata": {},
   "outputs": [],
   "source": [
    "#35 Create 1 more feature, if one 'has_Garage' or not\n",
    "### So many features from same variables might lead to multi-collinearity later, but can compare and drop later on\n",
    "\n",
    "df['has_Garage'] = df['Garage Type'].map(lambda x:int(x!='NA'))"
   ]
  },
  {
   "cell_type": "code",
   "execution_count": 63,
   "metadata": {},
   "outputs": [
    {
     "data": {
      "text/plain": [
       "0"
      ]
     },
     "execution_count": 63,
     "metadata": {},
     "output_type": "execute_result"
    }
   ],
   "source": [
    "df['Garage Cars'].isnull().sum()"
   ]
  },
  {
   "cell_type": "code",
   "execution_count": 64,
   "metadata": {},
   "outputs": [],
   "source": [
    "##36 Garage Cars Features, lets say every house has room for atleast 1 car\n",
    "\n",
    "df.loc[df['Garage Cars'].isnull(),'Garage Cars'] = 1.0"
   ]
  },
  {
   "cell_type": "code",
   "execution_count": 65,
   "metadata": {},
   "outputs": [],
   "source": [
    "## typecast\n",
    "\n",
    "df['Garage Cars'] = df['Garage Cars'].astype(int)"
   ]
  },
  {
   "cell_type": "code",
   "execution_count": 66,
   "metadata": {},
   "outputs": [],
   "source": [
    "##37 Garage Qual + Garage Condition = 'has_goodGarage' or not\n",
    "\n",
    "df.loc[df['Garage Qual'].isnull(),'Garage Qual'] = 'NA'\n",
    "df.loc[df['Garage Cond'].isnull(),'Garage Cond'] = 'NA'"
   ]
  },
  {
   "cell_type": "code",
   "execution_count": 67,
   "metadata": {},
   "outputs": [],
   "source": [
    "df['Garage Qual'] = df['Garage Qual'].map({'Ex':5,'Gd':4,'TA':3,'Fa':2,'Po':1,'NA':0})\n",
    "df['Garage Cond'] = df['Garage Cond'].map({'Ex':5,'Gd':4,'TA':3,'Fa':2,'Po':1,'NA':0})"
   ]
  },
  {
   "cell_type": "code",
   "execution_count": 68,
   "metadata": {},
   "outputs": [],
   "source": [
    "df['has_goodGarage'] = (df['Garage Qual'] + df['Garage Cond']).map(lambda x:int(x>5))"
   ]
  },
  {
   "cell_type": "code",
   "execution_count": 69,
   "metadata": {},
   "outputs": [],
   "source": [
    "##38 Paved Driveway Feature\n",
    "##Dummify this feature manually\n",
    "\n",
    "df['has_paveddriveway'] = df['Paved Drive'].map(lambda x:int(x=='Y'))"
   ]
  },
  {
   "cell_type": "code",
   "execution_count": 70,
   "metadata": {},
   "outputs": [],
   "source": [
    "##39 Pool Area Feature\n",
    "##Dummify this feature manually\n",
    "\n",
    "df['has_pool'] = df['Pool Area'].map(lambda x:int(x>0))"
   ]
  },
  {
   "cell_type": "code",
   "execution_count": 71,
   "metadata": {},
   "outputs": [],
   "source": [
    "##40 Wood Deck SF Feature,\n",
    "###minor details might not be important - in order to buy a house, it definitely matters if one has a deck/pool or not\n",
    "##Dummify this feature manually\n",
    "\n",
    "df['has_woodDeck'] = df['Wood Deck SF'].map(lambda x:int(x>0))"
   ]
  },
  {
   "cell_type": "code",
   "execution_count": 72,
   "metadata": {},
   "outputs": [],
   "source": [
    "##41 Open Porch SF, same as last one\n",
    "##Dummify this feature manually\n",
    "\n",
    "df['has_Porch'] = (df['Open Porch SF']+df['Enclosed Porch']+df['3Ssn Porch']+df['Screen Porch']).map(lambda x:int(x>0))"
   ]
  },
  {
   "cell_type": "code",
   "execution_count": 73,
   "metadata": {},
   "outputs": [],
   "source": [
    "##42 Misc Feature - some houses might not have any misc. features, right?\n",
    "##Dummify this feature manually\n",
    "\n",
    "df.loc[df['Misc Feature'].isnull(),'Misc Feature'] = 'NA'"
   ]
  },
  {
   "cell_type": "code",
   "execution_count": 74,
   "metadata": {},
   "outputs": [],
   "source": [
    "df['has_miscFeatures'] = df['Misc Feature'].map(lambda x:int(x!='NA'))"
   ]
  },
  {
   "cell_type": "code",
   "execution_count": 75,
   "metadata": {},
   "outputs": [],
   "source": [
    "##43 Fence Feature - dummify to 'has_goodFence' or not\n",
    "\n",
    "df.loc[df['Fence'].isnull(),'Fence'] = 'NA'"
   ]
  },
  {
   "cell_type": "code",
   "execution_count": 76,
   "metadata": {},
   "outputs": [],
   "source": [
    "df['has_goodFence'] = df['Fence'].map(lambda x:int(x=='GdPrv' or x=='GdWo'))"
   ]
  },
  {
   "cell_type": "code",
   "execution_count": 77,
   "metadata": {},
   "outputs": [],
   "source": [
    "#44 Sale Type Feature\n",
    "## Grouped/Renamed - to dummify later\n",
    "\n",
    "df['Sale Type'] = df['Sale Type'].map({'WD ':'WarrantyDeed','CWD':'WarrantyDeed','VWD':'WarrantyDeed',\n",
    "                      'Con':'Contract','ConLw':'Contract','ConLI':'Contract','ConLD':'Contract',\n",
    "                      'COD':'COD','New':'New Home','Oth':'Other'})"
   ]
  },
  {
   "cell_type": "code",
   "execution_count": 78,
   "metadata": {},
   "outputs": [
    {
     "data": {
      "text/plain": [
       "array(['WarrantyDeed', 'New Home', 'Contract', 'COD', 'Other'],\n",
       "      dtype=object)"
      ]
     },
     "execution_count": 78,
     "metadata": {},
     "output_type": "execute_result"
    }
   ],
   "source": [
    "df['Sale Type'].unique()"
   ]
  },
  {
   "cell_type": "code",
   "execution_count": 79,
   "metadata": {},
   "outputs": [],
   "source": [
    "## lets drop 4 rows with 'Sale Type' = Other\n",
    "\n",
    "df.drop(index=df.loc[df['Sale Type']=='Other',:].index,inplace=True)"
   ]
  },
  {
   "cell_type": "code",
   "execution_count": 80,
   "metadata": {},
   "outputs": [],
   "source": [
    "##45 Neighbourhood, group 3 dense neighbourhood into one category\n",
    "##Dummify this feature manually\n",
    "\n",
    "df['isNeigh_collgcr_oldtown'] = df['Neighborhood'].map(lambda x:int((x == 'CollgCr') or (x == 'OldTown') or (x == 'Edwards'))) "
   ]
  },
  {
   "cell_type": "code",
   "execution_count": 81,
   "metadata": {},
   "outputs": [],
   "source": [
    "##46 Density Feature\n",
    "##Dummify this feature manually\n",
    "\n",
    "df['is_densityHigh'] = df['Density'].map({'High':1,'MedHigh':1,'MedLow':0,'Low':0,'veryLow':0})"
   ]
  },
  {
   "cell_type": "markdown",
   "metadata": {},
   "source": [
    "**Lets save our work so far - as data_no missing values**"
   ]
  },
  {
   "cell_type": "code",
   "execution_count": 82,
   "metadata": {},
   "outputs": [],
   "source": [
    "## clean data v1 - no missing values and correct datatypes\n",
    "df.to_csv('./datasets/Test/Test_v1_no_missing_values.csv',index=False)"
   ]
  },
  {
   "cell_type": "markdown",
   "metadata": {},
   "source": [
    "**Removing all unwanted/already dummified Columns to avoid confusion**"
   ]
  },
  {
   "cell_type": "code",
   "execution_count": 83,
   "metadata": {},
   "outputs": [],
   "source": [
    "## use df2 to remove all unwanted columns\n",
    "df2 = df.copy()"
   ]
  },
  {
   "cell_type": "code",
   "execution_count": 84,
   "metadata": {},
   "outputs": [],
   "source": [
    "df2.drop(columns=['Alley','Street','Lot Shape','Land Contour','Utilities','Lot Config','Land Slope','Condition 1','Condition 2','Bldg Type','House Style','overall_rating','Year Built','Year Remod/Add','Roof Matl','Mas Vnr Type','Mas Vnr Area','BsmtFin SF 1','BsmtFin SF 2','Bsmt Unf SF','Heating','Central Air','Electrical','1st Flr SF','2nd Flr SF','Low Qual Fin SF','Gr Liv Area','Bsmt Full Bath','Bsmt Half Bath','Full Bath','Half Bath','Kitchen AbvGr','Kitchen Qual','TotRms AbvGrd','Functional','Fireplace Qu','Garage Type','Garage Yr Blt','Garage Finish','Garage Area','Paved Drive','Pool Area','Pool QC','Wood Deck SF','Open Porch SF','Enclosed Porch','3Ssn Porch','Screen Porch','Misc Feature','Misc Val','Fence'], inplace=True)"
   ]
  },
  {
   "cell_type": "markdown",
   "metadata": {},
   "source": [
    "**Lets resave our work again as v2 for no missing values**"
   ]
  },
  {
   "cell_type": "code",
   "execution_count": 85,
   "metadata": {},
   "outputs": [],
   "source": [
    "df2.to_csv('./datasets/Test/Test_v2_no_missing_values.csv',index=False)"
   ]
  },
  {
   "cell_type": "markdown",
   "metadata": {},
   "source": [
    " "
   ]
  },
  {
   "cell_type": "markdown",
   "metadata": {},
   "source": [
    "## EDA Step 2: Plot and Clean dataset"
   ]
  },
  {
   "cell_type": "code",
   "execution_count": 86,
   "metadata": {},
   "outputs": [],
   "source": [
    "## Lets reimport our csv here,\n",
    "df3 = pd.read_csv('./datasets/Test/Test_v2_no_missing_values.csv')"
   ]
  },
  {
   "cell_type": "code",
   "execution_count": 87,
   "metadata": {},
   "outputs": [
    {
     "data": {
      "text/html": [
       "<div>\n",
       "<style scoped>\n",
       "    .dataframe tbody tr th:only-of-type {\n",
       "        vertical-align: middle;\n",
       "    }\n",
       "\n",
       "    .dataframe tbody tr th {\n",
       "        vertical-align: top;\n",
       "    }\n",
       "\n",
       "    .dataframe thead th {\n",
       "        text-align: right;\n",
       "    }\n",
       "</style>\n",
       "<table border=\"1\" class=\"dataframe\">\n",
       "  <thead>\n",
       "    <tr style=\"text-align: right;\">\n",
       "      <th></th>\n",
       "      <th>Id</th>\n",
       "      <th>PID</th>\n",
       "      <th>MS SubClass</th>\n",
       "      <th>MS Zoning</th>\n",
       "      <th>Lot Frontage</th>\n",
       "      <th>Lot Area</th>\n",
       "      <th>Neighborhood</th>\n",
       "      <th>Overall Qual</th>\n",
       "      <th>Overall Cond</th>\n",
       "      <th>Roof Style</th>\n",
       "      <th>...</th>\n",
       "      <th>has_Garage</th>\n",
       "      <th>has_goodGarage</th>\n",
       "      <th>has_paveddriveway</th>\n",
       "      <th>has_pool</th>\n",
       "      <th>has_woodDeck</th>\n",
       "      <th>has_Porch</th>\n",
       "      <th>has_miscFeatures</th>\n",
       "      <th>has_goodFence</th>\n",
       "      <th>isNeigh_collgcr_oldtown</th>\n",
       "      <th>is_densityHigh</th>\n",
       "    </tr>\n",
       "  </thead>\n",
       "  <tbody>\n",
       "    <tr>\n",
       "      <th>0</th>\n",
       "      <td>2658</td>\n",
       "      <td>902301120</td>\n",
       "      <td>190</td>\n",
       "      <td>RM</td>\n",
       "      <td>69</td>\n",
       "      <td>9142</td>\n",
       "      <td>OldTown</td>\n",
       "      <td>6</td>\n",
       "      <td>8</td>\n",
       "      <td>Gable</td>\n",
       "      <td>...</td>\n",
       "      <td>1</td>\n",
       "      <td>0</td>\n",
       "      <td>1</td>\n",
       "      <td>0</td>\n",
       "      <td>0</td>\n",
       "      <td>1</td>\n",
       "      <td>0</td>\n",
       "      <td>0</td>\n",
       "      <td>1</td>\n",
       "      <td>1</td>\n",
       "    </tr>\n",
       "    <tr>\n",
       "      <th>1</th>\n",
       "      <td>2718</td>\n",
       "      <td>905108090</td>\n",
       "      <td>90</td>\n",
       "      <td>RL</td>\n",
       "      <td>68</td>\n",
       "      <td>9662</td>\n",
       "      <td>Sawyer</td>\n",
       "      <td>5</td>\n",
       "      <td>4</td>\n",
       "      <td>Gable</td>\n",
       "      <td>...</td>\n",
       "      <td>1</td>\n",
       "      <td>1</td>\n",
       "      <td>1</td>\n",
       "      <td>0</td>\n",
       "      <td>1</td>\n",
       "      <td>0</td>\n",
       "      <td>0</td>\n",
       "      <td>0</td>\n",
       "      <td>0</td>\n",
       "      <td>1</td>\n",
       "    </tr>\n",
       "    <tr>\n",
       "      <th>2</th>\n",
       "      <td>2414</td>\n",
       "      <td>528218130</td>\n",
       "      <td>60</td>\n",
       "      <td>RL</td>\n",
       "      <td>58</td>\n",
       "      <td>17104</td>\n",
       "      <td>Gilbert</td>\n",
       "      <td>7</td>\n",
       "      <td>5</td>\n",
       "      <td>Gable</td>\n",
       "      <td>...</td>\n",
       "      <td>1</td>\n",
       "      <td>1</td>\n",
       "      <td>1</td>\n",
       "      <td>0</td>\n",
       "      <td>1</td>\n",
       "      <td>1</td>\n",
       "      <td>0</td>\n",
       "      <td>0</td>\n",
       "      <td>0</td>\n",
       "      <td>1</td>\n",
       "    </tr>\n",
       "    <tr>\n",
       "      <th>3</th>\n",
       "      <td>1989</td>\n",
       "      <td>902207150</td>\n",
       "      <td>30</td>\n",
       "      <td>RM</td>\n",
       "      <td>60</td>\n",
       "      <td>8520</td>\n",
       "      <td>OldTown</td>\n",
       "      <td>5</td>\n",
       "      <td>6</td>\n",
       "      <td>Gable</td>\n",
       "      <td>...</td>\n",
       "      <td>1</td>\n",
       "      <td>0</td>\n",
       "      <td>0</td>\n",
       "      <td>0</td>\n",
       "      <td>0</td>\n",
       "      <td>1</td>\n",
       "      <td>0</td>\n",
       "      <td>0</td>\n",
       "      <td>1</td>\n",
       "      <td>1</td>\n",
       "    </tr>\n",
       "    <tr>\n",
       "      <th>4</th>\n",
       "      <td>625</td>\n",
       "      <td>535105100</td>\n",
       "      <td>20</td>\n",
       "      <td>RL</td>\n",
       "      <td>68</td>\n",
       "      <td>9500</td>\n",
       "      <td>NAmes</td>\n",
       "      <td>6</td>\n",
       "      <td>5</td>\n",
       "      <td>Gable</td>\n",
       "      <td>...</td>\n",
       "      <td>1</td>\n",
       "      <td>1</td>\n",
       "      <td>1</td>\n",
       "      <td>0</td>\n",
       "      <td>0</td>\n",
       "      <td>1</td>\n",
       "      <td>0</td>\n",
       "      <td>0</td>\n",
       "      <td>0</td>\n",
       "      <td>1</td>\n",
       "    </tr>\n",
       "  </tbody>\n",
       "</table>\n",
       "<p>5 rows × 69 columns</p>\n",
       "</div>"
      ],
      "text/plain": [
       "     Id        PID  MS SubClass MS Zoning  Lot Frontage  Lot Area  \\\n",
       "0  2658  902301120          190        RM            69      9142   \n",
       "1  2718  905108090           90        RL            68      9662   \n",
       "2  2414  528218130           60        RL            58     17104   \n",
       "3  1989  902207150           30        RM            60      8520   \n",
       "4   625  535105100           20        RL            68      9500   \n",
       "\n",
       "  Neighborhood  Overall Qual  Overall Cond Roof Style  ... has_Garage  \\\n",
       "0      OldTown             6             8      Gable  ...          1   \n",
       "1       Sawyer             5             4      Gable  ...          1   \n",
       "2      Gilbert             7             5      Gable  ...          1   \n",
       "3      OldTown             5             6      Gable  ...          1   \n",
       "4        NAmes             6             5      Gable  ...          1   \n",
       "\n",
       "  has_goodGarage  has_paveddriveway  has_pool has_woodDeck  has_Porch  \\\n",
       "0              0                  1         0            0          1   \n",
       "1              1                  1         0            1          0   \n",
       "2              1                  1         0            1          1   \n",
       "3              0                  0         0            0          1   \n",
       "4              1                  1         0            0          1   \n",
       "\n",
       "   has_miscFeatures  has_goodFence  isNeigh_collgcr_oldtown  is_densityHigh  \n",
       "0                 0              0                        1               1  \n",
       "1                 0              0                        0               1  \n",
       "2                 0              0                        0               1  \n",
       "3                 0              0                        1               1  \n",
       "4                 0              0                        0               1  \n",
       "\n",
       "[5 rows x 69 columns]"
      ]
     },
     "execution_count": 87,
     "metadata": {},
     "output_type": "execute_result"
    }
   ],
   "source": [
    "df3.head()"
   ]
  },
  {
   "cell_type": "code",
   "execution_count": 131,
   "metadata": {},
   "outputs": [
    {
     "name": "stdout",
     "output_type": "stream",
     "text": [
      "<class 'pandas.core.frame.DataFrame'>\n",
      "RangeIndex: 875 entries, 0 to 874\n",
      "Data columns (total 69 columns):\n",
      " #   Column                   Non-Null Count  Dtype  \n",
      "---  ------                   --------------  -----  \n",
      " 0   Id                       875 non-null    int64  \n",
      " 1   PID                      875 non-null    int64  \n",
      " 2   MS SubClass              875 non-null    int64  \n",
      " 3   MS Zoning                875 non-null    object \n",
      " 4   Lot Frontage             875 non-null    int64  \n",
      " 5   Lot Area                 875 non-null    int64  \n",
      " 6   Neighborhood             875 non-null    object \n",
      " 7   Overall Qual             875 non-null    int64  \n",
      " 8   Overall Cond             875 non-null    int64  \n",
      " 9   Roof Style               875 non-null    object \n",
      " 10  Exterior 1st             875 non-null    object \n",
      " 11  Exterior 2nd             875 non-null    object \n",
      " 12  Exter Qual               875 non-null    int64  \n",
      " 13  Exter Cond               875 non-null    int64  \n",
      " 14  Foundation               875 non-null    object \n",
      " 15  Bsmt Qual                875 non-null    int64  \n",
      " 16  Bsmt Cond                875 non-null    int64  \n",
      " 17  Bsmt Exposure            875 non-null    int64  \n",
      " 18  BsmtFin Type 1           875 non-null    int64  \n",
      " 19  BsmtFin Type 2           875 non-null    int64  \n",
      " 20  Total Bsmt SF            875 non-null    int64  \n",
      " 21  Heating QC               875 non-null    int64  \n",
      " 22  Bedroom AbvGr            875 non-null    int64  \n",
      " 23  Fireplaces               875 non-null    int64  \n",
      " 24  Garage Cars              875 non-null    int64  \n",
      " 25  Garage Qual              875 non-null    int64  \n",
      " 26  Garage Cond              875 non-null    int64  \n",
      " 27  Mo Sold                  875 non-null    int64  \n",
      " 28  Yr Sold                  875 non-null    int64  \n",
      " 29  Sale Type                875 non-null    object \n",
      " 30  Street_isPaved           875 non-null    int64  \n",
      " 31  Lotshape_isRegular       875 non-null    int64  \n",
      " 32  isLandLevel              875 non-null    int64  \n",
      " 33  isLotInside              875 non-null    int64  \n",
      " 34  isLotCorner              875 non-null    int64  \n",
      " 35  isLotCulDSac             875 non-null    int64  \n",
      " 36  isSlopeNormal            875 non-null    int64  \n",
      " 37  proximity_to             875 non-null    object \n",
      " 38  Density                  875 non-null    object \n",
      " 39  House_style              875 non-null    object \n",
      " 40  Bldg_type                875 non-null    object \n",
      " 41  isgood_overall           875 non-null    int64  \n",
      " 42  house_age                875 non-null    object \n",
      " 43  is_remodeled             875 non-null    int64  \n",
      " 44  is_roofGable             875 non-null    int64  \n",
      " 45  has_masonryveneer        875 non-null    int64  \n",
      " 46  hasgood_Exterior         875 non-null    int64  \n",
      " 47  hasgood_Basement         875 non-null    int64  \n",
      " 48  hasBasement              875 non-null    int64  \n",
      " 49  is_fullfurnished         875 non-null    int64  \n",
      " 50  has_gasFurnace           874 non-null    float64\n",
      " 51  has_centralAir           875 non-null    int64  \n",
      " 52  total_full_baths         875 non-null    int64  \n",
      " 53  total_half_baths         875 non-null    int64  \n",
      " 54  has_1pluskitchen         875 non-null    int64  \n",
      " 55  has_goodkitchen          875 non-null    int64  \n",
      " 56  is_fullyfunctional       875 non-null    int64  \n",
      " 57  has_fireplace            875 non-null    int64  \n",
      " 58  has_detachedGarage       875 non-null    int64  \n",
      " 59  has_Garage               875 non-null    int64  \n",
      " 60  has_goodGarage           875 non-null    int64  \n",
      " 61  has_paveddriveway        875 non-null    int64  \n",
      " 62  has_pool                 875 non-null    int64  \n",
      " 63  has_woodDeck             875 non-null    int64  \n",
      " 64  has_Porch                875 non-null    int64  \n",
      " 65  has_miscFeatures         875 non-null    int64  \n",
      " 66  has_goodFence            875 non-null    int64  \n",
      " 67  isNeigh_collgcr_oldtown  875 non-null    int64  \n",
      " 68  is_densityHigh           875 non-null    int64  \n",
      "dtypes: float64(1), int64(56), object(12)\n",
      "memory usage: 471.8+ KB\n"
     ]
    }
   ],
   "source": [
    "df3.info()"
   ]
  },
  {
   "cell_type": "markdown",
   "metadata": {},
   "source": [
    " "
   ]
  },
  {
   "cell_type": "markdown",
   "metadata": {},
   "source": [
    "**Plot Univariate Distributions - For Numerical Columns**"
   ]
  },
  {
   "cell_type": "code",
   "execution_count": 89,
   "metadata": {},
   "outputs": [
    {
     "name": "stderr",
     "output_type": "stream",
     "text": [
      "/Users/samay20/opt/anaconda3/lib/python3.8/site-packages/seaborn/distributions.py:2551: FutureWarning: `distplot` is a deprecated function and will be removed in a future version. Please adapt your code to use either `displot` (a figure-level function with similar flexibility) or `histplot` (an axes-level function for histograms).\n",
      "  warnings.warn(msg, FutureWarning)\n"
     ]
    },
    {
     "data": {
      "image/png": "[encoded data removed]",
      "text/plain": [
       "<Figure size 432x288 with 1 Axes>"
      ]
     },
     "metadata": {
      "needs_background": "light"
     },
     "output_type": "display_data"
    }
   ],
   "source": [
    "#1 Lot Area - Before\n",
    "sns.distplot(df3['Lot Area']);"
   ]
  },
  {
   "cell_type": "code",
   "execution_count": 90,
   "metadata": {},
   "outputs": [],
   "source": [
    "### Lets get rid of some outliers (higher side) from our dataset and save in a new dataframe\n",
    "\n",
    "q = df3['Lot Area'].quantile(0.98) ##mask\n",
    "df4 = df3[df3['Lot Area'] < q]"
   ]
  },
  {
   "cell_type": "code",
   "execution_count": 91,
   "metadata": {},
   "outputs": [
    {
     "name": "stderr",
     "output_type": "stream",
     "text": [
      "/Users/samay20/opt/anaconda3/lib/python3.8/site-packages/seaborn/distributions.py:2551: FutureWarning: `distplot` is a deprecated function and will be removed in a future version. Please adapt your code to use either `displot` (a figure-level function with similar flexibility) or `histplot` (an axes-level function for histograms).\n",
      "  warnings.warn(msg, FutureWarning)\n"
     ]
    },
    {
     "data": {
      "image/png": "[encoded data removed]",
      "text/plain": [
       "<Figure size 432x288 with 1 Axes>"
      ]
     },
     "metadata": {
      "needs_background": "light"
     },
     "output_type": "display_data"
    }
   ],
   "source": [
    "#1 Lot Area - After\n",
    "### Looks almost normally distributed now\n",
    "\n",
    "sns.distplot(df4['Lot Area']);"
   ]
  },
  {
   "cell_type": "code",
   "execution_count": 92,
   "metadata": {},
   "outputs": [
    {
     "name": "stderr",
     "output_type": "stream",
     "text": [
      "/Users/samay20/opt/anaconda3/lib/python3.8/site-packages/seaborn/distributions.py:2551: FutureWarning: `distplot` is a deprecated function and will be removed in a future version. Please adapt your code to use either `displot` (a figure-level function with similar flexibility) or `histplot` (an axes-level function for histograms).\n",
      "  warnings.warn(msg, FutureWarning)\n"
     ]
    },
    {
     "data": {
      "image/png": "[encoded data removed]",
      "text/plain": [
       "<Figure size 432x288 with 1 Axes>"
      ]
     },
     "metadata": {
      "needs_background": "light"
     },
     "output_type": "display_data"
    }
   ],
   "source": [
    "#3 LotFrontage - Before\n",
    "sns.distplot(df4['Lot Frontage']);"
   ]
  },
  {
   "cell_type": "code",
   "execution_count": 93,
   "metadata": {},
   "outputs": [],
   "source": [
    "### Lets get rid of some outliers (higher side) from our dataset and save in a new dataframe\n",
    "\n",
    "s = df4['Lot Frontage'].quantile(0.99)\n",
    "df6 = df4[df4['Lot Frontage']<s]"
   ]
  },
  {
   "cell_type": "code",
   "execution_count": 94,
   "metadata": {},
   "outputs": [
    {
     "name": "stderr",
     "output_type": "stream",
     "text": [
      "/Users/samay20/opt/anaconda3/lib/python3.8/site-packages/seaborn/distributions.py:2551: FutureWarning: `distplot` is a deprecated function and will be removed in a future version. Please adapt your code to use either `displot` (a figure-level function with similar flexibility) or `histplot` (an axes-level function for histograms).\n",
      "  warnings.warn(msg, FutureWarning)\n"
     ]
    },
    {
     "data": {
      "image/png": "[encoded data removed]",
      "text/plain": [
       "<Figure size 432x288 with 1 Axes>"
      ]
     },
     "metadata": {
      "needs_background": "light"
     },
     "output_type": "display_data"
    }
   ],
   "source": [
    "#3 LotFrontage - After\n",
    "sns.distplot(df6['Lot Frontage']);"
   ]
  },
  {
   "cell_type": "code",
   "execution_count": 95,
   "metadata": {},
   "outputs": [
    {
     "data": {
      "text/plain": [
       "<AxesSubplot:>"
      ]
     },
     "execution_count": 95,
     "metadata": {},
     "output_type": "execute_result"
    },
    {
     "data": {
      "image/png": "[encoded data removed]",
      "text/plain": [
       "<Figure size 432x288 with 1 Axes>"
      ]
     },
     "metadata": {
      "needs_background": "light"
     },
     "output_type": "display_data"
    }
   ],
   "source": [
    "#Categorial\n",
    "df6['Foundation'].value_counts().plot(kind='barh')"
   ]
  },
  {
   "cell_type": "code",
   "execution_count": 96,
   "metadata": {},
   "outputs": [
    {
     "name": "stderr",
     "output_type": "stream",
     "text": [
      "/Users/samay20/opt/anaconda3/lib/python3.8/site-packages/seaborn/distributions.py:2551: FutureWarning: `distplot` is a deprecated function and will be removed in a future version. Please adapt your code to use either `displot` (a figure-level function with similar flexibility) or `histplot` (an axes-level function for histograms).\n",
      "  warnings.warn(msg, FutureWarning)\n"
     ]
    },
    {
     "data": {
      "image/png": "[encoded data removed]",
      "text/plain": [
       "<Figure size 432x288 with 1 Axes>"
      ]
     },
     "metadata": {
      "needs_background": "light"
     },
     "output_type": "display_data"
    }
   ],
   "source": [
    "#4 Number of Bedrooms - Before\n",
    "sns.distplot(df6['Bedroom AbvGr']);"
   ]
  },
  {
   "cell_type": "code",
   "execution_count": 97,
   "metadata": {},
   "outputs": [
    {
     "name": "stderr",
     "output_type": "stream",
     "text": [
      "/Users/samay20/opt/anaconda3/lib/python3.8/site-packages/pandas/core/frame.py:4163: SettingWithCopyWarning: \n",
      "A value is trying to be set on a copy of a slice from a DataFrame\n",
      "\n",
      "See the caveats in the documentation: https://pandas.pydata.org/pandas-docs/stable/user_guide/indexing.html#returning-a-view-versus-a-copy\n",
      "  return super().drop(\n"
     ]
    }
   ],
   "source": [
    "## Delete the only row - with >6 bedrooms - clear outlier in our dataset\n",
    "\n",
    "t = df6.loc[df6['Bedroom AbvGr']>6,:].index\n",
    "df6.drop(index=t,inplace=True)"
   ]
  },
  {
   "cell_type": "code",
   "execution_count": 98,
   "metadata": {},
   "outputs": [
    {
     "name": "stderr",
     "output_type": "stream",
     "text": [
      "/Users/samay20/opt/anaconda3/lib/python3.8/site-packages/seaborn/distributions.py:2551: FutureWarning: `distplot` is a deprecated function and will be removed in a future version. Please adapt your code to use either `displot` (a figure-level function with similar flexibility) or `histplot` (an axes-level function for histograms).\n",
      "  warnings.warn(msg, FutureWarning)\n"
     ]
    },
    {
     "data": {
      "image/png": "[encoded data removed]",
      "text/plain": [
       "<Figure size 432x288 with 1 Axes>"
      ]
     },
     "metadata": {
      "needs_background": "light"
     },
     "output_type": "display_data"
    }
   ],
   "source": [
    "#4 Number of Bedrooms - After\n",
    "sns.distplot(df6['Bedroom AbvGr']);"
   ]
  },
  {
   "cell_type": "code",
   "execution_count": 99,
   "metadata": {},
   "outputs": [
    {
     "name": "stderr",
     "output_type": "stream",
     "text": [
      "/Users/samay20/opt/anaconda3/lib/python3.8/site-packages/seaborn/distributions.py:2551: FutureWarning: `distplot` is a deprecated function and will be removed in a future version. Please adapt your code to use either `displot` (a figure-level function with similar flexibility) or `histplot` (an axes-level function for histograms).\n",
      "  warnings.warn(msg, FutureWarning)\n"
     ]
    },
    {
     "data": {
      "image/png": "[encoded data removed]",
      "text/plain": [
       "<Figure size 432x288 with 1 Axes>"
      ]
     },
     "metadata": {
      "needs_background": "light"
     },
     "output_type": "display_data"
    }
   ],
   "source": [
    "#5 Number of Fireplaces - Before\n",
    "sns.distplot(df6['Fireplaces']);"
   ]
  },
  {
   "cell_type": "code",
   "execution_count": 100,
   "metadata": {},
   "outputs": [
    {
     "name": "stderr",
     "output_type": "stream",
     "text": [
      "/Users/samay20/opt/anaconda3/lib/python3.8/site-packages/pandas/core/frame.py:4163: SettingWithCopyWarning: \n",
      "A value is trying to be set on a copy of a slice from a DataFrame\n",
      "\n",
      "See the caveats in the documentation: https://pandas.pydata.org/pandas-docs/stable/user_guide/indexing.html#returning-a-view-versus-a-copy\n",
      "  return super().drop(\n"
     ]
    }
   ],
   "source": [
    "#### Delete 6 row - with >2 Fireplaces - clear outliers in our dataset.\n",
    "\n",
    "u = df6.loc[df6['Fireplaces']>2,:].index\n",
    "df6.drop(index=u,inplace=True)"
   ]
  },
  {
   "cell_type": "code",
   "execution_count": 101,
   "metadata": {},
   "outputs": [
    {
     "name": "stderr",
     "output_type": "stream",
     "text": [
      "/Users/samay20/opt/anaconda3/lib/python3.8/site-packages/seaborn/distributions.py:2551: FutureWarning: `distplot` is a deprecated function and will be removed in a future version. Please adapt your code to use either `displot` (a figure-level function with similar flexibility) or `histplot` (an axes-level function for histograms).\n",
      "  warnings.warn(msg, FutureWarning)\n"
     ]
    },
    {
     "data": {
      "image/png": "[encoded data removed]",
      "text/plain": [
       "<Figure size 432x288 with 1 Axes>"
      ]
     },
     "metadata": {
      "needs_background": "light"
     },
     "output_type": "display_data"
    }
   ],
   "source": [
    "#6 Number of Fireplaces - Before (Makes sense as most houses don't come with a fireplace)\n",
    "sns.distplot(df6['Fireplaces']);"
   ]
  },
  {
   "cell_type": "code",
   "execution_count": 102,
   "metadata": {},
   "outputs": [
    {
     "name": "stderr",
     "output_type": "stream",
     "text": [
      "/Users/samay20/opt/anaconda3/lib/python3.8/site-packages/seaborn/distributions.py:2551: FutureWarning: `distplot` is a deprecated function and will be removed in a future version. Please adapt your code to use either `displot` (a figure-level function with similar flexibility) or `histplot` (an axes-level function for histograms).\n",
      "  warnings.warn(msg, FutureWarning)\n"
     ]
    },
    {
     "data": {
      "image/png": "[encoded data removed]",
      "text/plain": [
       "<Figure size 432x288 with 1 Axes>"
      ]
     },
     "metadata": {
      "needs_background": "light"
     },
     "output_type": "display_data"
    }
   ],
   "source": [
    "#7 Mo Sold (Categorical) - Makes sense that most houses are sold during summer\n",
    "sns.distplot(df6['Mo Sold']);"
   ]
  },
  {
   "attachments": {
    "Screen%20Shot%202021-04-08%20at%202.01.28%20AM.png": {
     "image/png": "[encoded data removed]"
    }
   },
   "cell_type": "markdown",
   "metadata": {},
   "source": [
    "![Screen%20Shot%202021-04-08%20at%202.01.28%20AM.png](attachment:Screen%20Shot%202021-04-08%20at%202.01.28%20AM.png)\n",
    "\n",
    "[Read Full Article][1]\n",
    "\n",
    "[1]: https://www.theatlantic.com/business/archive/2011/01/after-an-ugly-2010-the-housing-market-wont-look-much-better-in-2011/69009/"
   ]
  },
  {
   "cell_type": "code",
   "execution_count": 103,
   "metadata": {},
   "outputs": [
    {
     "name": "stderr",
     "output_type": "stream",
     "text": [
      "/Users/samay20/opt/anaconda3/lib/python3.8/site-packages/seaborn/distributions.py:2551: FutureWarning: `distplot` is a deprecated function and will be removed in a future version. Please adapt your code to use either `displot` (a figure-level function with similar flexibility) or `histplot` (an axes-level function for histograms).\n",
      "  warnings.warn(msg, FutureWarning)\n"
     ]
    },
    {
     "data": {
      "image/png": "[encoded data removed]",
      "text/plain": [
       "<Figure size 432x288 with 1 Axes>"
      ]
     },
     "metadata": {
      "needs_background": "light"
     },
     "output_type": "display_data"
    }
   ],
   "source": [
    "#8 Yr Sold - Looks like the market was steady year over year, except 2010 (Categorical)\n",
    "sns.distplot(df6['Yr Sold']);"
   ]
  },
  {
   "cell_type": "code",
   "execution_count": 104,
   "metadata": {},
   "outputs": [
    {
     "data": {
      "text/plain": [
       "<AxesSubplot:xlabel='Sale Type', ylabel='Count'>"
      ]
     },
     "execution_count": 104,
     "metadata": {},
     "output_type": "execute_result"
    },
    {
     "data": {
      "image/png": "[encoded data removed]",
      "text/plain": [
       "<Figure size 432x288 with 1 Axes>"
      ]
     },
     "metadata": {
      "needs_background": "light"
     },
     "output_type": "display_data"
    }
   ],
   "source": [
    "#9 Sale Type (Categorical) - Already grouped these categories in previous section\n",
    "sns.histplot(df6['Sale Type'])"
   ]
  },
  {
   "cell_type": "code",
   "execution_count": 105,
   "metadata": {},
   "outputs": [],
   "source": [
    "## Our index are all messed-up after dropping outliers, lets reset and drop old index\n",
    "\n",
    "df7 = df6.reset_index(drop=True)"
   ]
  },
  {
   "cell_type": "code",
   "execution_count": 106,
   "metadata": {},
   "outputs": [
    {
     "data": {
      "text/html": [
       "<div>\n",
       "<style scoped>\n",
       "    .dataframe tbody tr th:only-of-type {\n",
       "        vertical-align: middle;\n",
       "    }\n",
       "\n",
       "    .dataframe tbody tr th {\n",
       "        vertical-align: top;\n",
       "    }\n",
       "\n",
       "    .dataframe thead th {\n",
       "        text-align: right;\n",
       "    }\n",
       "</style>\n",
       "<table border=\"1\" class=\"dataframe\">\n",
       "  <thead>\n",
       "    <tr style=\"text-align: right;\">\n",
       "      <th></th>\n",
       "      <th>Id</th>\n",
       "      <th>PID</th>\n",
       "      <th>MS SubClass</th>\n",
       "      <th>MS Zoning</th>\n",
       "      <th>Lot Frontage</th>\n",
       "      <th>Lot Area</th>\n",
       "      <th>Neighborhood</th>\n",
       "      <th>Overall Qual</th>\n",
       "      <th>Overall Cond</th>\n",
       "      <th>Roof Style</th>\n",
       "      <th>...</th>\n",
       "      <th>has_Garage</th>\n",
       "      <th>has_goodGarage</th>\n",
       "      <th>has_paveddriveway</th>\n",
       "      <th>has_pool</th>\n",
       "      <th>has_woodDeck</th>\n",
       "      <th>has_Porch</th>\n",
       "      <th>has_miscFeatures</th>\n",
       "      <th>has_goodFence</th>\n",
       "      <th>isNeigh_collgcr_oldtown</th>\n",
       "      <th>is_densityHigh</th>\n",
       "    </tr>\n",
       "  </thead>\n",
       "  <tbody>\n",
       "    <tr>\n",
       "      <th>count</th>\n",
       "      <td>843.000000</td>\n",
       "      <td>8.430000e+02</td>\n",
       "      <td>843.000000</td>\n",
       "      <td>843</td>\n",
       "      <td>843.000000</td>\n",
       "      <td>843.000000</td>\n",
       "      <td>843</td>\n",
       "      <td>843.000000</td>\n",
       "      <td>843.000000</td>\n",
       "      <td>843</td>\n",
       "      <td>...</td>\n",
       "      <td>843.000000</td>\n",
       "      <td>843.000000</td>\n",
       "      <td>843.000000</td>\n",
       "      <td>843.000000</td>\n",
       "      <td>843.000000</td>\n",
       "      <td>843.000000</td>\n",
       "      <td>843.000000</td>\n",
       "      <td>843.000000</td>\n",
       "      <td>843.000000</td>\n",
       "      <td>843.000000</td>\n",
       "    </tr>\n",
       "    <tr>\n",
       "      <th>unique</th>\n",
       "      <td>NaN</td>\n",
       "      <td>NaN</td>\n",
       "      <td>NaN</td>\n",
       "      <td>5</td>\n",
       "      <td>NaN</td>\n",
       "      <td>NaN</td>\n",
       "      <td>26</td>\n",
       "      <td>NaN</td>\n",
       "      <td>NaN</td>\n",
       "      <td>6</td>\n",
       "      <td>...</td>\n",
       "      <td>NaN</td>\n",
       "      <td>NaN</td>\n",
       "      <td>NaN</td>\n",
       "      <td>NaN</td>\n",
       "      <td>NaN</td>\n",
       "      <td>NaN</td>\n",
       "      <td>NaN</td>\n",
       "      <td>NaN</td>\n",
       "      <td>NaN</td>\n",
       "      <td>NaN</td>\n",
       "    </tr>\n",
       "    <tr>\n",
       "      <th>top</th>\n",
       "      <td>NaN</td>\n",
       "      <td>NaN</td>\n",
       "      <td>NaN</td>\n",
       "      <td>RL</td>\n",
       "      <td>NaN</td>\n",
       "      <td>NaN</td>\n",
       "      <td>NAmes</td>\n",
       "      <td>NaN</td>\n",
       "      <td>NaN</td>\n",
       "      <td>Gable</td>\n",
       "      <td>...</td>\n",
       "      <td>NaN</td>\n",
       "      <td>NaN</td>\n",
       "      <td>NaN</td>\n",
       "      <td>NaN</td>\n",
       "      <td>NaN</td>\n",
       "      <td>NaN</td>\n",
       "      <td>NaN</td>\n",
       "      <td>NaN</td>\n",
       "      <td>NaN</td>\n",
       "      <td>NaN</td>\n",
       "    </tr>\n",
       "    <tr>\n",
       "      <th>freq</th>\n",
       "      <td>NaN</td>\n",
       "      <td>NaN</td>\n",
       "      <td>NaN</td>\n",
       "      <td>640</td>\n",
       "      <td>NaN</td>\n",
       "      <td>NaN</td>\n",
       "      <td>129</td>\n",
       "      <td>NaN</td>\n",
       "      <td>NaN</td>\n",
       "      <td>682</td>\n",
       "      <td>...</td>\n",
       "      <td>NaN</td>\n",
       "      <td>NaN</td>\n",
       "      <td>NaN</td>\n",
       "      <td>NaN</td>\n",
       "      <td>NaN</td>\n",
       "      <td>NaN</td>\n",
       "      <td>NaN</td>\n",
       "      <td>NaN</td>\n",
       "      <td>NaN</td>\n",
       "      <td>NaN</td>\n",
       "    </tr>\n",
       "    <tr>\n",
       "      <th>mean</th>\n",
       "      <td>1431.179122</td>\n",
       "      <td>7.152416e+08</td>\n",
       "      <td>58.772242</td>\n",
       "      <td>NaN</td>\n",
       "      <td>67.890866</td>\n",
       "      <td>9387.289442</td>\n",
       "      <td>NaN</td>\n",
       "      <td>6.039146</td>\n",
       "      <td>5.578885</td>\n",
       "      <td>NaN</td>\n",
       "      <td>...</td>\n",
       "      <td>0.950178</td>\n",
       "      <td>0.882562</td>\n",
       "      <td>0.900356</td>\n",
       "      <td>0.002372</td>\n",
       "      <td>0.482800</td>\n",
       "      <td>0.697509</td>\n",
       "      <td>0.045077</td>\n",
       "      <td>0.075919</td>\n",
       "      <td>0.251483</td>\n",
       "      <td>0.615658</td>\n",
       "    </tr>\n",
       "    <tr>\n",
       "      <th>std</th>\n",
       "      <td>846.525798</td>\n",
       "      <td>1.885758e+08</td>\n",
       "      <td>42.428566</td>\n",
       "      <td>NaN</td>\n",
       "      <td>18.834886</td>\n",
       "      <td>3744.798538</td>\n",
       "      <td>NaN</td>\n",
       "      <td>1.355778</td>\n",
       "      <td>1.110041</td>\n",
       "      <td>NaN</td>\n",
       "      <td>...</td>\n",
       "      <td>0.217706</td>\n",
       "      <td>0.322132</td>\n",
       "      <td>0.299703</td>\n",
       "      <td>0.048679</td>\n",
       "      <td>0.500001</td>\n",
       "      <td>0.459609</td>\n",
       "      <td>0.207596</td>\n",
       "      <td>0.265026</td>\n",
       "      <td>0.434123</td>\n",
       "      <td>0.486728</td>\n",
       "    </tr>\n",
       "    <tr>\n",
       "      <th>min</th>\n",
       "      <td>2.000000</td>\n",
       "      <td>5.263021e+08</td>\n",
       "      <td>20.000000</td>\n",
       "      <td>NaN</td>\n",
       "      <td>21.000000</td>\n",
       "      <td>1477.000000</td>\n",
       "      <td>NaN</td>\n",
       "      <td>2.000000</td>\n",
       "      <td>1.000000</td>\n",
       "      <td>NaN</td>\n",
       "      <td>...</td>\n",
       "      <td>0.000000</td>\n",
       "      <td>0.000000</td>\n",
       "      <td>0.000000</td>\n",
       "      <td>0.000000</td>\n",
       "      <td>0.000000</td>\n",
       "      <td>0.000000</td>\n",
       "      <td>0.000000</td>\n",
       "      <td>0.000000</td>\n",
       "      <td>0.000000</td>\n",
       "      <td>0.000000</td>\n",
       "    </tr>\n",
       "    <tr>\n",
       "      <th>25%</th>\n",
       "      <td>684.500000</td>\n",
       "      <td>5.313750e+08</td>\n",
       "      <td>20.000000</td>\n",
       "      <td>NaN</td>\n",
       "      <td>60.000000</td>\n",
       "      <td>7200.000000</td>\n",
       "      <td>NaN</td>\n",
       "      <td>5.000000</td>\n",
       "      <td>5.000000</td>\n",
       "      <td>NaN</td>\n",
       "      <td>...</td>\n",
       "      <td>1.000000</td>\n",
       "      <td>1.000000</td>\n",
       "      <td>1.000000</td>\n",
       "      <td>0.000000</td>\n",
       "      <td>0.000000</td>\n",
       "      <td>0.000000</td>\n",
       "      <td>0.000000</td>\n",
       "      <td>0.000000</td>\n",
       "      <td>0.000000</td>\n",
       "      <td>0.000000</td>\n",
       "    </tr>\n",
       "    <tr>\n",
       "      <th>50%</th>\n",
       "      <td>1412.000000</td>\n",
       "      <td>5.354532e+08</td>\n",
       "      <td>50.000000</td>\n",
       "      <td>NaN</td>\n",
       "      <td>68.000000</td>\n",
       "      <td>9316.000000</td>\n",
       "      <td>NaN</td>\n",
       "      <td>6.000000</td>\n",
       "      <td>5.000000</td>\n",
       "      <td>NaN</td>\n",
       "      <td>...</td>\n",
       "      <td>1.000000</td>\n",
       "      <td>1.000000</td>\n",
       "      <td>1.000000</td>\n",
       "      <td>0.000000</td>\n",
       "      <td>0.000000</td>\n",
       "      <td>1.000000</td>\n",
       "      <td>0.000000</td>\n",
       "      <td>0.000000</td>\n",
       "      <td>0.000000</td>\n",
       "      <td>1.000000</td>\n",
       "    </tr>\n",
       "    <tr>\n",
       "      <th>75%</th>\n",
       "      <td>2164.500000</td>\n",
       "      <td>9.071331e+08</td>\n",
       "      <td>72.500000</td>\n",
       "      <td>NaN</td>\n",
       "      <td>78.000000</td>\n",
       "      <td>11313.500000</td>\n",
       "      <td>NaN</td>\n",
       "      <td>7.000000</td>\n",
       "      <td>6.000000</td>\n",
       "      <td>NaN</td>\n",
       "      <td>...</td>\n",
       "      <td>1.000000</td>\n",
       "      <td>1.000000</td>\n",
       "      <td>1.000000</td>\n",
       "      <td>0.000000</td>\n",
       "      <td>1.000000</td>\n",
       "      <td>1.000000</td>\n",
       "      <td>0.000000</td>\n",
       "      <td>0.000000</td>\n",
       "      <td>1.000000</td>\n",
       "      <td>1.000000</td>\n",
       "    </tr>\n",
       "    <tr>\n",
       "      <th>max</th>\n",
       "      <td>2928.000000</td>\n",
       "      <td>9.241000e+08</td>\n",
       "      <td>190.000000</td>\n",
       "      <td>NaN</td>\n",
       "      <td>131.000000</td>\n",
       "      <td>24682.000000</td>\n",
       "      <td>NaN</td>\n",
       "      <td>10.000000</td>\n",
       "      <td>9.000000</td>\n",
       "      <td>NaN</td>\n",
       "      <td>...</td>\n",
       "      <td>1.000000</td>\n",
       "      <td>1.000000</td>\n",
       "      <td>1.000000</td>\n",
       "      <td>1.000000</td>\n",
       "      <td>1.000000</td>\n",
       "      <td>1.000000</td>\n",
       "      <td>1.000000</td>\n",
       "      <td>1.000000</td>\n",
       "      <td>1.000000</td>\n",
       "      <td>1.000000</td>\n",
       "    </tr>\n",
       "  </tbody>\n",
       "</table>\n",
       "<p>11 rows × 69 columns</p>\n",
       "</div>"
      ],
      "text/plain": [
       "                 Id           PID  MS SubClass MS Zoning  Lot Frontage  \\\n",
       "count    843.000000  8.430000e+02   843.000000       843    843.000000   \n",
       "unique          NaN           NaN          NaN         5           NaN   \n",
       "top             NaN           NaN          NaN        RL           NaN   \n",
       "freq            NaN           NaN          NaN       640           NaN   \n",
       "mean    1431.179122  7.152416e+08    58.772242       NaN     67.890866   \n",
       "std      846.525798  1.885758e+08    42.428566       NaN     18.834886   \n",
       "min        2.000000  5.263021e+08    20.000000       NaN     21.000000   \n",
       "25%      684.500000  5.313750e+08    20.000000       NaN     60.000000   \n",
       "50%     1412.000000  5.354532e+08    50.000000       NaN     68.000000   \n",
       "75%     2164.500000  9.071331e+08    72.500000       NaN     78.000000   \n",
       "max     2928.000000  9.241000e+08   190.000000       NaN    131.000000   \n",
       "\n",
       "            Lot Area Neighborhood  Overall Qual  Overall Cond Roof Style  ...  \\\n",
       "count     843.000000          843    843.000000    843.000000        843  ...   \n",
       "unique           NaN           26           NaN           NaN          6  ...   \n",
       "top              NaN        NAmes           NaN           NaN      Gable  ...   \n",
       "freq             NaN          129           NaN           NaN        682  ...   \n",
       "mean     9387.289442          NaN      6.039146      5.578885        NaN  ...   \n",
       "std      3744.798538          NaN      1.355778      1.110041        NaN  ...   \n",
       "min      1477.000000          NaN      2.000000      1.000000        NaN  ...   \n",
       "25%      7200.000000          NaN      5.000000      5.000000        NaN  ...   \n",
       "50%      9316.000000          NaN      6.000000      5.000000        NaN  ...   \n",
       "75%     11313.500000          NaN      7.000000      6.000000        NaN  ...   \n",
       "max     24682.000000          NaN     10.000000      9.000000        NaN  ...   \n",
       "\n",
       "        has_Garage has_goodGarage  has_paveddriveway    has_pool has_woodDeck  \\\n",
       "count   843.000000     843.000000         843.000000  843.000000   843.000000   \n",
       "unique         NaN            NaN                NaN         NaN          NaN   \n",
       "top            NaN            NaN                NaN         NaN          NaN   \n",
       "freq           NaN            NaN                NaN         NaN          NaN   \n",
       "mean      0.950178       0.882562           0.900356    0.002372     0.482800   \n",
       "std       0.217706       0.322132           0.299703    0.048679     0.500001   \n",
       "min       0.000000       0.000000           0.000000    0.000000     0.000000   \n",
       "25%       1.000000       1.000000           1.000000    0.000000     0.000000   \n",
       "50%       1.000000       1.000000           1.000000    0.000000     0.000000   \n",
       "75%       1.000000       1.000000           1.000000    0.000000     1.000000   \n",
       "max       1.000000       1.000000           1.000000    1.000000     1.000000   \n",
       "\n",
       "         has_Porch  has_miscFeatures  has_goodFence  isNeigh_collgcr_oldtown  \\\n",
       "count   843.000000        843.000000     843.000000               843.000000   \n",
       "unique         NaN               NaN            NaN                      NaN   \n",
       "top            NaN               NaN            NaN                      NaN   \n",
       "freq           NaN               NaN            NaN                      NaN   \n",
       "mean      0.697509          0.045077       0.075919                 0.251483   \n",
       "std       0.459609          0.207596       0.265026                 0.434123   \n",
       "min       0.000000          0.000000       0.000000                 0.000000   \n",
       "25%       0.000000          0.000000       0.000000                 0.000000   \n",
       "50%       1.000000          0.000000       0.000000                 0.000000   \n",
       "75%       1.000000          0.000000       0.000000                 1.000000   \n",
       "max       1.000000          1.000000       1.000000                 1.000000   \n",
       "\n",
       "        is_densityHigh  \n",
       "count       843.000000  \n",
       "unique             NaN  \n",
       "top                NaN  \n",
       "freq               NaN  \n",
       "mean          0.615658  \n",
       "std           0.486728  \n",
       "min           0.000000  \n",
       "25%           0.000000  \n",
       "50%           1.000000  \n",
       "75%           1.000000  \n",
       "max           1.000000  \n",
       "\n",
       "[11 rows x 69 columns]"
      ]
     },
     "execution_count": 106,
     "metadata": {},
     "output_type": "execute_result"
    }
   ],
   "source": [
    "## Lets look at the description (including categorical) and see if everything falls within ~3SD from the mean\n",
    "\n",
    "df7.describe(include='all')"
   ]
  },
  {
   "cell_type": "markdown",
   "metadata": {},
   "source": [
    "**Lets resave our work as v3 clean_no_outliers**"
   ]
  },
  {
   "cell_type": "code",
   "execution_count": 107,
   "metadata": {},
   "outputs": [],
   "source": [
    "df7.to_csv('./datasets/Test/Test_v3_clean_nooutliers.csv',index=False)"
   ]
  },
  {
   "cell_type": "markdown",
   "metadata": {},
   "source": [
    " "
   ]
  },
  {
   "cell_type": "markdown",
   "metadata": {},
   "source": [
    "## EDA Step 3: Multivariate Analysis"
   ]
  },
  {
   "cell_type": "code",
   "execution_count": 108,
   "metadata": {},
   "outputs": [],
   "source": [
    "pairplot1 = df7[['Lot Frontage', 'Lot Area',\n",
    "       'Neighborhood', 'Total Bsmt SF','Bedroom AbvGr']]"
   ]
  },
  {
   "cell_type": "code",
   "execution_count": 109,
   "metadata": {},
   "outputs": [
    {
     "data": {
      "text/plain": [
       "<seaborn.axisgrid.PairGrid at 0x7fc1a2f66880>"
      ]
     },
     "execution_count": 109,
     "metadata": {},
     "output_type": "execute_result"
    },
    {
     "data": {
      "image/png": "[encoded data removed]",
      "text/plain": [
       "<Figure size 720x720 with 20 Axes>"
      ]
     },
     "metadata": {
      "needs_background": "light"
     },
     "output_type": "display_data"
    }
   ],
   "source": [
    "## Lets try to plor some numerical columns against our target 'SalePrice'\n",
    "sns.pairplot(pairplot1)"
   ]
  },
  {
   "cell_type": "markdown",
   "metadata": {},
   "source": [
    " "
   ]
  },
  {
   "cell_type": "markdown",
   "metadata": {},
   "source": [
    "**Model#1 - with Primary Predictors only**"
   ]
  },
  {
   "cell_type": "code",
   "execution_count": 110,
   "metadata": {},
   "outputs": [],
   "source": [
    "variables1 = df7[['Lot Frontage', 'Lot Area','Total Bsmt SF','Bedroom AbvGr']]"
   ]
  },
  {
   "cell_type": "code",
   "execution_count": 111,
   "metadata": {},
   "outputs": [],
   "source": [
    "## Only Numerical and removed Lot Frontage - might be multicollinear with Lot Area\n",
    "df7_selectcat1 = ['Id','Lot Area', 'Total Bsmt SF','Bedroom AbvGr']"
   ]
  },
  {
   "cell_type": "code",
   "execution_count": 112,
   "metadata": {},
   "outputs": [
    {
     "data": {
      "text/html": [
       "<div>\n",
       "<style scoped>\n",
       "    .dataframe tbody tr th:only-of-type {\n",
       "        vertical-align: middle;\n",
       "    }\n",
       "\n",
       "    .dataframe tbody tr th {\n",
       "        vertical-align: top;\n",
       "    }\n",
       "\n",
       "    .dataframe thead th {\n",
       "        text-align: right;\n",
       "    }\n",
       "</style>\n",
       "<table border=\"1\" class=\"dataframe\">\n",
       "  <thead>\n",
       "    <tr style=\"text-align: right;\">\n",
       "      <th></th>\n",
       "      <th>Lot Frontage</th>\n",
       "      <th>Lot Area</th>\n",
       "      <th>Total Bsmt SF</th>\n",
       "      <th>Bedroom AbvGr</th>\n",
       "    </tr>\n",
       "  </thead>\n",
       "  <tbody>\n",
       "    <tr>\n",
       "      <th>Lot Frontage</th>\n",
       "      <td>1.000000</td>\n",
       "      <td>0.625532</td>\n",
       "      <td>0.310727</td>\n",
       "      <td>0.250820</td>\n",
       "    </tr>\n",
       "    <tr>\n",
       "      <th>Lot Area</th>\n",
       "      <td>0.625532</td>\n",
       "      <td>1.000000</td>\n",
       "      <td>0.315684</td>\n",
       "      <td>0.261121</td>\n",
       "    </tr>\n",
       "    <tr>\n",
       "      <th>Total Bsmt SF</th>\n",
       "      <td>0.310727</td>\n",
       "      <td>0.315684</td>\n",
       "      <td>1.000000</td>\n",
       "      <td>0.049963</td>\n",
       "    </tr>\n",
       "    <tr>\n",
       "      <th>Bedroom AbvGr</th>\n",
       "      <td>0.250820</td>\n",
       "      <td>0.261121</td>\n",
       "      <td>0.049963</td>\n",
       "      <td>1.000000</td>\n",
       "    </tr>\n",
       "  </tbody>\n",
       "</table>\n",
       "</div>"
      ],
      "text/plain": [
       "               Lot Frontage  Lot Area  Total Bsmt SF  Bedroom AbvGr\n",
       "Lot Frontage       1.000000  0.625532       0.310727       0.250820\n",
       "Lot Area           0.625532  1.000000       0.315684       0.261121\n",
       "Total Bsmt SF      0.310727  0.315684       1.000000       0.049963\n",
       "Bedroom AbvGr      0.250820  0.261121       0.049963       1.000000"
      ]
     },
     "execution_count": 112,
     "metadata": {},
     "output_type": "execute_result"
    }
   ],
   "source": [
    "variables1.corr()"
   ]
  },
  {
   "cell_type": "markdown",
   "metadata": {},
   "source": [
    " "
   ]
  },
  {
   "cell_type": "markdown",
   "metadata": {},
   "source": [
    "**Model#2 - with 2 Primary Predictors and Manually dummified columns**"
   ]
  },
  {
   "cell_type": "code",
   "execution_count": 113,
   "metadata": {},
   "outputs": [],
   "source": [
    "## Removed some features that I believe will be multicollinear with other features\n",
    "\n",
    "df7_selectcat2 = ['Id','Lot Area','Bedroom AbvGr',\n",
    "        'Lotshape_isRegular', 'isLandLevel','isLotCorner', 'isLotCulDSac', 'isgood_overall',\n",
    "       'is_remodeled', 'is_roofGable', 'has_masonryveneer', 'hasgood_Basement', 'is_fullfurnished', \n",
    "       'total_full_baths', 'total_half_baths','has_1pluskitchen', 'has_goodkitchen',\n",
    "       'has_fireplace', 'has_detachedGarage',  'has_goodGarage','has_pool', 'has_woodDeck', 'has_Porch',\n",
    "       'has_miscFeatures', 'has_goodFence']"
   ]
  },
  {
   "cell_type": "markdown",
   "metadata": {},
   "source": [
    " "
   ]
  },
  {
   "cell_type": "markdown",
   "metadata": {},
   "source": [
    " "
   ]
  },
  {
   "cell_type": "markdown",
   "metadata": {},
   "source": [
    " "
   ]
  },
  {
   "cell_type": "markdown",
   "metadata": {},
   "source": [
    "## EDA Step 4: Create Dummy Variables"
   ]
  },
  {
   "cell_type": "code",
   "execution_count": 114,
   "metadata": {},
   "outputs": [],
   "source": [
    "createDummies = df7[['Neighborhood','Foundation','Sale Type','proximity_to','Density','Bldg_type','House_style','house_age']]"
   ]
  },
  {
   "cell_type": "code",
   "execution_count": 115,
   "metadata": {},
   "outputs": [],
   "source": [
    "our_dummies1 = pd.get_dummies(createDummies,drop_first=True)"
   ]
  },
  {
   "cell_type": "markdown",
   "metadata": {},
   "source": [
    " "
   ]
  },
  {
   "cell_type": "markdown",
   "metadata": {},
   "source": [
    "**Save Dataframe to create Model#1 & Model#2 in separate files**"
   ]
  },
  {
   "cell_type": "code",
   "execution_count": 116,
   "metadata": {},
   "outputs": [],
   "source": [
    "reg_sample_1_withdummies = pd.concat([df7[df7_selectcat1],our_dummies1],axis=1)"
   ]
  },
  {
   "cell_type": "code",
   "execution_count": 117,
   "metadata": {},
   "outputs": [],
   "source": [
    "reg_sample_1_withdummies.to_csv('./datasets/Test/Test_model1_basic.csv',index=False)"
   ]
  },
  {
   "cell_type": "markdown",
   "metadata": {},
   "source": [
    " "
   ]
  },
  {
   "cell_type": "code",
   "execution_count": 118,
   "metadata": {},
   "outputs": [],
   "source": [
    "## Major Predictors + few new created dummy variables\n",
    "reg_sample_2_withdummies = pd.concat([df7[df7_selectcat2],our_dummies1],axis=1)"
   ]
  },
  {
   "cell_type": "code",
   "execution_count": 119,
   "metadata": {},
   "outputs": [],
   "source": [
    "reg_sample_2_withdummies.to_csv('./datasets/Test/Test_model2_withdummies.csv',index=False)"
   ]
  },
  {
   "cell_type": "markdown",
   "metadata": {},
   "source": [
    " "
   ]
  },
  {
   "cell_type": "markdown",
   "metadata": {},
   "source": [
    "**Model#3 - with selected features using trial-and-error approach**"
   ]
  },
  {
   "cell_type": "code",
   "execution_count": 120,
   "metadata": {},
   "outputs": [],
   "source": [
    "df8 = pd.get_dummies(data=df7,drop_first=True)"
   ]
  },
  {
   "cell_type": "code",
   "execution_count": 121,
   "metadata": {},
   "outputs": [],
   "source": [
    "df7_selectcat3 = ['Id', 'Lot Area','Bedroom AbvGr','Total Bsmt SF',\n",
    "        'Lotshape_isRegular', 'isLotCorner', 'isLotCulDSac', 'isgood_overall','hasgood_Exterior',\n",
    "        'is_roofGable', 'has_masonryveneer', 'Heating QC',\n",
    "       'hasgood_Basement', 'is_fullfurnished', 'has_goodGarage','Garage Cars','Street_isPaved',\n",
    "       'total_half_baths','total_full_baths','has_centralAir','is_remodeled',\n",
    "       'has_1pluskitchen', 'has_goodkitchen','is_fullyfunctional',\n",
    "       'has_fireplace', 'has_detachedGarage',  'has_miscFeatures',\n",
    "        'has_pool','has_woodDeck','has_Porch','has_paveddriveway',\n",
    "        'isNeigh_collgcr_oldtown', 'is_densityHigh',\n",
    "        'Foundation_CBlock', 'Foundation_PConc', 'Foundation_Slab',\n",
    "       'Foundation_Stone', 'Foundation_Wood', 'Sale Type_Contract',\n",
    "       'Sale Type_New Home', 'Sale Type_WarrantyDeed','proximity_to_far',\n",
    "       'proximity_to_veryClose', 'Bldg_type_Single',\n",
    "       'Bldg_type_TownHouse', 'House_style_1_story',\n",
    "       'House_style_2&2.5_story', 'House_style_Splitlevel',\n",
    "       'house_age_Contemporary', 'house_age_Medieval',\n",
    "       'house_age_Stone-age']"
   ]
  },
  {
   "cell_type": "code",
   "execution_count": 122,
   "metadata": {},
   "outputs": [],
   "source": [
    "##pd.set_option('display.max_rows', 130)"
   ]
  },
  {
   "cell_type": "code",
   "execution_count": 123,
   "metadata": {},
   "outputs": [],
   "source": [
    "reg_sample_3_withdummies = df8[df7_selectcat3]"
   ]
  },
  {
   "cell_type": "code",
   "execution_count": 124,
   "metadata": {},
   "outputs": [],
   "source": [
    "reg_sample_3_withdummies.to_csv('./datasets/Test/Test_model3_withdummies.csv',index=False)"
   ]
  },
  {
   "cell_type": "code",
   "execution_count": 125,
   "metadata": {},
   "outputs": [
    {
     "data": {
      "text/html": [
       "<div>\n",
       "<style scoped>\n",
       "    .dataframe tbody tr th:only-of-type {\n",
       "        vertical-align: middle;\n",
       "    }\n",
       "\n",
       "    .dataframe tbody tr th {\n",
       "        vertical-align: top;\n",
       "    }\n",
       "\n",
       "    .dataframe thead th {\n",
       "        text-align: right;\n",
       "    }\n",
       "</style>\n",
       "<table border=\"1\" class=\"dataframe\">\n",
       "  <thead>\n",
       "    <tr style=\"text-align: right;\">\n",
       "      <th></th>\n",
       "      <th>Id</th>\n",
       "      <th>Lot Area</th>\n",
       "      <th>Bedroom AbvGr</th>\n",
       "      <th>Total Bsmt SF</th>\n",
       "      <th>Lotshape_isRegular</th>\n",
       "      <th>isLotCorner</th>\n",
       "      <th>isLotCulDSac</th>\n",
       "      <th>isgood_overall</th>\n",
       "      <th>hasgood_Exterior</th>\n",
       "      <th>is_roofGable</th>\n",
       "      <th>...</th>\n",
       "      <th>proximity_to_far</th>\n",
       "      <th>proximity_to_veryClose</th>\n",
       "      <th>Bldg_type_Single</th>\n",
       "      <th>Bldg_type_TownHouse</th>\n",
       "      <th>House_style_1_story</th>\n",
       "      <th>House_style_2&amp;2.5_story</th>\n",
       "      <th>House_style_Splitlevel</th>\n",
       "      <th>house_age_Contemporary</th>\n",
       "      <th>house_age_Medieval</th>\n",
       "      <th>house_age_Stone-age</th>\n",
       "    </tr>\n",
       "  </thead>\n",
       "  <tbody>\n",
       "    <tr>\n",
       "      <th>0</th>\n",
       "      <td>2658</td>\n",
       "      <td>9142</td>\n",
       "      <td>4</td>\n",
       "      <td>1020</td>\n",
       "      <td>1</td>\n",
       "      <td>0</td>\n",
       "      <td>0</td>\n",
       "      <td>1</td>\n",
       "      <td>0</td>\n",
       "      <td>1</td>\n",
       "      <td>...</td>\n",
       "      <td>0</td>\n",
       "      <td>0</td>\n",
       "      <td>1</td>\n",
       "      <td>0</td>\n",
       "      <td>0</td>\n",
       "      <td>1</td>\n",
       "      <td>0</td>\n",
       "      <td>0</td>\n",
       "      <td>0</td>\n",
       "      <td>1</td>\n",
       "    </tr>\n",
       "    <tr>\n",
       "      <th>1</th>\n",
       "      <td>2718</td>\n",
       "      <td>9662</td>\n",
       "      <td>6</td>\n",
       "      <td>1967</td>\n",
       "      <td>0</td>\n",
       "      <td>0</td>\n",
       "      <td>0</td>\n",
       "      <td>0</td>\n",
       "      <td>1</td>\n",
       "      <td>1</td>\n",
       "      <td>...</td>\n",
       "      <td>0</td>\n",
       "      <td>0</td>\n",
       "      <td>0</td>\n",
       "      <td>0</td>\n",
       "      <td>1</td>\n",
       "      <td>0</td>\n",
       "      <td>0</td>\n",
       "      <td>0</td>\n",
       "      <td>0</td>\n",
       "      <td>0</td>\n",
       "    </tr>\n",
       "    <tr>\n",
       "      <th>2</th>\n",
       "      <td>2414</td>\n",
       "      <td>17104</td>\n",
       "      <td>3</td>\n",
       "      <td>654</td>\n",
       "      <td>0</td>\n",
       "      <td>0</td>\n",
       "      <td>0</td>\n",
       "      <td>0</td>\n",
       "      <td>1</td>\n",
       "      <td>1</td>\n",
       "      <td>...</td>\n",
       "      <td>0</td>\n",
       "      <td>0</td>\n",
       "      <td>1</td>\n",
       "      <td>0</td>\n",
       "      <td>0</td>\n",
       "      <td>1</td>\n",
       "      <td>0</td>\n",
       "      <td>1</td>\n",
       "      <td>0</td>\n",
       "      <td>0</td>\n",
       "    </tr>\n",
       "    <tr>\n",
       "      <th>3</th>\n",
       "      <td>1989</td>\n",
       "      <td>8520</td>\n",
       "      <td>2</td>\n",
       "      <td>968</td>\n",
       "      <td>1</td>\n",
       "      <td>0</td>\n",
       "      <td>0</td>\n",
       "      <td>0</td>\n",
       "      <td>1</td>\n",
       "      <td>1</td>\n",
       "      <td>...</td>\n",
       "      <td>0</td>\n",
       "      <td>0</td>\n",
       "      <td>1</td>\n",
       "      <td>0</td>\n",
       "      <td>1</td>\n",
       "      <td>0</td>\n",
       "      <td>0</td>\n",
       "      <td>0</td>\n",
       "      <td>0</td>\n",
       "      <td>1</td>\n",
       "    </tr>\n",
       "    <tr>\n",
       "      <th>4</th>\n",
       "      <td>625</td>\n",
       "      <td>9500</td>\n",
       "      <td>3</td>\n",
       "      <td>1394</td>\n",
       "      <td>0</td>\n",
       "      <td>0</td>\n",
       "      <td>0</td>\n",
       "      <td>0</td>\n",
       "      <td>1</td>\n",
       "      <td>1</td>\n",
       "      <td>...</td>\n",
       "      <td>0</td>\n",
       "      <td>0</td>\n",
       "      <td>1</td>\n",
       "      <td>0</td>\n",
       "      <td>1</td>\n",
       "      <td>0</td>\n",
       "      <td>0</td>\n",
       "      <td>0</td>\n",
       "      <td>0</td>\n",
       "      <td>0</td>\n",
       "    </tr>\n",
       "  </tbody>\n",
       "</table>\n",
       "<p>5 rows × 51 columns</p>\n",
       "</div>"
      ],
      "text/plain": [
       "     Id  Lot Area  Bedroom AbvGr  Total Bsmt SF  Lotshape_isRegular  \\\n",
       "0  2658      9142              4           1020                   1   \n",
       "1  2718      9662              6           1967                   0   \n",
       "2  2414     17104              3            654                   0   \n",
       "3  1989      8520              2            968                   1   \n",
       "4   625      9500              3           1394                   0   \n",
       "\n",
       "   isLotCorner  isLotCulDSac  isgood_overall  hasgood_Exterior  is_roofGable  \\\n",
       "0            0             0               1                 0             1   \n",
       "1            0             0               0                 1             1   \n",
       "2            0             0               0                 1             1   \n",
       "3            0             0               0                 1             1   \n",
       "4            0             0               0                 1             1   \n",
       "\n",
       "   ...  proximity_to_far  proximity_to_veryClose  Bldg_type_Single  \\\n",
       "0  ...                 0                       0                 1   \n",
       "1  ...                 0                       0                 0   \n",
       "2  ...                 0                       0                 1   \n",
       "3  ...                 0                       0                 1   \n",
       "4  ...                 0                       0                 1   \n",
       "\n",
       "   Bldg_type_TownHouse  House_style_1_story  House_style_2&2.5_story  \\\n",
       "0                    0                    0                        1   \n",
       "1                    0                    1                        0   \n",
       "2                    0                    0                        1   \n",
       "3                    0                    1                        0   \n",
       "4                    0                    1                        0   \n",
       "\n",
       "   House_style_Splitlevel  house_age_Contemporary  house_age_Medieval  \\\n",
       "0                       0                       0                   0   \n",
       "1                       0                       0                   0   \n",
       "2                       0                       1                   0   \n",
       "3                       0                       0                   0   \n",
       "4                       0                       0                   0   \n",
       "\n",
       "   house_age_Stone-age  \n",
       "0                    1  \n",
       "1                    0  \n",
       "2                    0  \n",
       "3                    1  \n",
       "4                    0  \n",
       "\n",
       "[5 rows x 51 columns]"
      ]
     },
     "execution_count": 125,
     "metadata": {},
     "output_type": "execute_result"
    }
   ],
   "source": [
    "reg_sample_3_withdummies.head()"
   ]
  },
  {
   "cell_type": "markdown",
   "metadata": {},
   "source": [
    " "
   ]
  },
  {
   "cell_type": "markdown",
   "metadata": {},
   "source": [
    "**Model#4 (FINAL) - with selected features using trial-and-error approach**"
   ]
  },
  {
   "cell_type": "code",
   "execution_count": 126,
   "metadata": {},
   "outputs": [],
   "source": [
    "reg_sample_4_withdummies = pd.concat([df7,our_dummies1],axis=1)"
   ]
  },
  {
   "cell_type": "code",
   "execution_count": 128,
   "metadata": {},
   "outputs": [],
   "source": [
    "reg_sample_4_withdummies.to_csv('./datasets/Test/Test_model4_withdummies.csv',index=False)"
   ]
  },
  {
   "cell_type": "markdown",
   "metadata": {},
   "source": [
    " "
   ]
  },
  {
   "cell_type": "markdown",
   "metadata": {},
   "source": [
    " "
   ]
  },
  {
   "cell_type": "code",
   "execution_count": 130,
   "metadata": {
    "scrolled": true
   },
   "outputs": [
    {
     "name": "stdout",
     "output_type": "stream",
     "text": [
      "All Data Clean and exported\n"
     ]
    }
   ],
   "source": [
    "print('All Data Clean and exported')"
   ]
  },
  {
   "cell_type": "markdown",
   "metadata": {},
   "source": [
    " "
   ]
  },
  {
   "cell_type": "markdown",
   "metadata": {},
   "source": [
    " "
   ]
  },
  {
   "cell_type": "markdown",
   "metadata": {},
   "source": [
    "### Separate notebook for Regression Models"
   ]
  },
  {
   "cell_type": "markdown",
   "metadata": {},
   "source": [
    "- [OPEN       - Model#1](SamayShah_MODEL%231_for_demo_purpose.ipynb)\n",
    "- [OPEN       - Model#2](SamayShah_MODEL%232_for_demo_purpose.ipynb)\n",
    "- [OPEN       - Model#3](SamayShah_MODEL%233_for_demo_purpose.ipynb)\n",
    "- [Train using FINAL - Model#4](SamayShah_MODEL%234__FINAL_MODEL__.ipynb)\n"
   ]
  },
  {
   "cell_type": "code",
   "execution_count": null,
   "metadata": {},
   "outputs": [],
   "source": []
  }
 ],
 "metadata": {
  "kernelspec": {
   "display_name": "Python 3",
   "language": "python",
   "name": "python3"
  },
  "language_info": {
   "codemirror_mode": {
    "name": "ipython",
    "version": 3
   },
   "file_extension": ".py",
   "mimetype": "text/x-python",
   "name": "python",
   "nbconvert_exporter": "python",
   "pygments_lexer": "ipython3",
   "version": "3.8.5"
  }
 },
 "nbformat": 4,
 "nbformat_minor": 4
}
