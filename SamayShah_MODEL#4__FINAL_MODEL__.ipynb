{
 "cells": [
  {
   "cell_type": "markdown",
   "metadata": {},
   "source": [
    "## MLR Model#4"
   ]
  },
  {
   "cell_type": "markdown",
   "metadata": {},
   "source": [
    "- [BACK TO TEST DATASET - Clean file](SamayShah_Project2(TEST)_DataCleaning_Test_Dataset.ipynb)\n",
    "- [BACK TO TRAIN DATASET - Clean file](SamayShah_Project2(Main_TRAIN)_DataCleaning_Train_Dataset.ipynb)\n",
    "- [TRAIN USING MODEL#1 - check Crossvalidation using Ridge and Lasso Models](SamayShah_MODEL%231_for_demo_purpose.ipynb)"
   ]
  },
  {
   "cell_type": "markdown",
   "metadata": {},
   "source": [
    " "
   ]
  },
  {
   "cell_type": "code",
   "execution_count": 1,
   "metadata": {},
   "outputs": [],
   "source": [
    "## Import Libraries\n",
    "\n",
    "import numpy as np\n",
    "import pandas as pd\n",
    "import matplotlib.pyplot as plt\n",
    "import seaborn as sns\n",
    "\n",
    "import statsmodels.api as sm\n",
    "from sklearn import metrics\n",
    "from sklearn.linear_model import LinearRegression\n",
    "from sklearn.model_selection import train_test_split, cross_val_score, KFold\n",
    "from sklearn.preprocessing import PolynomialFeatures, StandardScaler\n",
    "from scipy import stats\n",
    "\n",
    "## For additional testing\n",
    "from sklearn.linear_model import LassoCV, RidgeCV\n",
    "\n",
    "%matplotlib inline\n",
    "\n",
    "## Plot only 2 digits after the decimal point\n",
    "pd.set_option('display.float_format', lambda x: '%.2f' % x)"
   ]
  },
  {
   "cell_type": "code",
   "execution_count": 2,
   "metadata": {},
   "outputs": [],
   "source": [
    "## backup of full dataset in case we need it later\n",
    "\n",
    "originaldf = pd.read_csv('datasets/v3_clean_nooutliers.csv')"
   ]
  },
  {
   "cell_type": "code",
   "execution_count": 3,
   "metadata": {},
   "outputs": [],
   "source": [
    "## Import Dataset for Model#4\n",
    "\n",
    "df4 = pd.read_csv('datasets/model4_withdummies.csv')"
   ]
  },
  {
   "cell_type": "code",
   "execution_count": 4,
   "metadata": {},
   "outputs": [],
   "source": [
    "## Import Test Dataset - for final export\n",
    "\n",
    "df4_testdata = pd.read_csv('./datasets/Test/Test_model4_withdummies.csv')"
   ]
  },
  {
   "cell_type": "code",
   "execution_count": 5,
   "metadata": {},
   "outputs": [],
   "source": [
    "## Selected Features needed for this Model#4\n",
    "\n",
    "## Backward Selection Approach\n",
    "\n",
    "inputcols = ['Lot Frontage', 'Lot Area', 'Overall Qual', 'Overall Cond', 'Bsmt Qual',\n",
    "       'Bsmt Exposure', 'Total Bsmt SF', 'Heating QC', 'Bedroom AbvGr',\n",
    "       'Fireplaces', 'Garage Cars', 'Street_isPaved', 'Lotshape_isRegular',\n",
    "       'isSlopeNormal', 'is_remodeled', 'is_roofGable', 'hasgood_Exterior',\n",
    "       'is_fullfurnished', 'has_centralAir', 'total_full_baths',\n",
    "       'total_half_baths', 'has_1pluskitchen', 'has_paveddriveway', 'has_pool',\n",
    "       'has_Porch', 'isNeigh_collgcr_oldtown', \n",
    "       'Sale Type_New Home', 'proximity_to_veryClose', 'House_style_1_story',\n",
    "       'House_style_Splitlevel', 'house_age_Contemporary',\n",
    "       'house_age_Medieval', 'house_age_Stone-age','Foundation_PConc']\n",
    "\n",
    "#'is_densityHigh',"
   ]
  },
  {
   "cell_type": "markdown",
   "metadata": {},
   "source": [
    " "
   ]
  },
  {
   "cell_type": "markdown",
   "metadata": {},
   "source": [
    "### Multiple Linear Regression"
   ]
  },
  {
   "cell_type": "code",
   "execution_count": 6,
   "metadata": {},
   "outputs": [],
   "source": [
    "## For this model - 'Lot Area', 'Total Bsmt SF', 'Bedroom AbvGr' + most of dummy variables\n",
    "targets4 = df4['log_SalePrice']\n",
    "\n",
    "## Inputs everything except the target & SalePrice\n",
    "inputs4 = df4[inputcols]\n",
    "\n",
    "## Final Test dataset\n",
    "tinput = df4_testdata[inputcols]"
   ]
  },
  {
   "cell_type": "code",
   "execution_count": 7,
   "metadata": {},
   "outputs": [
    {
     "data": {
      "text/plain": [
       "(1972, 34)"
      ]
     },
     "execution_count": 7,
     "metadata": {},
     "output_type": "execute_result"
    }
   ],
   "source": [
    "inputs4.shape"
   ]
  },
  {
   "cell_type": "code",
   "execution_count": 8,
   "metadata": {},
   "outputs": [
    {
     "data": {
      "text/plain": [
       "(843, 34)"
      ]
     },
     "execution_count": 8,
     "metadata": {},
     "output_type": "execute_result"
    }
   ],
   "source": [
    "tinput.shape"
   ]
  },
  {
   "cell_type": "code",
   "execution_count": 9,
   "metadata": {},
   "outputs": [],
   "source": [
    "## Using statsmodel tp get p-value summary"
   ]
  },
  {
   "cell_type": "code",
   "execution_count": 10,
   "metadata": {},
   "outputs": [],
   "source": [
    "Input = sm.add_constant(inputs4)"
   ]
  },
  {
   "cell_type": "code",
   "execution_count": 11,
   "metadata": {},
   "outputs": [],
   "source": [
    "results = sm.OLS(targets4,Input).fit()"
   ]
  },
  {
   "cell_type": "code",
   "execution_count": 12,
   "metadata": {
    "scrolled": false
   },
   "outputs": [
    {
     "data": {
      "text/html": [
       "<table class=\"simpletable\">\n",
       "<caption>OLS Regression Results</caption>\n",
       "<tr>\n",
       "  <th>Dep. Variable:</th>      <td>log_SalePrice</td>  <th>  R-squared:         </th> <td>   0.907</td>\n",
       "</tr>\n",
       "<tr>\n",
       "  <th>Model:</th>                   <td>OLS</td>       <th>  Adj. R-squared:    </th> <td>   0.906</td>\n",
       "</tr>\n",
       "<tr>\n",
       "  <th>Method:</th>             <td>Least Squares</td>  <th>  F-statistic:       </th> <td>   558.4</td>\n",
       "</tr>\n",
       "<tr>\n",
       "  <th>Date:</th>             <td>Fri, 09 Apr 2021</td> <th>  Prob (F-statistic):</th>  <td>  0.00</td> \n",
       "</tr>\n",
       "<tr>\n",
       "  <th>Time:</th>                 <td>07:07:53</td>     <th>  Log-Likelihood:    </th> <td>  1387.4</td>\n",
       "</tr>\n",
       "<tr>\n",
       "  <th>No. Observations:</th>      <td>  1972</td>      <th>  AIC:               </th> <td>  -2705.</td>\n",
       "</tr>\n",
       "<tr>\n",
       "  <th>Df Residuals:</th>          <td>  1937</td>      <th>  BIC:               </th> <td>  -2509.</td>\n",
       "</tr>\n",
       "<tr>\n",
       "  <th>Df Model:</th>              <td>    34</td>      <th>                     </th>     <td> </td>   \n",
       "</tr>\n",
       "<tr>\n",
       "  <th>Covariance Type:</th>      <td>nonrobust</td>    <th>                     </th>     <td> </td>   \n",
       "</tr>\n",
       "</table>\n",
       "<table class=\"simpletable\">\n",
       "<tr>\n",
       "             <td></td>                <th>coef</th>     <th>std err</th>      <th>t</th>      <th>P>|t|</th>  <th>[0.025</th>    <th>0.975]</th>  \n",
       "</tr>\n",
       "<tr>\n",
       "  <th>const</th>                   <td>    9.9637</td> <td>    0.063</td> <td>  159.150</td> <td> 0.000</td> <td>    9.841</td> <td>   10.086</td>\n",
       "</tr>\n",
       "<tr>\n",
       "  <th>Lot Frontage</th>            <td>    0.0011</td> <td>    0.000</td> <td>    5.766</td> <td> 0.000</td> <td>    0.001</td> <td>    0.002</td>\n",
       "</tr>\n",
       "<tr>\n",
       "  <th>Lot Area</th>                <td> 1.314e-05</td> <td>  1.1e-06</td> <td>   11.958</td> <td> 0.000</td> <td>  1.1e-05</td> <td> 1.53e-05</td>\n",
       "</tr>\n",
       "<tr>\n",
       "  <th>Overall Qual</th>            <td>    0.0768</td> <td>    0.004</td> <td>   21.151</td> <td> 0.000</td> <td>    0.070</td> <td>    0.084</td>\n",
       "</tr>\n",
       "<tr>\n",
       "  <th>Overall Cond</th>            <td>    0.0451</td> <td>    0.003</td> <td>   13.908</td> <td> 0.000</td> <td>    0.039</td> <td>    0.051</td>\n",
       "</tr>\n",
       "<tr>\n",
       "  <th>Bsmt Qual</th>               <td>    0.0309</td> <td>    0.007</td> <td>    4.403</td> <td> 0.000</td> <td>    0.017</td> <td>    0.045</td>\n",
       "</tr>\n",
       "<tr>\n",
       "  <th>Bsmt Exposure</th>           <td>    0.0163</td> <td>    0.003</td> <td>    4.876</td> <td> 0.000</td> <td>    0.010</td> <td>    0.023</td>\n",
       "</tr>\n",
       "<tr>\n",
       "  <th>Total Bsmt SF</th>           <td>    0.0002</td> <td> 1.24e-05</td> <td>   19.098</td> <td> 0.000</td> <td>    0.000</td> <td>    0.000</td>\n",
       "</tr>\n",
       "<tr>\n",
       "  <th>Heating QC</th>              <td>    0.0178</td> <td>    0.004</td> <td>    4.556</td> <td> 0.000</td> <td>    0.010</td> <td>    0.025</td>\n",
       "</tr>\n",
       "<tr>\n",
       "  <th>Bedroom AbvGr</th>           <td>    0.0191</td> <td>    0.004</td> <td>    4.419</td> <td> 0.000</td> <td>    0.011</td> <td>    0.028</td>\n",
       "</tr>\n",
       "<tr>\n",
       "  <th>Fireplaces</th>              <td>    0.0580</td> <td>    0.005</td> <td>   10.719</td> <td> 0.000</td> <td>    0.047</td> <td>    0.069</td>\n",
       "</tr>\n",
       "<tr>\n",
       "  <th>Garage Cars</th>             <td>    0.0467</td> <td>    0.005</td> <td>    9.167</td> <td> 0.000</td> <td>    0.037</td> <td>    0.057</td>\n",
       "</tr>\n",
       "<tr>\n",
       "  <th>Street_isPaved</th>          <td>    0.2733</td> <td>    0.051</td> <td>    5.368</td> <td> 0.000</td> <td>    0.173</td> <td>    0.373</td>\n",
       "</tr>\n",
       "<tr>\n",
       "  <th>Lotshape_isRegular</th>      <td>   -0.0137</td> <td>    0.006</td> <td>   -2.148</td> <td> 0.032</td> <td>   -0.026</td> <td>   -0.001</td>\n",
       "</tr>\n",
       "<tr>\n",
       "  <th>isSlopeNormal</th>           <td>   -0.0360</td> <td>    0.014</td> <td>   -2.504</td> <td> 0.012</td> <td>   -0.064</td> <td>   -0.008</td>\n",
       "</tr>\n",
       "<tr>\n",
       "  <th>is_remodeled</th>            <td>    0.0194</td> <td>    0.010</td> <td>    1.845</td> <td> 0.065</td> <td>   -0.001</td> <td>    0.040</td>\n",
       "</tr>\n",
       "<tr>\n",
       "  <th>is_roofGable</th>            <td>   -0.0163</td> <td>    0.007</td> <td>   -2.203</td> <td> 0.028</td> <td>   -0.031</td> <td>   -0.002</td>\n",
       "</tr>\n",
       "<tr>\n",
       "  <th>hasgood_Exterior</th>        <td>    0.0595</td> <td>    0.018</td> <td>    3.221</td> <td> 0.001</td> <td>    0.023</td> <td>    0.096</td>\n",
       "</tr>\n",
       "<tr>\n",
       "  <th>is_fullfurnished</th>        <td>    0.2981</td> <td>    0.030</td> <td>   10.020</td> <td> 0.000</td> <td>    0.240</td> <td>    0.356</td>\n",
       "</tr>\n",
       "<tr>\n",
       "  <th>has_centralAir</th>          <td>    0.0293</td> <td>    0.013</td> <td>    2.188</td> <td> 0.029</td> <td>    0.003</td> <td>    0.056</td>\n",
       "</tr>\n",
       "<tr>\n",
       "  <th>total_full_baths</th>        <td>    0.0653</td> <td>    0.005</td> <td>   12.979</td> <td> 0.000</td> <td>    0.055</td> <td>    0.075</td>\n",
       "</tr>\n",
       "<tr>\n",
       "  <th>total_half_baths</th>        <td>    0.0393</td> <td>    0.006</td> <td>    6.125</td> <td> 0.000</td> <td>    0.027</td> <td>    0.052</td>\n",
       "</tr>\n",
       "<tr>\n",
       "  <th>has_1pluskitchen</th>        <td>   -0.0755</td> <td>    0.016</td> <td>   -4.713</td> <td> 0.000</td> <td>   -0.107</td> <td>   -0.044</td>\n",
       "</tr>\n",
       "<tr>\n",
       "  <th>has_paveddriveway</th>       <td>    0.0730</td> <td>    0.012</td> <td>    6.119</td> <td> 0.000</td> <td>    0.050</td> <td>    0.096</td>\n",
       "</tr>\n",
       "<tr>\n",
       "  <th>has_pool</th>                <td>    0.2093</td> <td>    0.050</td> <td>    4.187</td> <td> 0.000</td> <td>    0.111</td> <td>    0.307</td>\n",
       "</tr>\n",
       "<tr>\n",
       "  <th>has_Porch</th>               <td>    0.0191</td> <td>    0.007</td> <td>    2.853</td> <td> 0.004</td> <td>    0.006</td> <td>    0.032</td>\n",
       "</tr>\n",
       "<tr>\n",
       "  <th>isNeigh_collgcr_oldtown</th> <td>   -0.0401</td> <td>    0.007</td> <td>   -5.731</td> <td> 0.000</td> <td>   -0.054</td> <td>   -0.026</td>\n",
       "</tr>\n",
       "<tr>\n",
       "  <th>Sale Type_New Home</th>      <td>    0.0528</td> <td>    0.012</td> <td>    4.525</td> <td> 0.000</td> <td>    0.030</td> <td>    0.076</td>\n",
       "</tr>\n",
       "<tr>\n",
       "  <th>proximity_to_veryClose</th>  <td>   -0.0597</td> <td>    0.009</td> <td>   -6.640</td> <td> 0.000</td> <td>   -0.077</td> <td>   -0.042</td>\n",
       "</tr>\n",
       "<tr>\n",
       "  <th>House_style_1_story</th>     <td>   -0.0897</td> <td>    0.009</td> <td>   -9.547</td> <td> 0.000</td> <td>   -0.108</td> <td>   -0.071</td>\n",
       "</tr>\n",
       "<tr>\n",
       "  <th>House_style_Splitlevel</th>  <td>   -0.0792</td> <td>    0.013</td> <td>   -5.891</td> <td> 0.000</td> <td>   -0.106</td> <td>   -0.053</td>\n",
       "</tr>\n",
       "<tr>\n",
       "  <th>house_age_Contemporary</th>  <td>    0.0665</td> <td>    0.018</td> <td>    3.691</td> <td> 0.000</td> <td>    0.031</td> <td>    0.102</td>\n",
       "</tr>\n",
       "<tr>\n",
       "  <th>house_age_Medieval</th>      <td>    0.0517</td> <td>    0.013</td> <td>    3.986</td> <td> 0.000</td> <td>    0.026</td> <td>    0.077</td>\n",
       "</tr>\n",
       "<tr>\n",
       "  <th>house_age_Stone-age</th>     <td>   -0.0305</td> <td>    0.010</td> <td>   -2.922</td> <td> 0.004</td> <td>   -0.051</td> <td>   -0.010</td>\n",
       "</tr>\n",
       "<tr>\n",
       "  <th>Foundation_PConc</th>        <td>    0.0301</td> <td>    0.010</td> <td>    3.081</td> <td> 0.002</td> <td>    0.011</td> <td>    0.049</td>\n",
       "</tr>\n",
       "</table>\n",
       "<table class=\"simpletable\">\n",
       "<tr>\n",
       "  <th>Omnibus:</th>       <td>155.123</td> <th>  Durbin-Watson:     </th> <td>   1.982</td> \n",
       "</tr>\n",
       "<tr>\n",
       "  <th>Prob(Omnibus):</th> <td> 0.000</td>  <th>  Jarque-Bera (JB):  </th> <td> 530.998</td> \n",
       "</tr>\n",
       "<tr>\n",
       "  <th>Skew:</th>          <td>-0.347</td>  <th>  Prob(JB):          </th> <td>4.96e-116</td>\n",
       "</tr>\n",
       "<tr>\n",
       "  <th>Kurtosis:</th>      <td> 5.446</td>  <th>  Cond. No.          </th> <td>2.80e+05</td> \n",
       "</tr>\n",
       "</table><br/><br/>Notes:<br/>[1] Standard Errors assume that the covariance matrix of the errors is correctly specified.<br/>[2] The condition number is large, 2.8e+05. This might indicate that there are<br/>strong multicollinearity or other numerical problems."
      ],
      "text/plain": [
       "<class 'statsmodels.iolib.summary.Summary'>\n",
       "\"\"\"\n",
       "                            OLS Regression Results                            \n",
       "==============================================================================\n",
       "Dep. Variable:          log_SalePrice   R-squared:                       0.907\n",
       "Model:                            OLS   Adj. R-squared:                  0.906\n",
       "Method:                 Least Squares   F-statistic:                     558.4\n",
       "Date:                Fri, 09 Apr 2021   Prob (F-statistic):               0.00\n",
       "Time:                        07:07:53   Log-Likelihood:                 1387.4\n",
       "No. Observations:                1972   AIC:                            -2705.\n",
       "Df Residuals:                    1937   BIC:                            -2509.\n",
       "Df Model:                          34                                         \n",
       "Covariance Type:            nonrobust                                         \n",
       "===========================================================================================\n",
       "                              coef    std err          t      P>|t|      [0.025      0.975]\n",
       "-------------------------------------------------------------------------------------------\n",
       "const                       9.9637      0.063    159.150      0.000       9.841      10.086\n",
       "Lot Frontage                0.0011      0.000      5.766      0.000       0.001       0.002\n",
       "Lot Area                 1.314e-05    1.1e-06     11.958      0.000     1.1e-05    1.53e-05\n",
       "Overall Qual                0.0768      0.004     21.151      0.000       0.070       0.084\n",
       "Overall Cond                0.0451      0.003     13.908      0.000       0.039       0.051\n",
       "Bsmt Qual                   0.0309      0.007      4.403      0.000       0.017       0.045\n",
       "Bsmt Exposure               0.0163      0.003      4.876      0.000       0.010       0.023\n",
       "Total Bsmt SF               0.0002   1.24e-05     19.098      0.000       0.000       0.000\n",
       "Heating QC                  0.0178      0.004      4.556      0.000       0.010       0.025\n",
       "Bedroom AbvGr               0.0191      0.004      4.419      0.000       0.011       0.028\n",
       "Fireplaces                  0.0580      0.005     10.719      0.000       0.047       0.069\n",
       "Garage Cars                 0.0467      0.005      9.167      0.000       0.037       0.057\n",
       "Street_isPaved              0.2733      0.051      5.368      0.000       0.173       0.373\n",
       "Lotshape_isRegular         -0.0137      0.006     -2.148      0.032      -0.026      -0.001\n",
       "isSlopeNormal              -0.0360      0.014     -2.504      0.012      -0.064      -0.008\n",
       "is_remodeled                0.0194      0.010      1.845      0.065      -0.001       0.040\n",
       "is_roofGable               -0.0163      0.007     -2.203      0.028      -0.031      -0.002\n",
       "hasgood_Exterior            0.0595      0.018      3.221      0.001       0.023       0.096\n",
       "is_fullfurnished            0.2981      0.030     10.020      0.000       0.240       0.356\n",
       "has_centralAir              0.0293      0.013      2.188      0.029       0.003       0.056\n",
       "total_full_baths            0.0653      0.005     12.979      0.000       0.055       0.075\n",
       "total_half_baths            0.0393      0.006      6.125      0.000       0.027       0.052\n",
       "has_1pluskitchen           -0.0755      0.016     -4.713      0.000      -0.107      -0.044\n",
       "has_paveddriveway           0.0730      0.012      6.119      0.000       0.050       0.096\n",
       "has_pool                    0.2093      0.050      4.187      0.000       0.111       0.307\n",
       "has_Porch                   0.0191      0.007      2.853      0.004       0.006       0.032\n",
       "isNeigh_collgcr_oldtown    -0.0401      0.007     -5.731      0.000      -0.054      -0.026\n",
       "Sale Type_New Home          0.0528      0.012      4.525      0.000       0.030       0.076\n",
       "proximity_to_veryClose     -0.0597      0.009     -6.640      0.000      -0.077      -0.042\n",
       "House_style_1_story        -0.0897      0.009     -9.547      0.000      -0.108      -0.071\n",
       "House_style_Splitlevel     -0.0792      0.013     -5.891      0.000      -0.106      -0.053\n",
       "house_age_Contemporary      0.0665      0.018      3.691      0.000       0.031       0.102\n",
       "house_age_Medieval          0.0517      0.013      3.986      0.000       0.026       0.077\n",
       "house_age_Stone-age        -0.0305      0.010     -2.922      0.004      -0.051      -0.010\n",
       "Foundation_PConc            0.0301      0.010      3.081      0.002       0.011       0.049\n",
       "==============================================================================\n",
       "Omnibus:                      155.123   Durbin-Watson:                   1.982\n",
       "Prob(Omnibus):                  0.000   Jarque-Bera (JB):              530.998\n",
       "Skew:                          -0.347   Prob(JB):                    4.96e-116\n",
       "Kurtosis:                       5.446   Cond. No.                     2.80e+05\n",
       "==============================================================================\n",
       "\n",
       "Notes:\n",
       "[1] Standard Errors assume that the covariance matrix of the errors is correctly specified.\n",
       "[2] The condition number is large, 2.8e+05. This might indicate that there are\n",
       "strong multicollinearity or other numerical problems.\n",
       "\"\"\""
      ]
     },
     "execution_count": 12,
     "metadata": {},
     "output_type": "execute_result"
    }
   ],
   "source": [
    "results.summary()"
   ]
  },
  {
   "cell_type": "code",
   "execution_count": null,
   "metadata": {},
   "outputs": [],
   "source": []
  },
  {
   "cell_type": "code",
   "execution_count": null,
   "metadata": {},
   "outputs": [],
   "source": []
  },
  {
   "cell_type": "markdown",
   "metadata": {},
   "source": [
    "### Train Test Split"
   ]
  },
  {
   "cell_type": "code",
   "execution_count": 13,
   "metadata": {},
   "outputs": [],
   "source": [
    "## Trial-and-error for test_size (our dataset is not that huge, so better keep a smaller test set)\n",
    "\n",
    "x_train, x_test, y_train, y_test = train_test_split(inputs4, targets4, test_size=0.20, random_state=42)"
   ]
  },
  {
   "cell_type": "markdown",
   "metadata": {},
   "source": [
    "### Scale the data"
   ]
  },
  {
   "cell_type": "code",
   "execution_count": 14,
   "metadata": {},
   "outputs": [],
   "source": [
    "## Create standard scaler object\n",
    "\n",
    "scaler4 = StandardScaler()"
   ]
  },
  {
   "cell_type": "code",
   "execution_count": 15,
   "metadata": {},
   "outputs": [],
   "source": [
    "## Fit and Transform using mean and SD feature-wise for input training data and\n",
    "## scale the test input for training data using same mean and SD.\n",
    "\n",
    "## train+test split from our Train dataset\n",
    "x_train_scaled = scaler4.fit_transform(x_train)\n",
    "x_test_scaled = scaler4.transform(x_test) ##Transform using same fit info stored in scaler4 instance.\n",
    "\n",
    "## Test dataset - input to transform\n",
    "tinput_scaled = scaler4.transform(tinput) ##Transform using same fit info stored in scaler4 instance."
   ]
  },
  {
   "cell_type": "markdown",
   "metadata": {},
   "source": [
    " "
   ]
  },
  {
   "cell_type": "markdown",
   "metadata": {},
   "source": [
    "### Create Regression"
   ]
  },
  {
   "cell_type": "code",
   "execution_count": 16,
   "metadata": {},
   "outputs": [],
   "source": [
    "## Create Linear Regression object\n",
    "\n",
    "reg4 = LinearRegression() ## Initiate\n",
    "reg4.fit(x_train_scaled,y_train) ## Fit\n",
    "y_hat = reg4.predict(x_train_scaled) ## Predict - outputs for train set"
   ]
  },
  {
   "cell_type": "code",
   "execution_count": 17,
   "metadata": {},
   "outputs": [
    {
     "data": {
      "image/png": "[encoded data removed]",
      "text/plain": [
       "<Figure size 720x504 with 1 Axes>"
      ]
     },
     "metadata": {
      "needs_background": "light"
     },
     "output_type": "display_data"
    }
   ],
   "source": [
    "## Compare the targets and predictions for 'Train' set - scatterplot\n",
    "\n",
    "plt.figure(figsize=(10,7))\n",
    "sns.set(font_scale=1.4)\n",
    "plt.scatter(y_train,y_hat,alpha=0.2)\n",
    "sns.set(font_scale=1.4)\n",
    "plt.xlabel('Targets (y_train)')\n",
    "plt.ylabel('Predictions (y_hat)');\n",
    "\n",
    "## More values on the lower side => model predicts lower values as price increases"
   ]
  },
  {
   "cell_type": "code",
   "execution_count": 18,
   "metadata": {},
   "outputs": [
    {
     "name": "stderr",
     "output_type": "stream",
     "text": [
      "/Users/samay20/opt/anaconda3/lib/python3.8/site-packages/seaborn/_decorators.py:36: FutureWarning: Pass the following variables as keyword args: x, y. From version 0.12, the only valid positional argument will be `data`, and passing other arguments without an explicit keyword will result in an error or misinterpretation.\n",
      "  warnings.warn(\n"
     ]
    },
    {
     "data": {
      "image/png": "[encoded data removed]",
      "text/plain": [
       "<Figure size 720x504 with 1 Axes>"
      ]
     },
     "metadata": {},
     "output_type": "display_data"
    }
   ],
   "source": [
    "## Residual Error Plot - log(SalePrice)\n",
    "\n",
    "plt.figure(figsize=(10,7))\n",
    "sns.set(font_scale=1.4)\n",
    "#plt.scatter(y_hat,(y_train-y_hat))\n",
    "sns.residplot(y_train,y_hat)\n",
    "plt.xlabel('')\n",
    "plt.title('Residuals Plot - log(SalePrice)');\n",
    "\n",
    "## Data is almost evenly distibuted for all predicted values, we do not notice much random error! \n",
    "## Homoscedacity = I see consistent variance on both sides of the line\n",
    "\n",
    "## ## little more negative values - indicates y_hat > y_train => Higher Predicted values, but not so much"
   ]
  },
  {
   "cell_type": "code",
   "execution_count": 19,
   "metadata": {},
   "outputs": [
    {
     "data": {
      "image/png": "[encoded data removed]",
      "text/plain": [
       "<Figure size 720x504 with 1 Axes>"
      ]
     },
     "metadata": {},
     "output_type": "display_data"
    }
   ],
   "source": [
    "## Residual Error Plot - np.exp(SalePrice)\n",
    "\n",
    "plt.figure(figsize=(10,7))\n",
    "sns.set(font_scale=1.4)\n",
    "sns.residplot(np.exp(y_train),np.exp(y_hat),lowess=True) #lowess Smoother helps determine structure of the residuals\n",
    "#plt.axhline(0,color='r')\n",
    "plt.xlabel('Train')\n",
    "plt.ylabel('Predicted')\n",
    "plt.title('Residuals Plot - SalePrice ($)');\n",
    "\n",
    "## Data is almost evenly distibuted for all predicted values, we do not notice much random error! \n",
    "## Homoscedacity = I see consistent variance on both sides of the line\n",
    "\n",
    "# -ve values for y_train-y_hat as SalePrices increase \n",
    "# => Model gives higher predictions as SalesPrices increase as compared to houses with lower SalePrice"
   ]
  },
  {
   "cell_type": "code",
   "execution_count": 20,
   "metadata": {},
   "outputs": [
    {
     "name": "stderr",
     "output_type": "stream",
     "text": [
      "/Users/samay20/opt/anaconda3/lib/python3.8/site-packages/seaborn/distributions.py:2551: FutureWarning: `distplot` is a deprecated function and will be removed in a future version. Please adapt your code to use either `displot` (a figure-level function with similar flexibility) or `histplot` (an axes-level function for histograms).\n",
      "  warnings.warn(msg, FutureWarning)\n"
     ]
    },
    {
     "data": {
      "image/png": "[encoded data removed]",
      "text/plain": [
       "<Figure size 720x504 with 1 Axes>"
      ]
     },
     "metadata": {},
     "output_type": "display_data"
    }
   ],
   "source": [
    "## Residual distribution - to check for anomalies\n",
    "\n",
    "plt.figure(figsize=(10,7))\n",
    "sns.set(font_scale=1.4)\n",
    "sns.distplot(y_train-y_hat)\n",
    "plt.title('Residuals PDF',size=13);\n",
    "\n",
    "##### ~Normally distributed!\n",
    "## More values on the negative side - Again this confirms that our predictions are higher compared to training data"
   ]
  },
  {
   "cell_type": "markdown",
   "metadata": {},
   "source": [
    " "
   ]
  },
  {
   "cell_type": "markdown",
   "metadata": {},
   "source": [
    "### Evaluating this model - train set"
   ]
  },
  {
   "cell_type": "code",
   "execution_count": 21,
   "metadata": {},
   "outputs": [
    {
     "data": {
      "text/plain": [
       "0.906428391859603"
      ]
     },
     "execution_count": 21,
     "metadata": {},
     "output_type": "execute_result"
    }
   ],
   "source": [
    "reg4.score(x_train_scaled,y_train)"
   ]
  },
  {
   "cell_type": "code",
   "execution_count": 22,
   "metadata": {},
   "outputs": [],
   "source": [
    "## To calculate R2_adj later\n",
    "def r2_adj(y_true, y_preds, p):\n",
    "    n = len(y_true)\n",
    "    y_mean = np.mean(y_true)\n",
    "    numerator = np.sum(np.square(y_true - y_preds)) / (n - p - 1)\n",
    "    denominator = np.sum(np.square(y_true - y_mean)) / (n - 1)\n",
    "    return 1 - numerator / denominator"
   ]
  },
  {
   "cell_type": "code",
   "execution_count": 23,
   "metadata": {},
   "outputs": [],
   "source": [
    "## Calculate all major metrics\n",
    "\n",
    "def lord_of_the_metrics(y_true, y_pred, p):\n",
    "    mse = metrics.mean_squared_error(y_true, y_pred)\n",
    "    rmse = np.sqrt(mse)\n",
    "    mae = metrics.median_absolute_error(y_true, y_pred)\n",
    "    msle = metrics.mean_squared_log_error(y_true, y_pred)\n",
    "    r2 = metrics.r2_score(y_true, y_pred)\n",
    "    r2a = r2_adj(y_true, y_pred, p)\n",
    "    \n",
    "    print('Mean squared error      = ', mse)\n",
    "    print('Root mean squared error = ', rmse)\n",
    "    print('Median absolute error   = ', mae)\n",
    "    print('R^2                     = ', r2)\n",
    "    print('Adjusted R^2            = ', r2a)"
   ]
  },
  {
   "cell_type": "code",
   "execution_count": 24,
   "metadata": {},
   "outputs": [
    {
     "name": "stdout",
     "output_type": "stream",
     "text": [
      "Mean squared error      =  0.014427692484988411\n",
      "Root mean squared error =  0.12011532993331206\n",
      "Median absolute error   =  0.0712557202935038\n",
      "R^2                     =  0.906428391859603\n",
      "Adjusted R^2            =  0.9043652046502817\n"
     ]
    }
   ],
   "source": [
    "lord_of_the_metrics(y_train, y_hat, inputs4.shape[1])"
   ]
  },
  {
   "cell_type": "code",
   "execution_count": 25,
   "metadata": {},
   "outputs": [
    {
     "data": {
      "text/plain": [
       "0.906428391859603"
      ]
     },
     "execution_count": 25,
     "metadata": {},
     "output_type": "execute_result"
    }
   ],
   "source": [
    "reg4.score(x_train_scaled,y_train)\n",
    "\n",
    "## Over 90.0% of the variability in our  𝑌  (Sale Price) is explained by our model,\n",
    "## relative to a baseline model with no predictors."
   ]
  },
  {
   "cell_type": "code",
   "execution_count": 26,
   "metadata": {},
   "outputs": [
    {
     "data": {
      "text/plain": [
       "0.8956251026506351"
      ]
     },
     "execution_count": 26,
     "metadata": {},
     "output_type": "execute_result"
    }
   ],
   "source": [
    "cross_val_score(reg4, x_train_scaled, y_train, cv=KFold(n_splits=10,shuffle=True)).mean()\n",
    "\n",
    "##KFold just forces that we do not want stratified separation of data, ratio preservation is not important\n",
    "## Cross_val_score is just a helper function on estimator and dataset"
   ]
  },
  {
   "cell_type": "markdown",
   "metadata": {},
   "source": [
    "### <font color='red'>Result#1: To compare, our training RMSE = 0.1203433526623702</font>"
   ]
  },
  {
   "cell_type": "markdown",
   "metadata": {},
   "source": [
    " "
   ]
  },
  {
   "cell_type": "markdown",
   "metadata": {},
   "source": [
    "### Finding Coefs & Intercepts"
   ]
  },
  {
   "cell_type": "code",
   "execution_count": 27,
   "metadata": {},
   "outputs": [
    {
     "data": {
      "text/plain": [
       "12.029599470109831"
      ]
     },
     "execution_count": 27,
     "metadata": {},
     "output_type": "execute_result"
    }
   ],
   "source": [
    "## y-intercept: If all the features were 0, the min price for a house would still be ~$167,644\n",
    "\n",
    "beta0 = reg4.intercept_\n",
    "beta0"
   ]
  },
  {
   "cell_type": "code",
   "execution_count": 28,
   "metadata": {},
   "outputs": [
    {
     "data": {
      "text/plain": [
       "167644.25275733473"
      ]
     },
     "execution_count": 28,
     "metadata": {},
     "output_type": "execute_result"
    }
   ],
   "source": [
    "np.exp(reg4.intercept_)"
   ]
  },
  {
   "cell_type": "code",
   "execution_count": 29,
   "metadata": {},
   "outputs": [
    {
     "data": {
      "text/plain": [
       "array([ 0.02107918,  0.04362889,  0.10686333,  0.0482782 ,  0.02303747,\n",
       "        0.01574422,  0.10324773,  0.01763524,  0.01875923,  0.0338214 ,\n",
       "        0.03446781,  0.00718539, -0.00632442, -0.00790174,  0.00663704,\n",
       "       -0.00497052,  0.00524963,  0.04469886,  0.00778329,  0.04758071,\n",
       "        0.02267844, -0.01537274,  0.01987708,  0.01545058,  0.00847731,\n",
       "       -0.0180723 ,  0.01616992, -0.01779538, -0.04478498, -0.01780114,\n",
       "        0.03721735,  0.02174697, -0.01132065,  0.01326456])"
      ]
     },
     "execution_count": 29,
     "metadata": {},
     "output_type": "execute_result"
    }
   ],
   "source": [
    "## Weights for different features, tells us how important that feature is.\n",
    "\n",
    "beta1 = reg4.coef_\n",
    "beta1"
   ]
  },
  {
   "cell_type": "code",
   "execution_count": 30,
   "metadata": {},
   "outputs": [
    {
     "data": {
      "text/plain": [
       "(395,)"
      ]
     },
     "execution_count": 30,
     "metadata": {},
     "output_type": "execute_result"
    }
   ],
   "source": [
    "y_test.shape"
   ]
  },
  {
   "cell_type": "code",
   "execution_count": 31,
   "metadata": {},
   "outputs": [
    {
     "data": {
      "text/html": [
       "<div>\n",
       "<style scoped>\n",
       "    .dataframe tbody tr th:only-of-type {\n",
       "        vertical-align: middle;\n",
       "    }\n",
       "\n",
       "    .dataframe tbody tr th {\n",
       "        vertical-align: top;\n",
       "    }\n",
       "\n",
       "    .dataframe thead th {\n",
       "        text-align: right;\n",
       "    }\n",
       "</style>\n",
       "<table border=\"1\" class=\"dataframe\">\n",
       "  <thead>\n",
       "    <tr style=\"text-align: right;\">\n",
       "      <th></th>\n",
       "      <th>Features</th>\n",
       "      <th>Coefficients</th>\n",
       "    </tr>\n",
       "  </thead>\n",
       "  <tbody>\n",
       "    <tr>\n",
       "      <th>0</th>\n",
       "      <td>Lot Frontage</td>\n",
       "      <td>0.02</td>\n",
       "    </tr>\n",
       "    <tr>\n",
       "      <th>1</th>\n",
       "      <td>Lot Area</td>\n",
       "      <td>0.04</td>\n",
       "    </tr>\n",
       "    <tr>\n",
       "      <th>2</th>\n",
       "      <td>Overall Qual</td>\n",
       "      <td>0.11</td>\n",
       "    </tr>\n",
       "    <tr>\n",
       "      <th>3</th>\n",
       "      <td>Overall Cond</td>\n",
       "      <td>0.05</td>\n",
       "    </tr>\n",
       "    <tr>\n",
       "      <th>4</th>\n",
       "      <td>Bsmt Qual</td>\n",
       "      <td>0.02</td>\n",
       "    </tr>\n",
       "    <tr>\n",
       "      <th>5</th>\n",
       "      <td>Bsmt Exposure</td>\n",
       "      <td>0.02</td>\n",
       "    </tr>\n",
       "    <tr>\n",
       "      <th>6</th>\n",
       "      <td>Total Bsmt SF</td>\n",
       "      <td>0.10</td>\n",
       "    </tr>\n",
       "    <tr>\n",
       "      <th>7</th>\n",
       "      <td>Heating QC</td>\n",
       "      <td>0.02</td>\n",
       "    </tr>\n",
       "    <tr>\n",
       "      <th>8</th>\n",
       "      <td>Bedroom AbvGr</td>\n",
       "      <td>0.02</td>\n",
       "    </tr>\n",
       "    <tr>\n",
       "      <th>9</th>\n",
       "      <td>Fireplaces</td>\n",
       "      <td>0.03</td>\n",
       "    </tr>\n",
       "    <tr>\n",
       "      <th>10</th>\n",
       "      <td>Garage Cars</td>\n",
       "      <td>0.03</td>\n",
       "    </tr>\n",
       "    <tr>\n",
       "      <th>11</th>\n",
       "      <td>Street_isPaved</td>\n",
       "      <td>0.01</td>\n",
       "    </tr>\n",
       "    <tr>\n",
       "      <th>12</th>\n",
       "      <td>Lotshape_isRegular</td>\n",
       "      <td>-0.01</td>\n",
       "    </tr>\n",
       "    <tr>\n",
       "      <th>13</th>\n",
       "      <td>isSlopeNormal</td>\n",
       "      <td>-0.01</td>\n",
       "    </tr>\n",
       "    <tr>\n",
       "      <th>14</th>\n",
       "      <td>is_remodeled</td>\n",
       "      <td>0.01</td>\n",
       "    </tr>\n",
       "    <tr>\n",
       "      <th>15</th>\n",
       "      <td>is_roofGable</td>\n",
       "      <td>-0.00</td>\n",
       "    </tr>\n",
       "    <tr>\n",
       "      <th>16</th>\n",
       "      <td>hasgood_Exterior</td>\n",
       "      <td>0.01</td>\n",
       "    </tr>\n",
       "    <tr>\n",
       "      <th>17</th>\n",
       "      <td>is_fullfurnished</td>\n",
       "      <td>0.04</td>\n",
       "    </tr>\n",
       "    <tr>\n",
       "      <th>18</th>\n",
       "      <td>has_centralAir</td>\n",
       "      <td>0.01</td>\n",
       "    </tr>\n",
       "    <tr>\n",
       "      <th>19</th>\n",
       "      <td>total_full_baths</td>\n",
       "      <td>0.05</td>\n",
       "    </tr>\n",
       "    <tr>\n",
       "      <th>20</th>\n",
       "      <td>total_half_baths</td>\n",
       "      <td>0.02</td>\n",
       "    </tr>\n",
       "    <tr>\n",
       "      <th>21</th>\n",
       "      <td>has_1pluskitchen</td>\n",
       "      <td>-0.02</td>\n",
       "    </tr>\n",
       "    <tr>\n",
       "      <th>22</th>\n",
       "      <td>has_paveddriveway</td>\n",
       "      <td>0.02</td>\n",
       "    </tr>\n",
       "    <tr>\n",
       "      <th>23</th>\n",
       "      <td>has_pool</td>\n",
       "      <td>0.02</td>\n",
       "    </tr>\n",
       "    <tr>\n",
       "      <th>24</th>\n",
       "      <td>has_Porch</td>\n",
       "      <td>0.01</td>\n",
       "    </tr>\n",
       "    <tr>\n",
       "      <th>25</th>\n",
       "      <td>isNeigh_collgcr_oldtown</td>\n",
       "      <td>-0.02</td>\n",
       "    </tr>\n",
       "    <tr>\n",
       "      <th>26</th>\n",
       "      <td>Sale Type_New Home</td>\n",
       "      <td>0.02</td>\n",
       "    </tr>\n",
       "    <tr>\n",
       "      <th>27</th>\n",
       "      <td>proximity_to_veryClose</td>\n",
       "      <td>-0.02</td>\n",
       "    </tr>\n",
       "    <tr>\n",
       "      <th>28</th>\n",
       "      <td>House_style_1_story</td>\n",
       "      <td>-0.04</td>\n",
       "    </tr>\n",
       "    <tr>\n",
       "      <th>29</th>\n",
       "      <td>House_style_Splitlevel</td>\n",
       "      <td>-0.02</td>\n",
       "    </tr>\n",
       "    <tr>\n",
       "      <th>30</th>\n",
       "      <td>house_age_Contemporary</td>\n",
       "      <td>0.04</td>\n",
       "    </tr>\n",
       "    <tr>\n",
       "      <th>31</th>\n",
       "      <td>house_age_Medieval</td>\n",
       "      <td>0.02</td>\n",
       "    </tr>\n",
       "    <tr>\n",
       "      <th>32</th>\n",
       "      <td>house_age_Stone-age</td>\n",
       "      <td>-0.01</td>\n",
       "    </tr>\n",
       "    <tr>\n",
       "      <th>33</th>\n",
       "      <td>Foundation_PConc</td>\n",
       "      <td>0.01</td>\n",
       "    </tr>\n",
       "  </tbody>\n",
       "</table>\n",
       "</div>"
      ],
      "text/plain": [
       "                   Features  Coefficients\n",
       "0              Lot Frontage          0.02\n",
       "1                  Lot Area          0.04\n",
       "2              Overall Qual          0.11\n",
       "3              Overall Cond          0.05\n",
       "4                 Bsmt Qual          0.02\n",
       "5             Bsmt Exposure          0.02\n",
       "6             Total Bsmt SF          0.10\n",
       "7                Heating QC          0.02\n",
       "8             Bedroom AbvGr          0.02\n",
       "9                Fireplaces          0.03\n",
       "10              Garage Cars          0.03\n",
       "11           Street_isPaved          0.01\n",
       "12       Lotshape_isRegular         -0.01\n",
       "13            isSlopeNormal         -0.01\n",
       "14             is_remodeled          0.01\n",
       "15             is_roofGable         -0.00\n",
       "16         hasgood_Exterior          0.01\n",
       "17         is_fullfurnished          0.04\n",
       "18           has_centralAir          0.01\n",
       "19         total_full_baths          0.05\n",
       "20         total_half_baths          0.02\n",
       "21         has_1pluskitchen         -0.02\n",
       "22        has_paveddriveway          0.02\n",
       "23                 has_pool          0.02\n",
       "24                has_Porch          0.01\n",
       "25  isNeigh_collgcr_oldtown         -0.02\n",
       "26       Sale Type_New Home          0.02\n",
       "27   proximity_to_veryClose         -0.02\n",
       "28      House_style_1_story         -0.04\n",
       "29   House_style_Splitlevel         -0.02\n",
       "30   house_age_Contemporary          0.04\n",
       "31       house_age_Medieval          0.02\n",
       "32      house_age_Stone-age         -0.01\n",
       "33         Foundation_PConc          0.01"
      ]
     },
     "execution_count": 31,
     "metadata": {},
     "output_type": "execute_result"
    }
   ],
   "source": [
    "## reg4 summary table with coefficients and features names - for easy interpretation\n",
    "\n",
    "reg4_summary = pd.DataFrame(inputs4.columns.values, columns=['Features'])\n",
    "reg4_summary['Coefficients'] = reg4.coef_\n",
    "\n",
    "reg4_summary\n",
    "\n",
    "## Helpful in creating inferences like\n",
    "## Lot Area, Overall Condition, is_fullyfurnished, # of bathrooms, ishouse_contemporary (made after 1999) are\n",
    "## more significant in predicting house prices than others. "
   ]
  },
  {
   "cell_type": "markdown",
   "metadata": {},
   "source": [
    " "
   ]
  },
  {
   "cell_type": "markdown",
   "metadata": {},
   "source": [
    "### Test-1"
   ]
  },
  {
   "cell_type": "code",
   "execution_count": 32,
   "metadata": {},
   "outputs": [],
   "source": [
    "## Predict outputs for Test set\n",
    "\n",
    "y_hat_test = reg4.predict(x_test_scaled)"
   ]
  },
  {
   "cell_type": "code",
   "execution_count": 33,
   "metadata": {},
   "outputs": [
    {
     "data": {
      "image/png": "[encoded data removed]",
      "text/plain": [
       "<Figure size 720x504 with 1 Axes>"
      ]
     },
     "metadata": {},
     "output_type": "display_data"
    }
   ],
   "source": [
    "## Compare the targets and predictions for 'Test' set - scatterplot\n",
    "\n",
    "plt.figure(figsize=(10,7))\n",
    "plt.scatter(y_test,y_hat_test,alpha=0.4)\n",
    "sns.set(font_scale=1.4)\n",
    "plt.xlabel('Targets (y_test)')\n",
    "plt.ylabel('Predictions (y_pred) for Test data');\n",
    "\n",
    "## More values on the lower side => model predicts lower values as price increases"
   ]
  },
  {
   "cell_type": "code",
   "execution_count": 34,
   "metadata": {},
   "outputs": [
    {
     "name": "stderr",
     "output_type": "stream",
     "text": [
      "/Users/samay20/opt/anaconda3/lib/python3.8/site-packages/seaborn/_decorators.py:36: FutureWarning: Pass the following variables as keyword args: x, y. From version 0.12, the only valid positional argument will be `data`, and passing other arguments without an explicit keyword will result in an error or misinterpretation.\n",
      "  warnings.warn(\n"
     ]
    },
    {
     "data": {
      "image/png": "[encoded data removed]",
      "text/plain": [
       "<Figure size 720x504 with 1 Axes>"
      ]
     },
     "metadata": {},
     "output_type": "display_data"
    }
   ],
   "source": [
    "## Residual Error Plot - np.exp(SalePrice)\n",
    "\n",
    "plt.figure(figsize=(10,7))\n",
    "sns.set(font_scale=1.4)\n",
    "sns.residplot(np.exp(y_test),np.exp(y_hat_test),lowess=True) #lowess Smoother helps determine structure of the residuals\n",
    "#plt.axhline(0,color='r')\n",
    "plt.xlabel('Test')\n",
    "plt.ylabel('Predicted')\n",
    "plt.title('Residuals Plot - SalePrice ($)');\n",
    "\n",
    "## Data is almost evenly distibuted for all predicted values, we do not notice much random error! \n",
    "## Homoscedacity = I see consistent variance on both sides of the line\n",
    "\n",
    "# -ve values for y_train-y_hat as SalePrices increase \n",
    "# => Model gives higher predictions as SalesPrices increase as compared to houses with lower SalePrice\n",
    "# There are some outliers though, where model predicted $100,000 than its actual value"
   ]
  },
  {
   "cell_type": "code",
   "execution_count": 35,
   "metadata": {},
   "outputs": [
    {
     "name": "stdout",
     "output_type": "stream",
     "text": [
      "Mean squared error      =  0.014505610645402655\n",
      "Root mean squared error =  0.1204392404717111\n",
      "Median absolute error   =  0.06963519898172166\n",
      "R^2                     =  0.907311874294196\n",
      "Adjusted R^2            =  0.8985579957553145\n"
     ]
    }
   ],
   "source": [
    "lord_of_the_metrics(y_test, y_hat_test, inputs4.shape[1])"
   ]
  },
  {
   "cell_type": "code",
   "execution_count": 36,
   "metadata": {},
   "outputs": [
    {
     "data": {
      "text/plain": [
       "0.907311874294196"
      ]
     },
     "execution_count": 36,
     "metadata": {},
     "output_type": "execute_result"
    }
   ],
   "source": [
    "reg4.score(x_test_scaled,y_test)\n",
    "\n",
    "## Interpretation:\n",
    "## Over 90.0% of the variability in our  𝑌  (Sale Price) is explained by our model,\n",
    "## relative to a baseline model with no predictors."
   ]
  },
  {
   "cell_type": "code",
   "execution_count": 37,
   "metadata": {},
   "outputs": [
    {
     "data": {
      "text/plain": [
       "0.8852577371858951"
      ]
     },
     "execution_count": 37,
     "metadata": {},
     "output_type": "execute_result"
    }
   ],
   "source": [
    "cross_val_score(reg4, x_test_scaled, y_test, cv=KFold(n_splits=10,shuffle=True)).mean()\n",
    "\n",
    "##KFold just forces that we do not want stratified separation of data, ratio preservation is not important\n",
    "## Cross_val_score is just a helper function on estimator and dataset"
   ]
  },
  {
   "cell_type": "code",
   "execution_count": 38,
   "metadata": {},
   "outputs": [
    {
     "name": "stdout",
     "output_type": "stream",
     "text": [
      "Mean squared error      =  0.014427692484988411\n",
      "Root mean squared error =  0.12011532993331206\n",
      "Median absolute error   =  0.0712557202935038\n",
      "R^2                     =  0.906428391859603\n",
      "Adjusted R^2            =  0.9043652046502817\n"
     ]
    }
   ],
   "source": [
    "## Training cross_val_score\n",
    "\n",
    "lord_of_the_metrics(y_train, y_hat, inputs4.shape[1])"
   ]
  },
  {
   "cell_type": "code",
   "execution_count": 39,
   "metadata": {},
   "outputs": [],
   "source": [
    "## As the Model is not overfit or too complex, regularization using L1 Norm / L2 Norm is not essential"
   ]
  },
  {
   "cell_type": "markdown",
   "metadata": {},
   "source": [
    "### <font color='red'>Result#1: To compare, our training RMSE = 0.12011532993331206</font>"
   ]
  },
  {
   "cell_type": "markdown",
   "metadata": {},
   "source": [
    "### <font color='red'>Result#2: To compare, our test RMSE = 0.1204392404717111</font>"
   ]
  },
  {
   "cell_type": "markdown",
   "metadata": {},
   "source": [
    " "
   ]
  },
  {
   "cell_type": "code",
   "execution_count": 40,
   "metadata": {},
   "outputs": [
    {
     "data": {
      "text/html": [
       "<div>\n",
       "<style scoped>\n",
       "    .dataframe tbody tr th:only-of-type {\n",
       "        vertical-align: middle;\n",
       "    }\n",
       "\n",
       "    .dataframe tbody tr th {\n",
       "        vertical-align: top;\n",
       "    }\n",
       "\n",
       "    .dataframe thead th {\n",
       "        text-align: right;\n",
       "    }\n",
       "</style>\n",
       "<table border=\"1\" class=\"dataframe\">\n",
       "  <thead>\n",
       "    <tr style=\"text-align: right;\">\n",
       "      <th></th>\n",
       "      <th>Predictions</th>\n",
       "    </tr>\n",
       "  </thead>\n",
       "  <tbody>\n",
       "    <tr>\n",
       "      <th>0</th>\n",
       "      <td>294767.46</td>\n",
       "    </tr>\n",
       "    <tr>\n",
       "      <th>1</th>\n",
       "      <td>169717.40</td>\n",
       "    </tr>\n",
       "    <tr>\n",
       "      <th>2</th>\n",
       "      <td>91292.23</td>\n",
       "    </tr>\n",
       "    <tr>\n",
       "      <th>3</th>\n",
       "      <td>134127.28</td>\n",
       "    </tr>\n",
       "    <tr>\n",
       "      <th>4</th>\n",
       "      <td>241923.74</td>\n",
       "    </tr>\n",
       "  </tbody>\n",
       "</table>\n",
       "</div>"
      ],
      "text/plain": [
       "   Predictions\n",
       "0    294767.46\n",
       "1    169717.40\n",
       "2     91292.23\n",
       "3    134127.28\n",
       "4    241923.74"
      ]
     },
     "execution_count": 40,
     "metadata": {},
     "output_type": "execute_result"
    }
   ],
   "source": [
    "compare_original_prices = pd.DataFrame(np.exp(y_hat_test), columns=['Predictions'])\n",
    "compare_original_prices.head()"
   ]
  },
  {
   "cell_type": "code",
   "execution_count": 41,
   "metadata": {},
   "outputs": [
    {
     "data": {
      "text/html": [
       "<div>\n",
       "<style scoped>\n",
       "    .dataframe tbody tr th:only-of-type {\n",
       "        vertical-align: middle;\n",
       "    }\n",
       "\n",
       "    .dataframe tbody tr th {\n",
       "        vertical-align: top;\n",
       "    }\n",
       "\n",
       "    .dataframe thead th {\n",
       "        text-align: right;\n",
       "    }\n",
       "</style>\n",
       "<table border=\"1\" class=\"dataframe\">\n",
       "  <thead>\n",
       "    <tr style=\"text-align: right;\">\n",
       "      <th></th>\n",
       "      <th>Predictions</th>\n",
       "      <th>Target</th>\n",
       "    </tr>\n",
       "  </thead>\n",
       "  <tbody>\n",
       "    <tr>\n",
       "      <th>0</th>\n",
       "      <td>294767.46</td>\n",
       "      <td>nan</td>\n",
       "    </tr>\n",
       "    <tr>\n",
       "      <th>1</th>\n",
       "      <td>169717.40</td>\n",
       "      <td>nan</td>\n",
       "    </tr>\n",
       "    <tr>\n",
       "      <th>2</th>\n",
       "      <td>91292.23</td>\n",
       "      <td>nan</td>\n",
       "    </tr>\n",
       "    <tr>\n",
       "      <th>3</th>\n",
       "      <td>134127.28</td>\n",
       "      <td>nan</td>\n",
       "    </tr>\n",
       "    <tr>\n",
       "      <th>4</th>\n",
       "      <td>241923.74</td>\n",
       "      <td>nan</td>\n",
       "    </tr>\n",
       "    <tr>\n",
       "      <th>...</th>\n",
       "      <td>...</td>\n",
       "      <td>...</td>\n",
       "    </tr>\n",
       "    <tr>\n",
       "      <th>390</th>\n",
       "      <td>171045.46</td>\n",
       "      <td>nan</td>\n",
       "    </tr>\n",
       "    <tr>\n",
       "      <th>391</th>\n",
       "      <td>266348.31</td>\n",
       "      <td>nan</td>\n",
       "    </tr>\n",
       "    <tr>\n",
       "      <th>392</th>\n",
       "      <td>177777.02</td>\n",
       "      <td>nan</td>\n",
       "    </tr>\n",
       "    <tr>\n",
       "      <th>393</th>\n",
       "      <td>288405.87</td>\n",
       "      <td>127000.00</td>\n",
       "    </tr>\n",
       "    <tr>\n",
       "      <th>394</th>\n",
       "      <td>130003.43</td>\n",
       "      <td>50138.00</td>\n",
       "    </tr>\n",
       "  </tbody>\n",
       "</table>\n",
       "<p>395 rows × 2 columns</p>\n",
       "</div>"
      ],
      "text/plain": [
       "     Predictions    Target\n",
       "0      294767.46       nan\n",
       "1      169717.40       nan\n",
       "2       91292.23       nan\n",
       "3      134127.28       nan\n",
       "4      241923.74       nan\n",
       "..           ...       ...\n",
       "390    171045.46       nan\n",
       "391    266348.31       nan\n",
       "392    177777.02       nan\n",
       "393    288405.87 127000.00\n",
       "394    130003.43  50138.00\n",
       "\n",
       "[395 rows x 2 columns]"
      ]
     },
     "execution_count": 41,
     "metadata": {},
     "output_type": "execute_result"
    }
   ],
   "source": [
    "## New Column with np.exp(y_test) to inverse the log base e\n",
    "\n",
    "compare_original_prices['Target'] = np.exp(y_test)\n",
    "compare_original_prices\n",
    "\n",
    "## Consists of a lot of missing values, appears to be some kind of indexing error"
   ]
  },
  {
   "cell_type": "code",
   "execution_count": 42,
   "metadata": {},
   "outputs": [
    {
     "data": {
      "text/plain": [
       "0   12.63\n",
       "1   12.10\n",
       "2   11.64\n",
       "3   11.79\n",
       "4   12.58\n",
       "Name: log_SalePrice, dtype: float64"
      ]
     },
     "execution_count": 42,
     "metadata": {},
     "output_type": "execute_result"
    }
   ],
   "source": [
    "## Reset Index\n",
    "y_test = y_test.reset_index(drop=True)\n",
    "y_test.head()"
   ]
  },
  {
   "cell_type": "code",
   "execution_count": 43,
   "metadata": {},
   "outputs": [
    {
     "data": {
      "text/html": [
       "<div>\n",
       "<style scoped>\n",
       "    .dataframe tbody tr th:only-of-type {\n",
       "        vertical-align: middle;\n",
       "    }\n",
       "\n",
       "    .dataframe tbody tr th {\n",
       "        vertical-align: top;\n",
       "    }\n",
       "\n",
       "    .dataframe thead th {\n",
       "        text-align: right;\n",
       "    }\n",
       "</style>\n",
       "<table border=\"1\" class=\"dataframe\">\n",
       "  <thead>\n",
       "    <tr style=\"text-align: right;\">\n",
       "      <th></th>\n",
       "      <th>Predictions</th>\n",
       "      <th>Target</th>\n",
       "    </tr>\n",
       "  </thead>\n",
       "  <tbody>\n",
       "    <tr>\n",
       "      <th>0</th>\n",
       "      <td>294767.46</td>\n",
       "      <td>306000.00</td>\n",
       "    </tr>\n",
       "    <tr>\n",
       "      <th>1</th>\n",
       "      <td>169717.40</td>\n",
       "      <td>179000.00</td>\n",
       "    </tr>\n",
       "    <tr>\n",
       "      <th>2</th>\n",
       "      <td>91292.23</td>\n",
       "      <td>113000.00</td>\n",
       "    </tr>\n",
       "    <tr>\n",
       "      <th>3</th>\n",
       "      <td>134127.28</td>\n",
       "      <td>132000.00</td>\n",
       "    </tr>\n",
       "    <tr>\n",
       "      <th>4</th>\n",
       "      <td>241923.74</td>\n",
       "      <td>290000.00</td>\n",
       "    </tr>\n",
       "    <tr>\n",
       "      <th>...</th>\n",
       "      <td>...</td>\n",
       "      <td>...</td>\n",
       "    </tr>\n",
       "    <tr>\n",
       "      <th>390</th>\n",
       "      <td>171045.46</td>\n",
       "      <td>178900.00</td>\n",
       "    </tr>\n",
       "    <tr>\n",
       "      <th>391</th>\n",
       "      <td>266348.31</td>\n",
       "      <td>269500.00</td>\n",
       "    </tr>\n",
       "    <tr>\n",
       "      <th>392</th>\n",
       "      <td>177777.02</td>\n",
       "      <td>190000.00</td>\n",
       "    </tr>\n",
       "    <tr>\n",
       "      <th>393</th>\n",
       "      <td>288405.87</td>\n",
       "      <td>147000.00</td>\n",
       "    </tr>\n",
       "    <tr>\n",
       "      <th>394</th>\n",
       "      <td>130003.43</td>\n",
       "      <td>129000.00</td>\n",
       "    </tr>\n",
       "  </tbody>\n",
       "</table>\n",
       "<p>395 rows × 2 columns</p>\n",
       "</div>"
      ],
      "text/plain": [
       "     Predictions    Target\n",
       "0      294767.46 306000.00\n",
       "1      169717.40 179000.00\n",
       "2       91292.23 113000.00\n",
       "3      134127.28 132000.00\n",
       "4      241923.74 290000.00\n",
       "..           ...       ...\n",
       "390    171045.46 178900.00\n",
       "391    266348.31 269500.00\n",
       "392    177777.02 190000.00\n",
       "393    288405.87 147000.00\n",
       "394    130003.43 129000.00\n",
       "\n",
       "[395 rows x 2 columns]"
      ]
     },
     "execution_count": 43,
     "metadata": {},
     "output_type": "execute_result"
    }
   ],
   "source": [
    "## New Column with np.exp(y_test) to inverse the log base e\n",
    "\n",
    "compare_original_prices['Target'] = np.exp(y_test)\n",
    "compare_original_prices"
   ]
  },
  {
   "cell_type": "code",
   "execution_count": 44,
   "metadata": {},
   "outputs": [
    {
     "data": {
      "text/html": [
       "<div>\n",
       "<style scoped>\n",
       "    .dataframe tbody tr th:only-of-type {\n",
       "        vertical-align: middle;\n",
       "    }\n",
       "\n",
       "    .dataframe tbody tr th {\n",
       "        vertical-align: top;\n",
       "    }\n",
       "\n",
       "    .dataframe thead th {\n",
       "        text-align: right;\n",
       "    }\n",
       "</style>\n",
       "<table border=\"1\" class=\"dataframe\">\n",
       "  <thead>\n",
       "    <tr style=\"text-align: right;\">\n",
       "      <th></th>\n",
       "      <th>Predictions</th>\n",
       "      <th>Target</th>\n",
       "      <th>Residual</th>\n",
       "      <th>Difference%</th>\n",
       "    </tr>\n",
       "  </thead>\n",
       "  <tbody>\n",
       "    <tr>\n",
       "      <th>182</th>\n",
       "      <td>180041.38</td>\n",
       "      <td>180000.00</td>\n",
       "      <td>-41.38</td>\n",
       "      <td>0.02</td>\n",
       "    </tr>\n",
       "    <tr>\n",
       "      <th>145</th>\n",
       "      <td>167973.94</td>\n",
       "      <td>167900.00</td>\n",
       "      <td>-73.94</td>\n",
       "      <td>0.04</td>\n",
       "    </tr>\n",
       "    <tr>\n",
       "      <th>328</th>\n",
       "      <td>190650.67</td>\n",
       "      <td>190550.00</td>\n",
       "      <td>-100.67</td>\n",
       "      <td>0.05</td>\n",
       "    </tr>\n",
       "    <tr>\n",
       "      <th>183</th>\n",
       "      <td>148583.32</td>\n",
       "      <td>148500.00</td>\n",
       "      <td>-83.32</td>\n",
       "      <td>0.06</td>\n",
       "    </tr>\n",
       "    <tr>\n",
       "      <th>187</th>\n",
       "      <td>159118.58</td>\n",
       "      <td>159000.00</td>\n",
       "      <td>-118.58</td>\n",
       "      <td>0.07</td>\n",
       "    </tr>\n",
       "    <tr>\n",
       "      <th>...</th>\n",
       "      <td>...</td>\n",
       "      <td>...</td>\n",
       "      <td>...</td>\n",
       "      <td>...</td>\n",
       "    </tr>\n",
       "    <tr>\n",
       "      <th>250</th>\n",
       "      <td>367087.47</td>\n",
       "      <td>250000.00</td>\n",
       "      <td>-117087.47</td>\n",
       "      <td>46.83</td>\n",
       "    </tr>\n",
       "    <tr>\n",
       "      <th>336</th>\n",
       "      <td>121466.28</td>\n",
       "      <td>80000.00</td>\n",
       "      <td>-41466.28</td>\n",
       "      <td>51.83</td>\n",
       "    </tr>\n",
       "    <tr>\n",
       "      <th>357</th>\n",
       "      <td>79436.68</td>\n",
       "      <td>50138.00</td>\n",
       "      <td>-29298.68</td>\n",
       "      <td>58.44</td>\n",
       "    </tr>\n",
       "    <tr>\n",
       "      <th>219</th>\n",
       "      <td>101568.74</td>\n",
       "      <td>60000.00</td>\n",
       "      <td>-41568.74</td>\n",
       "      <td>69.28</td>\n",
       "    </tr>\n",
       "    <tr>\n",
       "      <th>393</th>\n",
       "      <td>288405.87</td>\n",
       "      <td>147000.00</td>\n",
       "      <td>-141405.87</td>\n",
       "      <td>96.19</td>\n",
       "    </tr>\n",
       "  </tbody>\n",
       "</table>\n",
       "<p>395 rows × 4 columns</p>\n",
       "</div>"
      ],
      "text/plain": [
       "     Predictions    Target   Residual  Difference%\n",
       "182    180041.38 180000.00     -41.38         0.02\n",
       "145    167973.94 167900.00     -73.94         0.04\n",
       "328    190650.67 190550.00    -100.67         0.05\n",
       "183    148583.32 148500.00     -83.32         0.06\n",
       "187    159118.58 159000.00    -118.58         0.07\n",
       "..           ...       ...        ...          ...\n",
       "250    367087.47 250000.00 -117087.47        46.83\n",
       "336    121466.28  80000.00  -41466.28        51.83\n",
       "357     79436.68  50138.00  -29298.68        58.44\n",
       "219    101568.74  60000.00  -41568.74        69.28\n",
       "393    288405.87 147000.00 -141405.87        96.19\n",
       "\n",
       "[395 rows x 4 columns]"
      ]
     },
     "execution_count": 44,
     "metadata": {},
     "output_type": "execute_result"
    }
   ],
   "source": [
    "## Add Calculated Residual Column and calculate the difference in %\n",
    "\n",
    "compare_original_prices['Residual'] = compare_original_prices['Target'] - compare_original_prices['Predictions']\n",
    "compare_original_prices['Difference%'] = np.absolute(compare_original_prices['Residual'] / compare_original_prices['Target'] * 100)\n",
    "compare_original_prices.sort_values(by=['Difference%'])"
   ]
  },
  {
   "cell_type": "code",
   "execution_count": 45,
   "metadata": {},
   "outputs": [
    {
     "data": {
      "text/html": [
       "<div>\n",
       "<style scoped>\n",
       "    .dataframe tbody tr th:only-of-type {\n",
       "        vertical-align: middle;\n",
       "    }\n",
       "\n",
       "    .dataframe tbody tr th {\n",
       "        vertical-align: top;\n",
       "    }\n",
       "\n",
       "    .dataframe thead th {\n",
       "        text-align: right;\n",
       "    }\n",
       "</style>\n",
       "<table border=\"1\" class=\"dataframe\">\n",
       "  <thead>\n",
       "    <tr style=\"text-align: right;\">\n",
       "      <th></th>\n",
       "      <th>Predictions</th>\n",
       "      <th>Target</th>\n",
       "      <th>Residual</th>\n",
       "      <th>Difference%</th>\n",
       "    </tr>\n",
       "  </thead>\n",
       "  <tbody>\n",
       "    <tr>\n",
       "      <th>count</th>\n",
       "      <td>395.00</td>\n",
       "      <td>395.00</td>\n",
       "      <td>395.00</td>\n",
       "      <td>395.00</td>\n",
       "    </tr>\n",
       "    <tr>\n",
       "      <th>mean</th>\n",
       "      <td>173280.12</td>\n",
       "      <td>175198.63</td>\n",
       "      <td>1918.50</td>\n",
       "      <td>8.97</td>\n",
       "    </tr>\n",
       "    <tr>\n",
       "      <th>std</th>\n",
       "      <td>66394.65</td>\n",
       "      <td>73533.81</td>\n",
       "      <td>23469.29</td>\n",
       "      <td>9.41</td>\n",
       "    </tr>\n",
       "    <tr>\n",
       "      <th>min</th>\n",
       "      <td>58166.15</td>\n",
       "      <td>44000.00</td>\n",
       "      <td>-141405.87</td>\n",
       "      <td>0.02</td>\n",
       "    </tr>\n",
       "    <tr>\n",
       "      <th>25%</th>\n",
       "      <td>125874.24</td>\n",
       "      <td>127500.00</td>\n",
       "      <td>-10176.22</td>\n",
       "      <td>2.88</td>\n",
       "    </tr>\n",
       "    <tr>\n",
       "      <th>50%</th>\n",
       "      <td>157837.73</td>\n",
       "      <td>159500.00</td>\n",
       "      <td>598.74</td>\n",
       "      <td>6.99</td>\n",
       "    </tr>\n",
       "    <tr>\n",
       "      <th>75%</th>\n",
       "      <td>206954.28</td>\n",
       "      <td>206500.00</td>\n",
       "      <td>10621.64</td>\n",
       "      <td>12.42</td>\n",
       "    </tr>\n",
       "    <tr>\n",
       "      <th>max</th>\n",
       "      <td>461151.47</td>\n",
       "      <td>584500.00</td>\n",
       "      <td>133862.29</td>\n",
       "      <td>96.19</td>\n",
       "    </tr>\n",
       "  </tbody>\n",
       "</table>\n",
       "</div>"
      ],
      "text/plain": [
       "       Predictions    Target   Residual  Difference%\n",
       "count       395.00    395.00     395.00       395.00\n",
       "mean     173280.12 175198.63    1918.50         8.97\n",
       "std       66394.65  73533.81   23469.29         9.41\n",
       "min       58166.15  44000.00 -141405.87         0.02\n",
       "25%      125874.24 127500.00  -10176.22         2.88\n",
       "50%      157837.73 159500.00     598.74         6.99\n",
       "75%      206954.28 206500.00   10621.64        12.42\n",
       "max      461151.47 584500.00  133862.29        96.19"
      ]
     },
     "execution_count": 45,
     "metadata": {},
     "output_type": "execute_result"
    }
   ],
   "source": [
    "##Descriptive Stats for additional Insights\n",
    "\n",
    "compare_original_prices.describe()"
   ]
  },
  {
   "cell_type": "markdown",
   "metadata": {},
   "source": [
    " "
   ]
  },
  {
   "cell_type": "markdown",
   "metadata": {},
   "source": [
    "## Available Test set (Model#4: Process) "
   ]
  },
  {
   "cell_type": "code",
   "execution_count": 46,
   "metadata": {},
   "outputs": [],
   "source": [
    "## Final Predictions\n",
    "\n",
    "y_testpred = reg4.predict(tinput_scaled)"
   ]
  },
  {
   "cell_type": "code",
   "execution_count": 47,
   "metadata": {},
   "outputs": [],
   "source": [
    "finalresult = pd.DataFrame(index=df4_testdata['Id'])"
   ]
  },
  {
   "cell_type": "code",
   "execution_count": 48,
   "metadata": {},
   "outputs": [],
   "source": [
    "finalresult['SalePrice '] = np.exp(y_testpred)"
   ]
  },
  {
   "cell_type": "code",
   "execution_count": 49,
   "metadata": {},
   "outputs": [
    {
     "data": {
      "text/html": [
       "<div>\n",
       "<style scoped>\n",
       "    .dataframe tbody tr th:only-of-type {\n",
       "        vertical-align: middle;\n",
       "    }\n",
       "\n",
       "    .dataframe tbody tr th {\n",
       "        vertical-align: top;\n",
       "    }\n",
       "\n",
       "    .dataframe thead th {\n",
       "        text-align: right;\n",
       "    }\n",
       "</style>\n",
       "<table border=\"1\" class=\"dataframe\">\n",
       "  <thead>\n",
       "    <tr style=\"text-align: right;\">\n",
       "      <th></th>\n",
       "      <th>SalePrice</th>\n",
       "    </tr>\n",
       "    <tr>\n",
       "      <th>Id</th>\n",
       "      <th></th>\n",
       "    </tr>\n",
       "  </thead>\n",
       "  <tbody>\n",
       "    <tr>\n",
       "      <th>2658</th>\n",
       "      <td>135411.00</td>\n",
       "    </tr>\n",
       "    <tr>\n",
       "      <th>2718</th>\n",
       "      <td>156617.92</td>\n",
       "    </tr>\n",
       "    <tr>\n",
       "      <th>2414</th>\n",
       "      <td>254079.31</td>\n",
       "    </tr>\n",
       "    <tr>\n",
       "      <th>1989</th>\n",
       "      <td>104358.65</td>\n",
       "    </tr>\n",
       "    <tr>\n",
       "      <th>625</th>\n",
       "      <td>186612.68</td>\n",
       "    </tr>\n",
       "    <tr>\n",
       "      <th>...</th>\n",
       "      <td>...</td>\n",
       "    </tr>\n",
       "    <tr>\n",
       "      <th>1662</th>\n",
       "      <td>191745.64</td>\n",
       "    </tr>\n",
       "    <tr>\n",
       "      <th>1234</th>\n",
       "      <td>215992.11</td>\n",
       "    </tr>\n",
       "    <tr>\n",
       "      <th>1373</th>\n",
       "      <td>114764.44</td>\n",
       "    </tr>\n",
       "    <tr>\n",
       "      <th>1672</th>\n",
       "      <td>111031.33</td>\n",
       "    </tr>\n",
       "    <tr>\n",
       "      <th>1939</th>\n",
       "      <td>129363.88</td>\n",
       "    </tr>\n",
       "  </tbody>\n",
       "</table>\n",
       "<p>843 rows × 1 columns</p>\n",
       "</div>"
      ],
      "text/plain": [
       "      SalePrice \n",
       "Id              \n",
       "2658   135411.00\n",
       "2718   156617.92\n",
       "2414   254079.31\n",
       "1989   104358.65\n",
       "625    186612.68\n",
       "...          ...\n",
       "1662   191745.64\n",
       "1234   215992.11\n",
       "1373   114764.44\n",
       "1672   111031.33\n",
       "1939   129363.88\n",
       "\n",
       "[843 rows x 1 columns]"
      ]
     },
     "execution_count": 49,
     "metadata": {},
     "output_type": "execute_result"
    }
   ],
   "source": [
    "finalresult"
   ]
  },
  {
   "cell_type": "code",
   "execution_count": 50,
   "metadata": {},
   "outputs": [],
   "source": [
    "finalresult.to_csv('Model4_Predicted_SalePrices_Test_Dataset.csv')"
   ]
  },
  {
   "cell_type": "markdown",
   "metadata": {},
   "source": [
    " "
   ]
  },
  {
   "cell_type": "markdown",
   "metadata": {},
   "source": [
    "- [Back TO TOP](#MLR-Model#4)"
   ]
  }
 ],
 "metadata": {
  "kernelspec": {
   "display_name": "Python 3",
   "language": "python",
   "name": "python3"
  },
  "language_info": {
   "codemirror_mode": {
    "name": "ipython",
    "version": 3
   },
   "file_extension": ".py",
   "mimetype": "text/x-python",
   "name": "python",
   "nbconvert_exporter": "python",
   "pygments_lexer": "ipython3",
   "version": "3.8.5"
  }
 },
 "nbformat": 4,
 "nbformat_minor": 4
}
