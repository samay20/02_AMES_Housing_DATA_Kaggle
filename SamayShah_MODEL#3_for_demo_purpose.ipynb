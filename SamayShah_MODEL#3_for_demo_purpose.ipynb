{
 "cells": [
  {
   "cell_type": "markdown",
   "metadata": {},
   "source": [
    "## MLR Model#3"
   ]
  },
  {
   "cell_type": "markdown",
   "metadata": {},
   "source": [
    "- [BACK TO TEST DATASET - Clean file](SamayShah_Project2(TEST)_DataCleaning_Test_Dataset.ipynb)\n",
    "- [BACK TO TRAIN DATASET - Clean file](SamayShah_Project2(Main_TRAIN)_DataCleaning_Train_Dataset.ipynb)\n",
    "- [TRAIN USING MODEL#4 (MAIN)](SamayShah_MODEL%234__FINAL_MODEL__.ipynb)"
   ]
  },
  {
   "cell_type": "code",
   "execution_count": 1,
   "metadata": {},
   "outputs": [],
   "source": [
    "import numpy as np\n",
    "import pandas as pd\n",
    "import matplotlib.pyplot as plt\n",
    "import seaborn as sns\n",
    "\n",
    "import statsmodels.api as sm\n",
    "from sklearn import metrics\n",
    "from sklearn.linear_model import LinearRegression\n",
    "from sklearn.model_selection import train_test_split, cross_val_score\n",
    "from sklearn.preprocessing import PolynomialFeatures, StandardScaler\n",
    "from scipy import stats\n",
    "\n",
    "%matplotlib inline"
   ]
  },
  {
   "cell_type": "code",
   "execution_count": 2,
   "metadata": {},
   "outputs": [],
   "source": [
    "originaldf = pd.read_csv('datasets/v3_clean_nooutliers.csv')"
   ]
  },
  {
   "cell_type": "code",
   "execution_count": 3,
   "metadata": {},
   "outputs": [],
   "source": [
    "df3 = pd.read_csv('datasets/model3_withdummies.csv')"
   ]
  },
  {
   "cell_type": "markdown",
   "metadata": {},
   "source": [
    "## Linear Regression Model - 3"
   ]
  },
  {
   "cell_type": "code",
   "execution_count": 4,
   "metadata": {},
   "outputs": [],
   "source": [
    "## For this model - 'Lot Area', 'Total Bsmt SF', 'Bedroom AbvGr' + most of dummy variables\n",
    "targets3 = df3['log_SalePrice']\n",
    "## Inputs everything except the target & SalePrice\n",
    "inputs3 = df3.drop(columns=['log_SalePrice','Id'],axis=1)"
   ]
  },
  {
   "cell_type": "code",
   "execution_count": 5,
   "metadata": {},
   "outputs": [],
   "source": [
    "## Using stats model first"
   ]
  },
  {
   "cell_type": "code",
   "execution_count": 6,
   "metadata": {},
   "outputs": [],
   "source": [
    "Input = sm.add_constant(inputs3)"
   ]
  },
  {
   "cell_type": "code",
   "execution_count": 7,
   "metadata": {},
   "outputs": [],
   "source": [
    "results = sm.OLS(targets3,inputs3).fit()"
   ]
  },
  {
   "cell_type": "code",
   "execution_count": 8,
   "metadata": {},
   "outputs": [
    {
     "data": {
      "text/html": [
       "<table class=\"simpletable\">\n",
       "<caption>OLS Regression Results</caption>\n",
       "<tr>\n",
       "  <th>Dep. Variable:</th>      <td>log_SalePrice</td>  <th>  R-squared (uncentered):</th>      <td>   0.999</td> \n",
       "</tr>\n",
       "<tr>\n",
       "  <th>Model:</th>                   <td>OLS</td>       <th>  Adj. R-squared (uncentered):</th> <td>   0.999</td> \n",
       "</tr>\n",
       "<tr>\n",
       "  <th>Method:</th>             <td>Least Squares</td>  <th>  F-statistic:       </th>          <td>2.894e+04</td>\n",
       "</tr>\n",
       "<tr>\n",
       "  <th>Date:</th>             <td>Fri, 09 Apr 2021</td> <th>  Prob (F-statistic):</th>           <td>  0.00</td>  \n",
       "</tr>\n",
       "<tr>\n",
       "  <th>Time:</th>                 <td>07:01:34</td>     <th>  Log-Likelihood:    </th>          <td> -1233.1</td> \n",
       "</tr>\n",
       "<tr>\n",
       "  <th>No. Observations:</th>      <td>  1972</td>      <th>  AIC:               </th>          <td>   2560.</td> \n",
       "</tr>\n",
       "<tr>\n",
       "  <th>Df Residuals:</th>          <td>  1925</td>      <th>  BIC:               </th>          <td>   2823.</td> \n",
       "</tr>\n",
       "<tr>\n",
       "  <th>Df Model:</th>              <td>    47</td>      <th>                     </th>              <td> </td>    \n",
       "</tr>\n",
       "<tr>\n",
       "  <th>Covariance Type:</th>      <td>nonrobust</td>    <th>                     </th>              <td> </td>    \n",
       "</tr>\n",
       "</table>\n",
       "<table class=\"simpletable\">\n",
       "<tr>\n",
       "             <td></td>                <th>coef</th>     <th>std err</th>      <th>t</th>      <th>P>|t|</th>  <th>[0.025</th>    <th>0.975]</th>  \n",
       "</tr>\n",
       "<tr>\n",
       "  <th>Lot Area</th>                <td>  4.03e-05</td> <td>  4.4e-06</td> <td>    9.155</td> <td> 0.000</td> <td> 3.17e-05</td> <td> 4.89e-05</td>\n",
       "</tr>\n",
       "<tr>\n",
       "  <th>Bedroom AbvGr</th>           <td>    0.1595</td> <td>    0.017</td> <td>    9.612</td> <td> 0.000</td> <td>    0.127</td> <td>    0.192</td>\n",
       "</tr>\n",
       "<tr>\n",
       "  <th>Total Bsmt SF</th>           <td>    0.0004</td> <td>  4.7e-05</td> <td>    8.699</td> <td> 0.000</td> <td>    0.000</td> <td>    0.001</td>\n",
       "</tr>\n",
       "<tr>\n",
       "  <th>Lotshape_isRegular</th>      <td>    0.1247</td> <td>    0.025</td> <td>    5.030</td> <td> 0.000</td> <td>    0.076</td> <td>    0.173</td>\n",
       "</tr>\n",
       "<tr>\n",
       "  <th>isLotCorner</th>             <td>    0.0165</td> <td>    0.029</td> <td>    0.576</td> <td> 0.564</td> <td>   -0.040</td> <td>    0.073</td>\n",
       "</tr>\n",
       "<tr>\n",
       "  <th>isLotCulDSac</th>            <td>    0.0419</td> <td>    0.048</td> <td>    0.880</td> <td> 0.379</td> <td>   -0.052</td> <td>    0.135</td>\n",
       "</tr>\n",
       "<tr>\n",
       "  <th>isgood_overall</th>          <td>    0.0635</td> <td>    0.028</td> <td>    2.296</td> <td> 0.022</td> <td>    0.009</td> <td>    0.118</td>\n",
       "</tr>\n",
       "<tr>\n",
       "  <th>hasgood_Exterior</th>        <td>    0.4466</td> <td>    0.069</td> <td>    6.440</td> <td> 0.000</td> <td>    0.311</td> <td>    0.583</td>\n",
       "</tr>\n",
       "<tr>\n",
       "  <th>is_roofGable</th>            <td>    0.1145</td> <td>    0.028</td> <td>    4.102</td> <td> 0.000</td> <td>    0.060</td> <td>    0.169</td>\n",
       "</tr>\n",
       "<tr>\n",
       "  <th>has_masonryveneer</th>       <td>    0.0141</td> <td>    0.025</td> <td>    0.565</td> <td> 0.572</td> <td>   -0.035</td> <td>    0.063</td>\n",
       "</tr>\n",
       "<tr>\n",
       "  <th>Heating QC</th>              <td>    0.1074</td> <td>    0.015</td> <td>    7.282</td> <td> 0.000</td> <td>    0.078</td> <td>    0.136</td>\n",
       "</tr>\n",
       "<tr>\n",
       "  <th>hasgood_Basement</th>        <td>    0.1086</td> <td>    0.029</td> <td>    3.716</td> <td> 0.000</td> <td>    0.051</td> <td>    0.166</td>\n",
       "</tr>\n",
       "<tr>\n",
       "  <th>is_fullfurnished</th>        <td>    0.9243</td> <td>    0.120</td> <td>    7.681</td> <td> 0.000</td> <td>    0.688</td> <td>    1.160</td>\n",
       "</tr>\n",
       "<tr>\n",
       "  <th>has_goodGarage</th>          <td>    0.1380</td> <td>    0.045</td> <td>    3.052</td> <td> 0.002</td> <td>    0.049</td> <td>    0.227</td>\n",
       "</tr>\n",
       "<tr>\n",
       "  <th>Garage Cars</th>             <td>    0.0454</td> <td>    0.022</td> <td>    2.079</td> <td> 0.038</td> <td>    0.003</td> <td>    0.088</td>\n",
       "</tr>\n",
       "<tr>\n",
       "  <th>Street_isPaved</th>          <td>    5.8217</td> <td>    0.144</td> <td>   40.410</td> <td> 0.000</td> <td>    5.539</td> <td>    6.104</td>\n",
       "</tr>\n",
       "<tr>\n",
       "  <th>total_half_baths</th>        <td>    0.1456</td> <td>    0.025</td> <td>    5.863</td> <td> 0.000</td> <td>    0.097</td> <td>    0.194</td>\n",
       "</tr>\n",
       "<tr>\n",
       "  <th>total_full_baths</th>        <td>    0.1440</td> <td>    0.019</td> <td>    7.496</td> <td> 0.000</td> <td>    0.106</td> <td>    0.182</td>\n",
       "</tr>\n",
       "<tr>\n",
       "  <th>has_centralAir</th>          <td>    0.1735</td> <td>    0.051</td> <td>    3.401</td> <td> 0.001</td> <td>    0.073</td> <td>    0.274</td>\n",
       "</tr>\n",
       "<tr>\n",
       "  <th>is_remodeled</th>            <td>   -0.0440</td> <td>    0.039</td> <td>   -1.122</td> <td> 0.262</td> <td>   -0.121</td> <td>    0.033</td>\n",
       "</tr>\n",
       "<tr>\n",
       "  <th>has_1pluskitchen</th>        <td>    0.9037</td> <td>    0.089</td> <td>   10.116</td> <td> 0.000</td> <td>    0.728</td> <td>    1.079</td>\n",
       "</tr>\n",
       "<tr>\n",
       "  <th>has_goodkitchen</th>         <td>   -0.0223</td> <td>    0.032</td> <td>   -0.707</td> <td> 0.480</td> <td>   -0.084</td> <td>    0.040</td>\n",
       "</tr>\n",
       "<tr>\n",
       "  <th>is_fullyfunctional</th>      <td>    0.4379</td> <td>    0.045</td> <td>    9.744</td> <td> 0.000</td> <td>    0.350</td> <td>    0.526</td>\n",
       "</tr>\n",
       "<tr>\n",
       "  <th>has_fireplace</th>           <td>   -0.0012</td> <td>    0.025</td> <td>   -0.049</td> <td> 0.961</td> <td>   -0.051</td> <td>    0.048</td>\n",
       "</tr>\n",
       "<tr>\n",
       "  <th>has_detachedGarage</th>      <td>    0.1101</td> <td>    0.031</td> <td>    3.577</td> <td> 0.000</td> <td>    0.050</td> <td>    0.170</td>\n",
       "</tr>\n",
       "<tr>\n",
       "  <th>has_miscFeatures</th>        <td>    0.1132</td> <td>    0.060</td> <td>    1.881</td> <td> 0.060</td> <td>   -0.005</td> <td>    0.231</td>\n",
       "</tr>\n",
       "<tr>\n",
       "  <th>has_pool</th>                <td>    0.1565</td> <td>    0.191</td> <td>    0.821</td> <td> 0.412</td> <td>   -0.217</td> <td>    0.530</td>\n",
       "</tr>\n",
       "<tr>\n",
       "  <th>has_woodDeck</th>            <td>   -0.0005</td> <td>    0.023</td> <td>   -0.020</td> <td> 0.984</td> <td>   -0.046</td> <td>    0.045</td>\n",
       "</tr>\n",
       "<tr>\n",
       "  <th>has_Porch</th>               <td>    0.0636</td> <td>    0.026</td> <td>    2.450</td> <td> 0.014</td> <td>    0.013</td> <td>    0.114</td>\n",
       "</tr>\n",
       "<tr>\n",
       "  <th>has_paveddriveway</th>       <td>    0.1546</td> <td>    0.046</td> <td>    3.355</td> <td> 0.001</td> <td>    0.064</td> <td>    0.245</td>\n",
       "</tr>\n",
       "<tr>\n",
       "  <th>isNeigh_collgcr_oldtown</th> <td>   -0.0938</td> <td>    0.030</td> <td>   -3.087</td> <td> 0.002</td> <td>   -0.153</td> <td>   -0.034</td>\n",
       "</tr>\n",
       "<tr>\n",
       "  <th>is_densityHigh</th>          <td>    0.0568</td> <td>    0.027</td> <td>    2.131</td> <td> 0.033</td> <td>    0.005</td> <td>    0.109</td>\n",
       "</tr>\n",
       "<tr>\n",
       "  <th>Foundation_CBlock</th>       <td>    0.4534</td> <td>    0.046</td> <td>    9.826</td> <td> 0.000</td> <td>    0.363</td> <td>    0.544</td>\n",
       "</tr>\n",
       "<tr>\n",
       "  <th>Foundation_PConc</th>        <td>    0.3098</td> <td>    0.052</td> <td>    5.948</td> <td> 0.000</td> <td>    0.208</td> <td>    0.412</td>\n",
       "</tr>\n",
       "<tr>\n",
       "  <th>Foundation_Slab</th>         <td>    0.1396</td> <td>    0.144</td> <td>    0.972</td> <td> 0.331</td> <td>   -0.142</td> <td>    0.421</td>\n",
       "</tr>\n",
       "<tr>\n",
       "  <th>Foundation_Stone</th>        <td>   -0.0496</td> <td>    0.209</td> <td>   -0.238</td> <td> 0.812</td> <td>   -0.459</td> <td>    0.360</td>\n",
       "</tr>\n",
       "<tr>\n",
       "  <th>Foundation_Wood</th>         <td>    0.3102</td> <td>    0.331</td> <td>    0.938</td> <td> 0.348</td> <td>   -0.338</td> <td>    0.959</td>\n",
       "</tr>\n",
       "<tr>\n",
       "  <th>proximity_to_far</th>        <td>    0.1705</td> <td>    0.071</td> <td>    2.411</td> <td> 0.016</td> <td>    0.032</td> <td>    0.309</td>\n",
       "</tr>\n",
       "<tr>\n",
       "  <th>proximity_to_veryClose</th>  <td>   -0.1107</td> <td>    0.034</td> <td>   -3.211</td> <td> 0.001</td> <td>   -0.178</td> <td>   -0.043</td>\n",
       "</tr>\n",
       "<tr>\n",
       "  <th>Bldg_type_Single</th>        <td>    1.6147</td> <td>    0.093</td> <td>   17.367</td> <td> 0.000</td> <td>    1.432</td> <td>    1.797</td>\n",
       "</tr>\n",
       "<tr>\n",
       "  <th>Bldg_type_TownHouse</th>     <td>    1.8703</td> <td>    0.098</td> <td>   18.989</td> <td> 0.000</td> <td>    1.677</td> <td>    2.063</td>\n",
       "</tr>\n",
       "<tr>\n",
       "  <th>House_style_1_story</th>     <td>    0.3576</td> <td>    0.043</td> <td>    8.317</td> <td> 0.000</td> <td>    0.273</td> <td>    0.442</td>\n",
       "</tr>\n",
       "<tr>\n",
       "  <th>House_style_2&2.5_story</th> <td>    0.2517</td> <td>    0.044</td> <td>    5.716</td> <td> 0.000</td> <td>    0.165</td> <td>    0.338</td>\n",
       "</tr>\n",
       "<tr>\n",
       "  <th>House_style_Splitlevel</th>  <td>    0.5232</td> <td>    0.059</td> <td>    8.873</td> <td> 0.000</td> <td>    0.408</td> <td>    0.639</td>\n",
       "</tr>\n",
       "<tr>\n",
       "  <th>house_age_Contemporary</th>  <td>    0.2198</td> <td>    0.060</td> <td>    3.694</td> <td> 0.000</td> <td>    0.103</td> <td>    0.337</td>\n",
       "</tr>\n",
       "<tr>\n",
       "  <th>house_age_Medieval</th>      <td>    0.1774</td> <td>    0.047</td> <td>    3.780</td> <td> 0.000</td> <td>    0.085</td> <td>    0.269</td>\n",
       "</tr>\n",
       "<tr>\n",
       "  <th>house_age_Stone-age</th>     <td>    0.6435</td> <td>    0.047</td> <td>   13.605</td> <td> 0.000</td> <td>    0.551</td> <td>    0.736</td>\n",
       "</tr>\n",
       "</table>\n",
       "<table class=\"simpletable\">\n",
       "<tr>\n",
       "  <th>Omnibus:</th>       <td>2586.339</td> <th>  Durbin-Watson:     </th>  <td>   1.995</td> \n",
       "</tr>\n",
       "<tr>\n",
       "  <th>Prob(Omnibus):</th>  <td> 0.000</td>  <th>  Jarque-Bera (JB):  </th> <td>745530.880</td>\n",
       "</tr>\n",
       "<tr>\n",
       "  <th>Skew:</th>           <td> 6.990</td>  <th>  Prob(JB):          </th>  <td>    0.00</td> \n",
       "</tr>\n",
       "<tr>\n",
       "  <th>Kurtosis:</th>       <td>97.223</td>  <th>  Cond. No.          </th>  <td>3.22e+05</td> \n",
       "</tr>\n",
       "</table><br/><br/>Notes:<br/>[1] R² is computed without centering (uncentered) since the model does not contain a constant.<br/>[2] Standard Errors assume that the covariance matrix of the errors is correctly specified.<br/>[3] The condition number is large, 3.22e+05. This might indicate that there are<br/>strong multicollinearity or other numerical problems."
      ],
      "text/plain": [
       "<class 'statsmodels.iolib.summary.Summary'>\n",
       "\"\"\"\n",
       "                                 OLS Regression Results                                \n",
       "=======================================================================================\n",
       "Dep. Variable:          log_SalePrice   R-squared (uncentered):                   0.999\n",
       "Model:                            OLS   Adj. R-squared (uncentered):              0.999\n",
       "Method:                 Least Squares   F-statistic:                          2.894e+04\n",
       "Date:                Fri, 09 Apr 2021   Prob (F-statistic):                        0.00\n",
       "Time:                        07:01:34   Log-Likelihood:                         -1233.1\n",
       "No. Observations:                1972   AIC:                                      2560.\n",
       "Df Residuals:                    1925   BIC:                                      2823.\n",
       "Df Model:                          47                                                  \n",
       "Covariance Type:            nonrobust                                                  \n",
       "===========================================================================================\n",
       "                              coef    std err          t      P>|t|      [0.025      0.975]\n",
       "-------------------------------------------------------------------------------------------\n",
       "Lot Area                  4.03e-05    4.4e-06      9.155      0.000    3.17e-05    4.89e-05\n",
       "Bedroom AbvGr               0.1595      0.017      9.612      0.000       0.127       0.192\n",
       "Total Bsmt SF               0.0004    4.7e-05      8.699      0.000       0.000       0.001\n",
       "Lotshape_isRegular          0.1247      0.025      5.030      0.000       0.076       0.173\n",
       "isLotCorner                 0.0165      0.029      0.576      0.564      -0.040       0.073\n",
       "isLotCulDSac                0.0419      0.048      0.880      0.379      -0.052       0.135\n",
       "isgood_overall              0.0635      0.028      2.296      0.022       0.009       0.118\n",
       "hasgood_Exterior            0.4466      0.069      6.440      0.000       0.311       0.583\n",
       "is_roofGable                0.1145      0.028      4.102      0.000       0.060       0.169\n",
       "has_masonryveneer           0.0141      0.025      0.565      0.572      -0.035       0.063\n",
       "Heating QC                  0.1074      0.015      7.282      0.000       0.078       0.136\n",
       "hasgood_Basement            0.1086      0.029      3.716      0.000       0.051       0.166\n",
       "is_fullfurnished            0.9243      0.120      7.681      0.000       0.688       1.160\n",
       "has_goodGarage              0.1380      0.045      3.052      0.002       0.049       0.227\n",
       "Garage Cars                 0.0454      0.022      2.079      0.038       0.003       0.088\n",
       "Street_isPaved              5.8217      0.144     40.410      0.000       5.539       6.104\n",
       "total_half_baths            0.1456      0.025      5.863      0.000       0.097       0.194\n",
       "total_full_baths            0.1440      0.019      7.496      0.000       0.106       0.182\n",
       "has_centralAir              0.1735      0.051      3.401      0.001       0.073       0.274\n",
       "is_remodeled               -0.0440      0.039     -1.122      0.262      -0.121       0.033\n",
       "has_1pluskitchen            0.9037      0.089     10.116      0.000       0.728       1.079\n",
       "has_goodkitchen            -0.0223      0.032     -0.707      0.480      -0.084       0.040\n",
       "is_fullyfunctional          0.4379      0.045      9.744      0.000       0.350       0.526\n",
       "has_fireplace              -0.0012      0.025     -0.049      0.961      -0.051       0.048\n",
       "has_detachedGarage          0.1101      0.031      3.577      0.000       0.050       0.170\n",
       "has_miscFeatures            0.1132      0.060      1.881      0.060      -0.005       0.231\n",
       "has_pool                    0.1565      0.191      0.821      0.412      -0.217       0.530\n",
       "has_woodDeck               -0.0005      0.023     -0.020      0.984      -0.046       0.045\n",
       "has_Porch                   0.0636      0.026      2.450      0.014       0.013       0.114\n",
       "has_paveddriveway           0.1546      0.046      3.355      0.001       0.064       0.245\n",
       "isNeigh_collgcr_oldtown    -0.0938      0.030     -3.087      0.002      -0.153      -0.034\n",
       "is_densityHigh              0.0568      0.027      2.131      0.033       0.005       0.109\n",
       "Foundation_CBlock           0.4534      0.046      9.826      0.000       0.363       0.544\n",
       "Foundation_PConc            0.3098      0.052      5.948      0.000       0.208       0.412\n",
       "Foundation_Slab             0.1396      0.144      0.972      0.331      -0.142       0.421\n",
       "Foundation_Stone           -0.0496      0.209     -0.238      0.812      -0.459       0.360\n",
       "Foundation_Wood             0.3102      0.331      0.938      0.348      -0.338       0.959\n",
       "proximity_to_far            0.1705      0.071      2.411      0.016       0.032       0.309\n",
       "proximity_to_veryClose     -0.1107      0.034     -3.211      0.001      -0.178      -0.043\n",
       "Bldg_type_Single            1.6147      0.093     17.367      0.000       1.432       1.797\n",
       "Bldg_type_TownHouse         1.8703      0.098     18.989      0.000       1.677       2.063\n",
       "House_style_1_story         0.3576      0.043      8.317      0.000       0.273       0.442\n",
       "House_style_2&2.5_story     0.2517      0.044      5.716      0.000       0.165       0.338\n",
       "House_style_Splitlevel      0.5232      0.059      8.873      0.000       0.408       0.639\n",
       "house_age_Contemporary      0.2198      0.060      3.694      0.000       0.103       0.337\n",
       "house_age_Medieval          0.1774      0.047      3.780      0.000       0.085       0.269\n",
       "house_age_Stone-age         0.6435      0.047     13.605      0.000       0.551       0.736\n",
       "==============================================================================\n",
       "Omnibus:                     2586.339   Durbin-Watson:                   1.995\n",
       "Prob(Omnibus):                  0.000   Jarque-Bera (JB):           745530.880\n",
       "Skew:                           6.990   Prob(JB):                         0.00\n",
       "Kurtosis:                      97.223   Cond. No.                     3.22e+05\n",
       "==============================================================================\n",
       "\n",
       "Notes:\n",
       "[1] R² is computed without centering (uncentered) since the model does not contain a constant.\n",
       "[2] Standard Errors assume that the covariance matrix of the errors is correctly specified.\n",
       "[3] The condition number is large, 3.22e+05. This might indicate that there are\n",
       "strong multicollinearity or other numerical problems.\n",
       "\"\"\""
      ]
     },
     "execution_count": 8,
     "metadata": {},
     "output_type": "execute_result"
    }
   ],
   "source": [
    "results.summary()"
   ]
  },
  {
   "cell_type": "code",
   "execution_count": null,
   "metadata": {},
   "outputs": [],
   "source": []
  },
  {
   "cell_type": "code",
   "execution_count": null,
   "metadata": {},
   "outputs": [],
   "source": []
  },
  {
   "cell_type": "markdown",
   "metadata": {},
   "source": [
    "### Train Test Split"
   ]
  },
  {
   "cell_type": "code",
   "execution_count": 9,
   "metadata": {},
   "outputs": [],
   "source": [
    "x_train, x_test, y_train, y_test = train_test_split(inputs3, targets3, test_size=0.40, random_state=365)"
   ]
  },
  {
   "cell_type": "markdown",
   "metadata": {},
   "source": [
    "### Scale the data"
   ]
  },
  {
   "cell_type": "code",
   "execution_count": 10,
   "metadata": {},
   "outputs": [],
   "source": [
    "scaler3 = StandardScaler()"
   ]
  },
  {
   "cell_type": "code",
   "execution_count": 11,
   "metadata": {},
   "outputs": [],
   "source": [
    "# Fit the inputs (calculate the mean and standard deviation feature-wise)\n",
    "\n",
    "x_train_scaled = scaler3.fit_transform(x_train)\n",
    "x_test_scaled = scaler3.transform(x_test)\n",
    "\n",
    "##scaler3.fit(inputs3)"
   ]
  },
  {
   "cell_type": "code",
   "execution_count": 12,
   "metadata": {},
   "outputs": [],
   "source": [
    "##inputs3_scaled = scaler3.transform(inputs3)"
   ]
  },
  {
   "cell_type": "markdown",
   "metadata": {},
   "source": [
    " "
   ]
  },
  {
   "cell_type": "markdown",
   "metadata": {},
   "source": [
    "### Create Regression"
   ]
  },
  {
   "cell_type": "code",
   "execution_count": 13,
   "metadata": {},
   "outputs": [],
   "source": [
    "reg3 = LinearRegression()"
   ]
  },
  {
   "cell_type": "code",
   "execution_count": 14,
   "metadata": {},
   "outputs": [
    {
     "data": {
      "text/plain": [
       "LinearRegression()"
      ]
     },
     "execution_count": 14,
     "metadata": {},
     "output_type": "execute_result"
    }
   ],
   "source": [
    "reg3.fit(x_train_scaled,y_train)"
   ]
  },
  {
   "cell_type": "code",
   "execution_count": 15,
   "metadata": {},
   "outputs": [],
   "source": [
    "y_hat = reg3.predict(x_train_scaled)"
   ]
  },
  {
   "cell_type": "code",
   "execution_count": 16,
   "metadata": {},
   "outputs": [
    {
     "data": {
      "image/png": "[encoded data removed]",
      "text/plain": [
       "<Figure size 432x288 with 1 Axes>"
      ]
     },
     "metadata": {
      "needs_background": "light"
     },
     "output_type": "display_data"
    }
   ],
   "source": [
    "## Compare the targets and predictions for 'Train' set - scatterplot\n",
    "\n",
    "plt.scatter(y_train,y_hat)\n",
    "plt.xlabel('Targets (y_train)',size=13)\n",
    "plt.ylabel('Predictions (y_hat)',size=13);"
   ]
  },
  {
   "cell_type": "code",
   "execution_count": 17,
   "metadata": {},
   "outputs": [
    {
     "name": "stderr",
     "output_type": "stream",
     "text": [
      "/Users/samay20/opt/anaconda3/lib/python3.8/site-packages/seaborn/distributions.py:2551: FutureWarning: `distplot` is a deprecated function and will be removed in a future version. Please adapt your code to use either `displot` (a figure-level function with similar flexibility) or `histplot` (an axes-level function for histograms).\n",
      "  warnings.warn(msg, FutureWarning)\n"
     ]
    },
    {
     "data": {
      "image/png": "[encoded data removed]",
      "text/plain": [
       "<Figure size 432x288 with 1 Axes>"
      ]
     },
     "metadata": {
      "needs_background": "light"
     },
     "output_type": "display_data"
    }
   ],
   "source": [
    "## Residual distribution - to check for anomalies\n",
    "\n",
    "sns.distplot(y_train-y_hat)\n",
    "plt.title('Residuals PDF',size=13);"
   ]
  },
  {
   "cell_type": "code",
   "execution_count": 18,
   "metadata": {},
   "outputs": [],
   "source": [
    "## Looks like a balanced plot - normally distributed"
   ]
  },
  {
   "cell_type": "markdown",
   "metadata": {},
   "source": [
    " "
   ]
  },
  {
   "cell_type": "markdown",
   "metadata": {},
   "source": [
    "### Evaluating this model - train set"
   ]
  },
  {
   "cell_type": "code",
   "execution_count": 19,
   "metadata": {},
   "outputs": [
    {
     "data": {
      "text/plain": [
       "0.8969689008927775"
      ]
     },
     "execution_count": 19,
     "metadata": {},
     "output_type": "execute_result"
    }
   ],
   "source": [
    "reg3.score(x_train_scaled,y_train)"
   ]
  },
  {
   "cell_type": "code",
   "execution_count": 20,
   "metadata": {},
   "outputs": [],
   "source": [
    "## To calculate R2_adj later\n",
    "def r2_adj(y_true, y_preds, p):\n",
    "    n = len(y_true)\n",
    "    y_mean = np.mean(y_true)\n",
    "    numerator = np.sum(np.square(y_true - y_preds)) / (n - p - 1)\n",
    "    denominator = np.sum(np.square(y_true - y_mean)) / (n - 1)\n",
    "    return 1 - numerator / denominator"
   ]
  },
  {
   "cell_type": "code",
   "execution_count": 21,
   "metadata": {},
   "outputs": [],
   "source": [
    "def lord_of_the_metrics(y_true, y_pred, p):\n",
    "    mse = metrics.mean_squared_error(y_true, y_pred)\n",
    "    rmse = np.sqrt(mse)\n",
    "    mae = metrics.median_absolute_error(y_true, y_pred)\n",
    "    msle = metrics.mean_squared_log_error(y_true, y_pred)\n",
    "    r2 = metrics.r2_score(y_true, y_pred)\n",
    "    r2a = r2_adj(y_true, y_pred, p)\n",
    "    \n",
    "    print('Mean squared error      = ', mse)\n",
    "    print('Root mean squared error = ', rmse)\n",
    "    print('Mean squared log error = ', msle)\n",
    "    print('Median absolute error   = ', mae)\n",
    "    print('R^2                     = ', r2)\n",
    "    print('Adjusted R^2            = ', r2a)"
   ]
  },
  {
   "cell_type": "code",
   "execution_count": 22,
   "metadata": {},
   "outputs": [
    {
     "name": "stdout",
     "output_type": "stream",
     "text": [
      "Mean squared error      =  0.01619848400254202\n",
      "Root mean squared error =  0.1272732650737853\n",
      "Mean squared log error =  9.716920847805522e-05\n",
      "Median absolute error   =  0.0745769533826035\n",
      "R^2                     =  0.8969689008927775\n",
      "Adjusted R^2            =  0.892702414850452\n"
     ]
    }
   ],
   "source": [
    "lord_of_the_metrics(y_train, y_hat, inputs3.shape[1])"
   ]
  },
  {
   "cell_type": "code",
   "execution_count": null,
   "metadata": {},
   "outputs": [],
   "source": []
  },
  {
   "cell_type": "markdown",
   "metadata": {},
   "source": [
    " "
   ]
  },
  {
   "cell_type": "markdown",
   "metadata": {},
   "source": [
    "### Finding Coefs & Intercepts"
   ]
  },
  {
   "cell_type": "code",
   "execution_count": 23,
   "metadata": {},
   "outputs": [
    {
     "data": {
      "text/plain": [
       "12.01719513888616"
      ]
     },
     "execution_count": 23,
     "metadata": {},
     "output_type": "execute_result"
    }
   ],
   "source": [
    "reg3.intercept_"
   ]
  },
  {
   "cell_type": "code",
   "execution_count": 24,
   "metadata": {},
   "outputs": [
    {
     "data": {
      "text/plain": [
       "array([ 0.04873968,  0.01190994,  0.12893818, -0.00344123, -0.00277083,\n",
       "       -0.00178655,  0.06136952,  0.01228853, -0.01323214,  0.00534696,\n",
       "        0.00874995,  0.02628387,  0.03097348,  0.01832124,  0.03796265,\n",
       "        0.00861689,  0.02581744,  0.05253855,  0.01861865,  0.01505743,\n",
       "       -0.01544228,  0.02015635,  0.0238813 ,  0.03531095, -0.01435877,\n",
       "        0.0049392 ,  0.01077805, -0.00104049,  0.01308249,  0.03100889,\n",
       "       -0.02113956,  0.00135949, -0.01637693,  0.00243453,  0.00107573,\n",
       "        0.00264606,  0.0006584 ,  0.00487701, -0.01143797,  0.00645257,\n",
       "        0.00388349, -0.03962862,  0.02411698, -0.00502497,  0.04813793,\n",
       "        0.02560269,  0.00545816])"
      ]
     },
     "execution_count": 24,
     "metadata": {},
     "output_type": "execute_result"
    }
   ],
   "source": [
    "reg3.coef_"
   ]
  },
  {
   "cell_type": "code",
   "execution_count": 25,
   "metadata": {},
   "outputs": [
    {
     "data": {
      "text/html": [
       "<div>\n",
       "<style scoped>\n",
       "    .dataframe tbody tr th:only-of-type {\n",
       "        vertical-align: middle;\n",
       "    }\n",
       "\n",
       "    .dataframe tbody tr th {\n",
       "        vertical-align: top;\n",
       "    }\n",
       "\n",
       "    .dataframe thead th {\n",
       "        text-align: right;\n",
       "    }\n",
       "</style>\n",
       "<table border=\"1\" class=\"dataframe\">\n",
       "  <thead>\n",
       "    <tr style=\"text-align: right;\">\n",
       "      <th></th>\n",
       "      <th>Features</th>\n",
       "      <th>Coefficients</th>\n",
       "    </tr>\n",
       "  </thead>\n",
       "  <tbody>\n",
       "    <tr>\n",
       "      <th>0</th>\n",
       "      <td>Lot Area</td>\n",
       "      <td>0.048740</td>\n",
       "    </tr>\n",
       "    <tr>\n",
       "      <th>1</th>\n",
       "      <td>Bedroom AbvGr</td>\n",
       "      <td>0.011910</td>\n",
       "    </tr>\n",
       "    <tr>\n",
       "      <th>2</th>\n",
       "      <td>Total Bsmt SF</td>\n",
       "      <td>0.128938</td>\n",
       "    </tr>\n",
       "  </tbody>\n",
       "</table>\n",
       "</div>"
      ],
      "text/plain": [
       "        Features  Coefficients\n",
       "0       Lot Area      0.048740\n",
       "1  Bedroom AbvGr      0.011910\n",
       "2  Total Bsmt SF      0.128938"
      ]
     },
     "execution_count": 25,
     "metadata": {},
     "output_type": "execute_result"
    }
   ],
   "source": [
    "## reg2 summary\n",
    "reg3_summary = pd.DataFrame(inputs3.columns.values, columns=['Features'])\n",
    "reg3_summary['Coefficients'] = reg3.coef_\n",
    "reg3_summary.head(3)"
   ]
  },
  {
   "cell_type": "code",
   "execution_count": null,
   "metadata": {},
   "outputs": [],
   "source": []
  },
  {
   "cell_type": "markdown",
   "metadata": {},
   "source": [
    " "
   ]
  },
  {
   "cell_type": "markdown",
   "metadata": {},
   "source": [
    "### Test-1"
   ]
  },
  {
   "cell_type": "code",
   "execution_count": 26,
   "metadata": {},
   "outputs": [],
   "source": [
    "y_hat_test = reg3.predict(x_test_scaled)"
   ]
  },
  {
   "cell_type": "code",
   "execution_count": 27,
   "metadata": {},
   "outputs": [
    {
     "data": {
      "image/png": "[encoded data removed]",
      "text/plain": [
       "<Figure size 432x288 with 1 Axes>"
      ]
     },
     "metadata": {
      "needs_background": "light"
     },
     "output_type": "display_data"
    }
   ],
   "source": [
    "## Compare the targets and predictions for 'Train' set - scatterplot\n",
    "\n",
    "plt.scatter(y_test,y_hat_test)\n",
    "plt.xlabel('Targets (y_train)',size=13)\n",
    "plt.ylabel('Predictions (y_hat)',size=13);"
   ]
  },
  {
   "cell_type": "code",
   "execution_count": 28,
   "metadata": {},
   "outputs": [
    {
     "name": "stdout",
     "output_type": "stream",
     "text": [
      "Mean squared error      =  0.01932792953606038\n",
      "Root mean squared error =  0.13902492415412562\n",
      "Mean squared log error =  0.00011604254125434513\n",
      "Median absolute error   =  0.07943899672412336\n",
      "R^2                     =  0.8721408430961564\n",
      "Adjusted R^2            =  0.8640310180293809\n"
     ]
    }
   ],
   "source": [
    "lord_of_the_metrics(y_test, y_hat_test, inputs3.shape[1])"
   ]
  },
  {
   "cell_type": "code",
   "execution_count": 29,
   "metadata": {},
   "outputs": [
    {
     "data": {
      "text/plain": [
       "0.8721408430961564"
      ]
     },
     "execution_count": 29,
     "metadata": {},
     "output_type": "execute_result"
    }
   ],
   "source": [
    "reg3.score(x_test_scaled,y_test)"
   ]
  },
  {
   "cell_type": "code",
   "execution_count": 30,
   "metadata": {},
   "outputs": [
    {
     "data": {
      "text/plain": [
       "0.8638448050487719"
      ]
     },
     "execution_count": 30,
     "metadata": {},
     "output_type": "execute_result"
    }
   ],
   "source": [
    "cross_val_score(reg3,x_test,y_test, cv=10).mean()"
   ]
  },
  {
   "cell_type": "code",
   "execution_count": null,
   "metadata": {},
   "outputs": [],
   "source": []
  },
  {
   "cell_type": "code",
   "execution_count": 33,
   "metadata": {},
   "outputs": [],
   "source": [
    "## Better results than Model#2 but still needs improvement - underfitted Model"
   ]
  },
  {
   "cell_type": "markdown",
   "metadata": {},
   "source": [
    " "
   ]
  },
  {
   "cell_type": "markdown",
   "metadata": {},
   "source": [
    "- [BACK TO TOP](#MLR-Model#3)"
   ]
  },
  {
   "cell_type": "code",
   "execution_count": null,
   "metadata": {},
   "outputs": [],
   "source": []
  }
 ],
 "metadata": {
  "kernelspec": {
   "display_name": "Python 3",
   "language": "python",
   "name": "python3"
  },
  "language_info": {
   "codemirror_mode": {
    "name": "ipython",
    "version": 3
   },
   "file_extension": ".py",
   "mimetype": "text/x-python",
   "name": "python",
   "nbconvert_exporter": "python",
   "pygments_lexer": "ipython3",
   "version": "3.8.5"
  }
 },
 "nbformat": 4,
 "nbformat_minor": 4
}
